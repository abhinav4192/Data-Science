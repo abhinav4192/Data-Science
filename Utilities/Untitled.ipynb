{
 "cells": [
  {
   "cell_type": "code",
   "execution_count": 14,
   "metadata": {},
   "outputs": [
    {
     "name": "stdout",
     "output_type": "stream",
     "text": [
      "8481\n",
      "8884\n"
     ]
    }
   ],
   "source": [
    "import pandas as pd\n",
    "import matplotlib.pyplot as plt\n",
    "dfH = pd.read_json(\"/Users/abhinavgarg/DataScience/HltbScrappy/outHltb.json\")\n",
    "dfG = pd.read_json(\"/Users/abhinavgarg/DataScience/GameSpotScrappy/outGamespot.json\")\n",
    "print(len(dfH))\n",
    "print(len(dfG))\n",
    "locSaveHltb = \"/Users/abhinavgarg/Projects/Data-Science/stage2/howLongToBeat.csv\"\n",
    "locSaveGamespot = \"/Users/abhinavgarg/Projects/Data-Science/stage2/Gamespot.csv\"\n",
    "keys = [\"Title\", \"Developer\", \"Publisher\", \"Platform\", \"Genre\", \"ReleaseDate\", \"Rating\"]"
   ]
  },
  {
   "cell_type": "code",
   "execution_count": null,
   "metadata": {},
   "outputs": [],
   "source": []
  },
  {
   "cell_type": "code",
   "execution_count": 16,
   "metadata": {},
   "outputs": [],
   "source": [
    "dfH.to_csv(locSaveHltb,index=False,columns=keys)"
   ]
  },
  {
   "cell_type": "code",
   "execution_count": 17,
   "metadata": {},
   "outputs": [],
   "source": [
    "dfH.to_csv(locSaveGamespot,index=False,columns=keys)"
   ]
  }
 ],
 "metadata": {
  "kernelspec": {
   "display_name": "Python 3",
   "language": "python",
   "name": "python3"
  },
  "language_info": {
   "codemirror_mode": {
    "name": "ipython",
    "version": 3
   },
   "file_extension": ".py",
   "mimetype": "text/x-python",
   "name": "python",
   "nbconvert_exporter": "python",
   "pygments_lexer": "ipython3",
   "version": "3.6.4"
  }
 },
 "nbformat": 4,
 "nbformat_minor": 2
}
