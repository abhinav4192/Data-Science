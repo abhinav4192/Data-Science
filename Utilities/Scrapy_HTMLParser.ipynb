{
 "cells": [
  {
   "cell_type": "code",
   "execution_count": 1,
   "metadata": {},
   "outputs": [],
   "source": [
    "# Settings for notebook\n",
    "from IPython.core.interactiveshell import InteractiveShell\n",
    "InteractiveShell.ast_node_interactivity = \"all\"\n",
    "# Show Python version\n",
    "import platform\n",
    "platform.python_version()\n",
    "\n",
    "import scrapy\n",
    "import logging\n",
    "from scrapy.crawler import CrawlerProcess"
   ]
  },
  {
   "cell_type": "code",
   "execution_count": 2,
   "metadata": {},
   "outputs": [],
   "source": [
    "class GamespotSpider(scrapy.Spider):\n",
    "    name = \"gamespot\"\n",
    "    start_urls = [\n",
    "        'http://www.gamespot.com/batman-arkham-knight/',\n",
    "        'file:///127.0.0.1/C:/gitRepo/Data-Science/gameSpot/gameSpot_HTML/2-fast-2-furious.html'\n",
    "    ]\n",
    "    \n",
    "    custom_settings = {\n",
    "        'LOG_LEVEL': logging.WARNING,\n",
    "    }\n",
    "    def parse(self, response):\n",
    "        gsTitle = response.xpath('//dl[@class=\"pod-objectStats-info\"]/dt/h3/a[contains(@data-event-tracking,\"Title\")]/text()').extract_first()\n",
    "        gsRelease = response.css('dd.pod-objectStats-info__release').re_first(r'<span>*(.*)</span>')\n",
    "        gsPlatform = response.xpath('//dd[@class=\"pod-objectStats-info__systems\"]/ul[@class=\"system-list\"]/li/text()').extract()\n",
    "        gsRating = response.css('div.gs-score__cell::text').extract_first()\n",
    "        gsRatingClass = response.css('span.breakdown-reviewScores__scoreWord::text').extract_first()\n",
    "        gsUserRating = response.xpath('//dt/a[contains(@data-event-tracking,\"UserReviewScore\")]/text()').extract_first()\n",
    "        gsNumUserRating = response.xpath('//dl[contains(@class,\"breakdown-reviewScores__userAvg\")]').re_first(r'Average Rating</strong>*(.* )')\n",
    "        \n",
    "        gsMetaDiv = response.xpath('//dl[@class=\"pod-objectStats-additional\"]')\n",
    "        gsDev = gsMetaDiv.xpath('//dd/a[contains(@data-event-tracking,\"Developer\")]/text()').extract()\n",
    "        gsPub = gsMetaDiv.xpath('//dd/a[contains(@data-event-tracking,\"Publisher\")]/text()').extract()\n",
    "        gsMetaGenre = gsMetaDiv.xpath('//dd/a[contains(@data-event-tracking,\"Genre\")]/text()').extract()\n",
    "        gsMetaTheme = gsMetaDiv.xpath('//dd/a[contains(@data-event-tracking,\"Theme\")]/text()').extract()\n",
    "        \n",
    "        div3 = response.css('div.pod-objectStats__esrb')\n",
    "        div3_1= div3.css('dl')\n",
    "        gsESRB = div3_1.css('dt::text').extract()\n",
    "        gsESRBDesc = div3_1.css('dd::text').extract_first().strip()\n",
    "        \n",
    "        print (gsTitle.strip())\n",
    "        print (gsRelease)\n",
    "        print (gsPlatform)\n",
    "        print (gsRating.strip())\n",
    "        print (gsRatingClass)\n",
    "        print (gsUserRating)\n",
    "        print (gsNumUserRating)\n",
    "        print (gsDev)\n",
    "        print (gsPub)\n",
    "        print (gsMetaGenre)\n",
    "        print (gsMetaTheme)\n",
    "        print (gsESRB)\n",
    "        print (gsESRBDesc)\n",
    "        \n",
    "#         gsStudio = gsStudio1.css('dd::text').extract()\n",
    "#         print (gsStudio)\n",
    "        #print (response.css('dl.pod-objectStats-additional').extract())\n",
    "#         for quote in response.css('div.quote'):\n",
    "#             yield {\n",
    "#                 'text': quote.css('span.text::text').extract_first(),\n",
    "#                 'author': quote.css('span small::text').extract_first(),\n",
    "#                 'tags': quote.css('div.tags a.tag::text').extract(),\n",
    "#             }"
   ]
  },
  {
   "cell_type": "code",
   "execution_count": 3,
   "metadata": {},
   "outputs": [
    {
     "name": "stderr",
     "output_type": "stream",
     "text": [
      "2018-03-13 11:44:32 [scrapy.utils.log] INFO: Scrapy 1.5.0 started (bot: scrapybot)\n",
      "2018-03-13 11:44:32 [scrapy.utils.log] INFO: Versions: lxml 3.7.3.0, libxml2 2.9.4, cssselect 1.0.3, parsel 1.4.0, w3lib 1.19.0, Twisted 17.5.0, Python 3.6.1 |Anaconda custom (64-bit)| (default, May 11 2017, 13:25:24) [MSC v.1900 64 bit (AMD64)], pyOpenSSL 17.0.0 (OpenSSL 1.0.2n  7 Dec 2017), cryptography 1.8.1, Platform Windows-10-10.0.16299-SP0\n",
      "2018-03-13 11:44:32 [scrapy.crawler] INFO: Overridden settings: {'LOG_LEVEL': 30, 'USER_AGENT': 'Mozilla/4.0 (compatible; MSIE 7.0; Windows NT 5.1)'}\n"
     ]
    },
    {
     "data": {
      "text/plain": [
       "<Deferred at 0x216f2eefa90>"
      ]
     },
     "execution_count": 3,
     "metadata": {},
     "output_type": "execute_result"
    },
    {
     "name": "stdout",
     "output_type": "stream",
     "text": [
      "2 Fast 2 Furious\n",
      "Dec 11, 2004\n",
      "['Mobile']\n",
      "6.3\n",
      "Fair\n",
      "7.3\n",
      "52 \n",
      "['I-Play']\n",
      "['I-Play']\n",
      "['Arcade', 'Driving/Racing']\n",
      "[]\n",
      "['Everyone']\n",
      "\n",
      "Batman: Arkham Knight\n",
      "Jun 23, 2015\n",
      "['PC', 'PlayStation 4', 'Xbox One']\n",
      "7\n",
      "Good\n",
      "8.1\n",
      "692 \n",
      "['Rocksteady Studios', 'Iron Galaxy Studios', 'WB Games Montreal']\n",
      "['Warner Bros. Interactive Entertainment']\n",
      "['Action', 'Adventure']\n",
      "['Fantasy']\n",
      "['Mature']\n",
      "Blood, Language, Suggestive Themes, Violence\n"
     ]
    }
   ],
   "source": [
    "process = CrawlerProcess({\n",
    "    'USER_AGENT': 'Mozilla/4.0 (compatible; MSIE 7.0; Windows NT 5.1)'\n",
    "})\n",
    "\n",
    "process.crawl(GamespotSpider)\n",
    "process.start()\n"
   ]
  },
  {
   "cell_type": "code",
   "execution_count": null,
   "metadata": {
    "collapsed": true
   },
   "outputs": [],
   "source": []
  },
  {
   "cell_type": "code",
   "execution_count": null,
   "metadata": {
    "collapsed": true
   },
   "outputs": [],
   "source": []
  }
 ],
 "metadata": {
  "kernelspec": {
   "display_name": "Python 3",
   "language": "python",
   "name": "python3"
  },
  "language_info": {
   "codemirror_mode": {
    "name": "ipython",
    "version": 3
   },
   "file_extension": ".py",
   "mimetype": "text/x-python",
   "name": "python",
   "nbconvert_exporter": "python",
   "pygments_lexer": "ipython3",
   "version": "3.6.1"
  }
 },
 "nbformat": 4,
 "nbformat_minor": 2
}
