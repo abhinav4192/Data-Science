{
 "cells": [
  {
   "cell_type": "code",
   "execution_count": 28,
   "metadata": {
    "collapsed": true
   },
   "outputs": [],
   "source": [
    "import os\n",
    "from os.path import isfile, join\n",
    "import logging\n",
    "import re\n",
    "import commonUtils"
   ]
  },
  {
   "cell_type": "code",
   "execution_count": 29,
   "metadata": {
    "collapsed": true
   },
   "outputs": [],
   "source": [
    "markupStart = '[['\n",
    "markupEnd = ']]'\n",
    "rePattern = re.compile('\\[\\[[^\\[\\]]*\\]\\]')"
   ]
  },
  {
   "cell_type": "code",
   "execution_count": 30,
   "metadata": {
    "collapsed": true
   },
   "outputs": [],
   "source": [
    "def getRegexMatches(fileText):\n",
    "    matches = list()\n",
    "    for i,m in enumerate(rePattern.finditer(fileText)):\n",
    "        matchedText = m.group().strip(markupStart).strip(markupEnd)\n",
    "        matches.append([m.start()-i*4,len(matchedText),matchedText])\n",
    "    return matches\n",
    "\n",
    "def getUniqueNames(matches):\n",
    "    uniqueNames = set()\n",
    "    for _,_,name in matches:\n",
    "        for partName in name.split(' '):\n",
    "            if(partName.endswith('\\'s')):\n",
    "                partName = partName[:-2]\n",
    "            partName = partName.rstrip('\\'')\n",
    "            uniqueNames.add(partName)\n",
    "    return uniqueNames"
   ]
  },
  {
   "cell_type": "code",
   "execution_count": 31,
   "metadata": {
    "collapsed": true
   },
   "outputs": [],
   "source": [
    "def validateSquareBrackets(fileText,fileName):\n",
    "    markupStartCount = fileText.count(markupStart)\n",
    "    markupEndCount = fileText.count(markupEnd)\n",
    "    if markupStartCount != markupEndCount:\n",
    "        logging.error(\" ValidateSquareBrackets failed: {} {}: {} {}: {}\"\n",
    "               .format(fileName.split('/')[-1],markupStart,markupStartCount,markupEnd,markupEndCount))\n",
    "        return False\n",
    "    return True\n",
    "\n",
    "def validateOccurences(fileText,fileName):\n",
    "    global totalMarkups,totalUniqueMarkups\n",
    "    matches = getRegexMatches(fileText)\n",
    "    totalMarkups+=len(matches)\n",
    "    matchesDict = dict()\n",
    "    \n",
    "    for i,_,name in matches:\n",
    "        currStartOffset = 0;\n",
    "        for partName in name.split(' '):\n",
    "            currStartIndex = i + currStartOffset;\n",
    "            currStartOffset+= len(partName)+1\n",
    "            if(partName.endswith('\\'s')):\n",
    "                partName = partName[:-2]\n",
    "            partName = partName.rstrip('\\'')\n",
    "            matchesDict[currStartIndex] = partName\n",
    "\n",
    "    uniqueNames = getUniqueNames(matches)\n",
    "    totalUniqueMarkups |=uniqueNames\n",
    "    fileTextOrig = fileText.replace(markupStart,'').replace(markupEnd,'')\n",
    "    for un in sorted(uniqueNames):\n",
    "        if len(un)<=1:\n",
    "            continue\n",
    "        unPattern = re.compile('')\n",
    "        try:\n",
    "            unPattern = re.compile(r'\\b'+ un+ r'\\b')\n",
    "        except:\n",
    "            logging.error(\" validateOccurences {} : Possible wrong markup: {} \".format(fileName.split('/')[-1],un))\n",
    "            continue\n",
    "        occurences = [m.start() for m in unPattern.finditer(fileTextOrig)]\n",
    "        for occ in occurences:\n",
    "            if occ > 0 and fileTextOrig[occ-1]!=' ':\n",
    "                continue;\n",
    "            if occ not in matchesDict:\n",
    "                logging.error(\" validateOccurences {} : {} not marked around location {}\".format(fileName.split('/')[-1],un,occ))\n",
    "                continue\n",
    "            if matchesDict[occ]!=un :\n",
    "                logging.error(\" validateOccurences {} : {} invalid match around location {}\".format(fileName.split('/')[-1],un,occ))\n",
    "            \n",
    "\n",
    "def validateFile(fileName):\n",
    "    fileText = open(fileName).read()\n",
    "    if not validateSquareBrackets(fileText,fileName):\n",
    "        return\n",
    "    validateOccurences(fileText,fileName)\n",
    "\n",
    "\n",
    "def checkAgainstAllMarkups(fileText,fileName):\n",
    "    matches = getRegexMatches(fileText)\n",
    "    matchesDict = dict()\n",
    "    global totalUniqueMarkups\n",
    "    for i,_,name in matches:\n",
    "        currStartOffset = 0;\n",
    "        for partName in name.split(' '):\n",
    "            currStartIndex = i + currStartOffset;\n",
    "            currStartOffset+= len(partName)+1\n",
    "            if(partName.endswith('\\'s')):\n",
    "                partName = partName[:-2]\n",
    "            matchesDict[currStartIndex] = partName\n",
    "\n",
    "    fileTextOrig = fileText.replace(markupStart,'').replace(markupEnd,'')\n",
    "    for un in sorted(totalUniqueMarkups):\n",
    "        if len(un)<=1:\n",
    "            continue\n",
    "        unPattern = re.compile('')\n",
    "        try:\n",
    "            unPattern = re.compile(r'\\b'+ un+ r'\\b')\n",
    "        except:\n",
    "            continue\n",
    "        occurences = [m.start() for m in unPattern.finditer(fileTextOrig)]\n",
    "        for occ in occurences:\n",
    "            if occ > 0 and fileTextOrig[occ-1]!=' ':\n",
    "                continue;\n",
    "            if occ not in matchesDict:\n",
    "                logging.error(\" checkAgainstAllMarkups {} : {} not marked around location {}\".format(fileName.split('/')[-1],un,occ))\n",
    "                continue\n",
    "    "
   ]
  },
  {
   "cell_type": "code",
   "execution_count": 34,
   "metadata": {},
   "outputs": [
    {
     "name": "stderr",
     "output_type": "stream",
     "text": [
      "ERROR:root: validateOccurences 094.txt : Inzamam invalid match around location 301\n",
      "ERROR:root: validateOccurences 224.txt : Ireland not marked around location 1821\n",
      "ERROR:root: validateOccurences 340.txt : Bedford not marked around location 592\n"
     ]
    },
    {
     "name": "stdout",
     "output_type": "stream",
     "text": [
      "totalMarkups: 3951\n",
      "totalUniqueMarkups: 1599\n"
     ]
    }
   ],
   "source": [
    "folderNames = ['Abhinav','Bidyut','Chirayu']\n",
    "folderPath = '../dataset_markup/'\n",
    "totalMarkups = 0\n",
    "totalUniqueMarkups = set()\n",
    "for fileName in commonUtils.getAllFiles(folderNames,folderPath):\n",
    "    validateFile(fileName)\n",
    "print(\"totalMarkups:\",totalMarkups)\n",
    "print(\"totalUniqueMarkups:\",len(totalUniqueMarkups))"
   ]
  },
  {
   "cell_type": "code",
   "execution_count": 33,
   "metadata": {},
   "outputs": [
    {
     "name": "stderr",
     "output_type": "stream",
     "text": [
      "ERROR:root: checkAgainstAllMarkups 006.txt : Friday not marked around location 1132\n",
      "ERROR:root: checkAgainstAllMarkups 015.txt : Friday not marked around location 414\n",
      "ERROR:root: checkAgainstAllMarkups 019.txt : James not marked around location 190\n",
      "ERROR:root: checkAgainstAllMarkups 020.txt : de not marked around location 580\n",
      "ERROR:root: checkAgainstAllMarkups 024.txt : Jose not marked around location 29\n",
      "ERROR:root: checkAgainstAllMarkups 024.txt : Jose not marked around location 377\n",
      "ERROR:root: checkAgainstAllMarkups 034.txt : Holland not marked around location 967\n",
      "ERROR:root: checkAgainstAllMarkups 034.txt : de not marked around location 1130\n",
      "ERROR:root: checkAgainstAllMarkups 040.txt : James not marked around location 1224\n",
      "ERROR:root: checkAgainstAllMarkups 043.txt : Milan not marked around location 1062\n",
      "ERROR:root: checkAgainstAllMarkups 049.txt : Holland not marked around location 434\n",
      "ERROR:root: checkAgainstAllMarkups 058.txt : Charlton not marked around location 756\n",
      "ERROR:root: checkAgainstAllMarkups 058.txt : White not marked around location 141\n",
      "ERROR:root: checkAgainstAllMarkups 062.txt : Friday not marked around location 1253\n",
      "ERROR:root: checkAgainstAllMarkups 063.txt : Cadena not marked around location 770\n",
      "ERROR:root: checkAgainstAllMarkups 063.txt : May not marked around location 1609\n",
      "ERROR:root: checkAgainstAllMarkups 069.txt : Friday not marked around location 300\n",
      "ERROR:root: checkAgainstAllMarkups 072.txt : Friday not marked around location 1043\n",
      "ERROR:root: checkAgainstAllMarkups 078.txt : Bridge not marked around location 738\n",
      "ERROR:root: checkAgainstAllMarkups 084.txt : Friday not marked around location 161\n",
      "ERROR:root: checkAgainstAllMarkups 085.txt : Friday not marked around location 1226\n",
      "ERROR:root: checkAgainstAllMarkups 086.txt : May not marked around location 1283\n",
      "ERROR:root: checkAgainstAllMarkups 097.txt : Owen not marked around location 21\n",
      "ERROR:root: checkAgainstAllMarkups 098.txt : de not marked around location 714\n",
      "ERROR:root: checkAgainstAllMarkups 304.txt : Bridge not marked around location 759\n",
      "ERROR:root: checkAgainstAllMarkups 304.txt : Friday not marked around location 240\n",
      "ERROR:root: checkAgainstAllMarkups 304.txt : Milan not marked around location 1211\n",
      "ERROR:root: checkAgainstAllMarkups 305.txt : Friday not marked around location 222\n",
      "ERROR:root: checkAgainstAllMarkups 106.txt : May not marked around location 238\n",
      "ERROR:root: checkAgainstAllMarkups 112.txt : Friday not marked around location 189\n",
      "ERROR:root: checkAgainstAllMarkups 118.txt : May not marked around location 281\n",
      "ERROR:root: checkAgainstAllMarkups 120.txt : Friday not marked around location 1373\n",
      "ERROR:root: checkAgainstAllMarkups 122.txt : Holland not marked around location 912\n",
      "ERROR:root: checkAgainstAllMarkups 148.txt : North not marked around location 310\n",
      "ERROR:root: checkAgainstAllMarkups 151.txt : Friday not marked around location 332\n",
      "ERROR:root: checkAgainstAllMarkups 151.txt : Friday not marked around location 457\n",
      "ERROR:root: checkAgainstAllMarkups 153.txt : Jose not marked around location 28\n",
      "ERROR:root: checkAgainstAllMarkups 153.txt : Jose not marked around location 212\n",
      "ERROR:root: checkAgainstAllMarkups 154.txt : May not marked around location 1561\n",
      "ERROR:root: checkAgainstAllMarkups 154.txt : May not marked around location 1621\n",
      "ERROR:root: checkAgainstAllMarkups 156.txt : North not marked around location 133\n",
      "ERROR:root: checkAgainstAllMarkups 157.txt : Friday not marked around location 888\n",
      "ERROR:root: checkAgainstAllMarkups 157.txt : Friday not marked around location 1567\n",
      "ERROR:root: checkAgainstAllMarkups 162.txt : Jose not marked around location 200\n",
      "ERROR:root: checkAgainstAllMarkups 175.txt : Friday not marked around location 87\n",
      "ERROR:root: checkAgainstAllMarkups 178.txt : May not marked around location 105\n",
      "ERROR:root: checkAgainstAllMarkups 179.txt : Holland not marked around location 151\n",
      "ERROR:root: checkAgainstAllMarkups 191.txt : de not marked around location 639\n"
     ]
    },
    {
     "ename": "KeyboardInterrupt",
     "evalue": "",
     "output_type": "error",
     "traceback": [
      "\u001b[0;31m---------------------------------------------------------------------------\u001b[0m",
      "\u001b[0;31mKeyboardInterrupt\u001b[0m                         Traceback (most recent call last)",
      "\u001b[0;32m<ipython-input-33-84f9f0a787a8>\u001b[0m in \u001b[0;36m<module>\u001b[0;34m()\u001b[0m\n\u001b[1;32m      5\u001b[0m         \u001b[0;32mif\u001b[0m \u001b[0mfileName\u001b[0m\u001b[0;34m.\u001b[0m\u001b[0mendswith\u001b[0m\u001b[0;34m(\u001b[0m\u001b[0;34m'.txt'\u001b[0m\u001b[0;34m)\u001b[0m \u001b[0;32mand\u001b[0m \u001b[0misfile\u001b[0m\u001b[0;34m(\u001b[0m\u001b[0mfileName\u001b[0m\u001b[0;34m)\u001b[0m\u001b[0;34m:\u001b[0m\u001b[0;34m\u001b[0m\u001b[0m\n\u001b[1;32m      6\u001b[0m             \u001b[0mfileText\u001b[0m \u001b[0;34m=\u001b[0m \u001b[0mopen\u001b[0m\u001b[0;34m(\u001b[0m\u001b[0mfileName\u001b[0m\u001b[0;34m)\u001b[0m\u001b[0;34m.\u001b[0m\u001b[0mread\u001b[0m\u001b[0;34m(\u001b[0m\u001b[0;34m)\u001b[0m\u001b[0;34m\u001b[0m\u001b[0m\n\u001b[0;32m----> 7\u001b[0;31m             \u001b[0mcheckAgainstAllMarkups\u001b[0m\u001b[0;34m(\u001b[0m\u001b[0mfileText\u001b[0m\u001b[0;34m,\u001b[0m\u001b[0mfileName\u001b[0m\u001b[0;34m)\u001b[0m\u001b[0;34m\u001b[0m\u001b[0m\n\u001b[0m",
      "\u001b[0;32m<ipython-input-31-36bb377ee763>\u001b[0m in \u001b[0;36mcheckAgainstAllMarkups\u001b[0;34m(fileText, fileName)\u001b[0m\n\u001b[1;32m     76\u001b[0m         \u001b[0;32mexcept\u001b[0m\u001b[0;34m:\u001b[0m\u001b[0;34m\u001b[0m\u001b[0m\n\u001b[1;32m     77\u001b[0m             \u001b[0;32mcontinue\u001b[0m\u001b[0;34m\u001b[0m\u001b[0m\n\u001b[0;32m---> 78\u001b[0;31m         \u001b[0moccurences\u001b[0m \u001b[0;34m=\u001b[0m \u001b[0;34m[\u001b[0m\u001b[0mm\u001b[0m\u001b[0;34m.\u001b[0m\u001b[0mstart\u001b[0m\u001b[0;34m(\u001b[0m\u001b[0;34m)\u001b[0m \u001b[0;32mfor\u001b[0m \u001b[0mm\u001b[0m \u001b[0;32min\u001b[0m \u001b[0munPattern\u001b[0m\u001b[0;34m.\u001b[0m\u001b[0mfinditer\u001b[0m\u001b[0;34m(\u001b[0m\u001b[0mfileTextOrig\u001b[0m\u001b[0;34m)\u001b[0m\u001b[0;34m]\u001b[0m\u001b[0;34m\u001b[0m\u001b[0m\n\u001b[0m\u001b[1;32m     79\u001b[0m         \u001b[0;32mfor\u001b[0m \u001b[0mocc\u001b[0m \u001b[0;32min\u001b[0m \u001b[0moccurences\u001b[0m\u001b[0;34m:\u001b[0m\u001b[0;34m\u001b[0m\u001b[0m\n\u001b[1;32m     80\u001b[0m             \u001b[0;32mif\u001b[0m \u001b[0mocc\u001b[0m \u001b[0;34m>\u001b[0m \u001b[0;36m0\u001b[0m \u001b[0;32mand\u001b[0m \u001b[0mfileTextOrig\u001b[0m\u001b[0;34m[\u001b[0m\u001b[0mocc\u001b[0m\u001b[0;34m-\u001b[0m\u001b[0;36m1\u001b[0m\u001b[0;34m]\u001b[0m\u001b[0;34m!=\u001b[0m\u001b[0;34m' '\u001b[0m\u001b[0;34m:\u001b[0m\u001b[0;34m\u001b[0m\u001b[0m\n",
      "\u001b[0;32m<ipython-input-31-36bb377ee763>\u001b[0m in \u001b[0;36m<listcomp>\u001b[0;34m(.0)\u001b[0m\n\u001b[1;32m     76\u001b[0m         \u001b[0;32mexcept\u001b[0m\u001b[0;34m:\u001b[0m\u001b[0;34m\u001b[0m\u001b[0m\n\u001b[1;32m     77\u001b[0m             \u001b[0;32mcontinue\u001b[0m\u001b[0;34m\u001b[0m\u001b[0m\n\u001b[0;32m---> 78\u001b[0;31m         \u001b[0moccurences\u001b[0m \u001b[0;34m=\u001b[0m \u001b[0;34m[\u001b[0m\u001b[0mm\u001b[0m\u001b[0;34m.\u001b[0m\u001b[0mstart\u001b[0m\u001b[0;34m(\u001b[0m\u001b[0;34m)\u001b[0m \u001b[0;32mfor\u001b[0m \u001b[0mm\u001b[0m \u001b[0;32min\u001b[0m \u001b[0munPattern\u001b[0m\u001b[0;34m.\u001b[0m\u001b[0mfinditer\u001b[0m\u001b[0;34m(\u001b[0m\u001b[0mfileTextOrig\u001b[0m\u001b[0;34m)\u001b[0m\u001b[0;34m]\u001b[0m\u001b[0;34m\u001b[0m\u001b[0m\n\u001b[0m\u001b[1;32m     79\u001b[0m         \u001b[0;32mfor\u001b[0m \u001b[0mocc\u001b[0m \u001b[0;32min\u001b[0m \u001b[0moccurences\u001b[0m\u001b[0;34m:\u001b[0m\u001b[0;34m\u001b[0m\u001b[0m\n\u001b[1;32m     80\u001b[0m             \u001b[0;32mif\u001b[0m \u001b[0mocc\u001b[0m \u001b[0;34m>\u001b[0m \u001b[0;36m0\u001b[0m \u001b[0;32mand\u001b[0m \u001b[0mfileTextOrig\u001b[0m\u001b[0;34m[\u001b[0m\u001b[0mocc\u001b[0m\u001b[0;34m-\u001b[0m\u001b[0;36m1\u001b[0m\u001b[0;34m]\u001b[0m\u001b[0;34m!=\u001b[0m\u001b[0;34m' '\u001b[0m\u001b[0;34m:\u001b[0m\u001b[0;34m\u001b[0m\u001b[0m\n",
      "\u001b[0;31mKeyboardInterrupt\u001b[0m: "
     ]
    }
   ],
   "source": [
    "for folderName in sorted(folderNames):\n",
    "    folderName = join(folderPath,folderName)\n",
    "    for fileName in sorted(os.listdir(folderName)):\n",
    "        fileName = join(folderName,fileName)\n",
    "        if fileName.endswith('.txt') and isfile(fileName):\n",
    "            fileText = open(fileName).read()\n",
    "            checkAgainstAllMarkups(fileText,fileName)"
   ]
  }
 ],
 "metadata": {
  "kernelspec": {
   "display_name": "Python 3",
   "language": "python",
   "name": "python3"
  },
  "language_info": {
   "codemirror_mode": {
    "name": "ipython",
    "version": 3
   },
   "file_extension": ".py",
   "mimetype": "text/x-python",
   "name": "python",
   "nbconvert_exporter": "python",
   "pygments_lexer": "ipython3",
   "version": "3.6.3"
  }
 },
 "nbformat": 4,
 "nbformat_minor": 2
}
