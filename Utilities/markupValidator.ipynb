{
 "cells": [
  {
   "cell_type": "code",
   "execution_count": null,
   "metadata": {
    "collapsed": true
   },
   "outputs": [],
   "source": [
    "import os\n",
    "from os.path import isfile, join\n",
    "import logging\n",
    "import re"
   ]
  },
  {
   "cell_type": "code",
   "execution_count": null,
   "metadata": {
    "collapsed": true
   },
   "outputs": [],
   "source": [
    "markupStart = '[['\n",
    "markupEnd = ']]'\n",
    "rePattern = re.compile('\\[\\[[^\\[\\]]*\\]\\]')"
   ]
  },
  {
   "cell_type": "code",
   "execution_count": null,
   "metadata": {
    "collapsed": true
   },
   "outputs": [],
   "source": [
    "def getRegexMatches(fileText):\n",
    "    matches = list()\n",
    "    for i,m in enumerate(rePattern.finditer(fileText)):\n",
    "        matchedText = m.group().strip(markupStart).strip(markupEnd)\n",
    "        matches.append([m.start()-i*4,len(matchedText),matchedText])\n",
    "    return matches\n",
    "\n",
    "def getUniqueNames(matches):\n",
    "    uniqueNames = set()\n",
    "    for _,_,name in matches:\n",
    "        for partName in name.split(' '):\n",
    "            if(partName.endswith('\\'s')):\n",
    "                partName = partName[:-2]\n",
    "            uniqueNames.add(partName)\n",
    "    return uniqueNames"
   ]
  },
  {
   "cell_type": "code",
   "execution_count": null,
   "metadata": {},
   "outputs": [],
   "source": [
    "def validateSquareBrackets(fileText,fileName):\n",
    "    markupStartCount = fileText.count(markupStart)\n",
    "    markupEndCount = fileText.count(markupEnd)\n",
    "    if markupStartCount != markupEndCount:\n",
    "        logging.error (\" ValidateSquareBrackets failed: {} {}: {} {}: {}\"\n",
    "               .format(fileName.split('/')[-1],markupStart,markupStartCount,markupEnd,markupEndCount))\n",
    "        return False\n",
    "    return True\n",
    "\n",
    "def validateOccurences(fileText,fileName):\n",
    "    matches = getRegexMatches(fileText)\n",
    "    matchesDict = dict()\n",
    "    \n",
    "    for i,_,name in matches:\n",
    "        currStartOffset = 0;\n",
    "        for partName in name.split(' '):\n",
    "            currStartIndex = i + currStartOffset;\n",
    "            currStartOffset+= len(partName)+1\n",
    "            if(partName.endswith('\\'s')):\n",
    "                partName = partName[:-2]\n",
    "            matchesDict[currStartIndex] = partName\n",
    "\n",
    "    uniqueNames = getUniqueNames(matches)\n",
    "    fileTextOrig = fileText.replace(markupStart,'').replace(markupEnd,'')\n",
    "    for un in sorted(uniqueNames):\n",
    "        unPattern = re.compile('')\n",
    "        try:\n",
    "            unPattern = re.compile(r'\\b'+ un+ r'\\b')\n",
    "        except:\n",
    "            logging.error(\" validateOccurences {} Possible wrong markup: {} \".format(fileName.split('/')[-1],un))\n",
    "            continue\n",
    "        occurences = [m.start() for m in unPattern.finditer(fileTextOrig)]\n",
    "        for occ in occurences:\n",
    "            if occ > 0 and fileTextOrig[occ-1]!=' ':\n",
    "                continue;\n",
    "            if occ not in matchesDict:\n",
    "                logging.error(\" validateOccurences {} : {} not marked around location {}\".format(fileName.split('/')[-1],un,occ))\n",
    "                continue\n",
    "            if matchesDict[occ]!=un :\n",
    "                logging.error(\" validateOccurences {} : {} invalid match around location {}\".format(fileName.split('/')[-1],un,occ))\n",
    "            \n",
    "\n",
    "def validateFile(fileName):\n",
    "    fileText = open(fileName).read()\n",
    "    if not validateSquareBrackets(fileText,fileName):\n",
    "        return\n",
    "    validateOccurences(fileText,fileName)\n",
    "\n",
    "        \n",
    "    "
   ]
  },
  {
   "cell_type": "code",
   "execution_count": null,
   "metadata": {},
   "outputs": [],
   "source": [
    "folderNames = ['Abhinav','Bidyut']\n",
    "folderPath = '../dataset_markup/'\n",
    "\n",
    "for folderName in sorted(folderNames):\n",
    "    folderName = join(folderPath,folderName)\n",
    "    for fileName in sorted(os.listdir(folderName)):\n",
    "        fileName = join(folderName,fileName)\n",
    "        if fileName.endswith('.txt') and isfile(fileName):\n",
    "            validateFile(fileName)"
   ]
  }
 ],
 "metadata": {
  "kernelspec": {
   "display_name": "Python 3",
   "language": "python",
   "name": "python3"
  },
  "language_info": {
   "codemirror_mode": {
    "name": "ipython",
    "version": 3
   },
   "file_extension": ".py",
   "mimetype": "text/x-python",
   "name": "python",
   "nbconvert_exporter": "python",
   "pygments_lexer": "ipython3",
   "version": "3.6.3"
  }
 },
 "nbformat": 4,
 "nbformat_minor": 2
}
