{
 "cells": [
  {
   "cell_type": "code",
   "execution_count": 36,
   "metadata": {
    "collapsed": true
   },
   "outputs": [],
   "source": [
    "import os\n",
    "from os.path import isfile, join\n",
    "import logging\n",
    "import re\n"
   ]
  },
  {
   "cell_type": "code",
   "execution_count": 37,
   "metadata": {
    "collapsed": true
   },
   "outputs": [],
   "source": [
    "markupStart = '[['\n",
    "markupEnd = ']]'\n",
    "rePattern = re.compile('\\[\\[[^\\[\\]]*\\]\\]')"
   ]
  },
  {
   "cell_type": "code",
   "execution_count": 38,
   "metadata": {
    "collapsed": true
   },
   "outputs": [],
   "source": [
    "def getRegexMatches(fileText):\n",
    "    matches = list()\n",
    "    for i,m in enumerate(rePattern.finditer(fileText)):\n",
    "        matchedText = m.group().strip(markupStart).strip(markupEnd)\n",
    "        matches.append([m.start()-i*4,len(matchedText),matchedText])\n",
    "    return matches\n",
    "\n",
    "def getUniqueNames(matches):\n",
    "    uniqueNames = set()\n",
    "    for _,_,name in matches:\n",
    "        for partName in name.split(' '):\n",
    "            if(partName.endswith('\\'s')):\n",
    "                partName = partName[:-2]\n",
    "            uniqueNames.add(partName)\n",
    "    return uniqueNames"
   ]
  },
  {
   "cell_type": "code",
   "execution_count": 71,
   "metadata": {},
   "outputs": [],
   "source": [
    "def validateSquareBrackets(fileText,fileName):\n",
    "    markupStartCount = fileText.count(markupStart)\n",
    "    markupEndCount = fileText.count(markupEnd)\n",
    "    if markupStartCount != markupEndCount:\n",
    "        logging.error(\" ValidateSquareBrackets failed: {} {}: {} {}: {}\"\n",
    "               .format(fileName.split('/')[-1],markupStart,markupStartCount,markupEnd,markupEndCount))\n",
    "        return False\n",
    "    return True\n",
    "\n",
    "def validateOccurences(fileText,fileName):\n",
    "    global totalMarkups,totalUniqueMarkups\n",
    "    matches = getRegexMatches(fileText)\n",
    "    totalMarkups+=len(matches)\n",
    "    matchesDict = dict()\n",
    "    \n",
    "    for i,_,name in matches:\n",
    "        currStartOffset = 0;\n",
    "        for partName in name.split(' '):\n",
    "            currStartIndex = i + currStartOffset;\n",
    "            currStartOffset+= len(partName)+1\n",
    "            if(partName.endswith('\\'s')):\n",
    "                partName = partName[:-2]\n",
    "            matchesDict[currStartIndex] = partName\n",
    "\n",
    "    uniqueNames = getUniqueNames(matches)\n",
    "    totalUniqueMarkups |=uniqueNames\n",
    "    fileTextOrig = fileText.replace(markupStart,'').replace(markupEnd,'')\n",
    "    for un in sorted(uniqueNames):\n",
    "        if len(un)<=1:\n",
    "            continue\n",
    "        unPattern = re.compile('')\n",
    "        try:\n",
    "            unPattern = re.compile(r'\\b'+ un+ r'\\b')\n",
    "        except:\n",
    "            logging.error(\" validateOccurences {} : Possible wrong markup: {} \".format(fileName.split('/')[-1],un))\n",
    "            continue\n",
    "        occurences = [m.start() for m in unPattern.finditer(fileTextOrig)]\n",
    "        for occ in occurences:\n",
    "            if occ > 0 and fileTextOrig[occ-1]!=' ':\n",
    "                continue;\n",
    "            if occ not in matchesDict:\n",
    "                logging.error(\" validateOccurences {} : {} not marked around location {}\".format(fileName.split('/')[-1],un,occ))\n",
    "                continue\n",
    "            if matchesDict[occ]!=un :\n",
    "                logging.error(\" validateOccurences {} : {} invalid match around location {}\".format(fileName.split('/')[-1],un,occ))\n",
    "            \n",
    "\n",
    "def validateFile(fileName):\n",
    "    fileText = open(fileName).read()\n",
    "    if not validateSquareBrackets(fileText,fileName):\n",
    "        return\n",
    "    validateOccurences(fileText,fileName)\n",
    "\n",
    "\n",
    "def checkAgainstAllMarkups(fileText,fileName):\n",
    "    matches = getRegexMatches(fileText)\n",
    "    matchesDict = dict()\n",
    "    global totalUniqueMarkups\n",
    "    for i,_,name in matches:\n",
    "        currStartOffset = 0;\n",
    "        for partName in name.split(' '):\n",
    "            currStartIndex = i + currStartOffset;\n",
    "            currStartOffset+= len(partName)+1\n",
    "            if(partName.endswith('\\'s')):\n",
    "                partName = partName[:-2]\n",
    "            matchesDict[currStartIndex] = partName\n",
    "\n",
    "    fileTextOrig = fileText.replace(markupStart,'').replace(markupEnd,'')\n",
    "    for un in sorted(totalUniqueMarkups):\n",
    "        if len(un)<=1:\n",
    "            continue\n",
    "        unPattern = re.compile('')\n",
    "        try:\n",
    "            unPattern = re.compile(r'\\b'+ un+ r'\\b')\n",
    "        except:\n",
    "            continue\n",
    "        occurences = [m.start() for m in unPattern.finditer(fileTextOrig)]\n",
    "        for occ in occurences:\n",
    "            if occ > 0 and fileTextOrig[occ-1]!=' ':\n",
    "                continue;\n",
    "            if occ not in matchesDict:\n",
    "                logging.error(\" checkAgainstAllMarkups {} : {} not marked around location {}\".format(fileName.split('/')[-1],un,occ))\n",
    "                continue\n",
    "    "
   ]
  },
  {
   "cell_type": "code",
   "execution_count": 137,
   "metadata": {},
   "outputs": [
    {
     "name": "stderr",
     "output_type": "stream",
     "text": [
      "ERROR:root: validateOccurences 094.txt : Inzamam invalid match around location 301\n"
     ]
    },
    {
     "name": "stdout",
     "output_type": "stream",
     "text": [
      "totalMarkups: 1266\n",
      "totalUniqueMarkups: 741\n"
     ]
    }
   ],
   "source": [
    "folderNames = ['Abhinav']\n",
    "folderPath = '../dataset_markup/'\n",
    "totalMarkups = 0\n",
    "totalUniqueMarkups = set()\n",
    "for folderName in sorted(folderNames):\n",
    "    folderName = join(folderPath,folderName)\n",
    "    for fileName in sorted(os.listdir(folderName)):\n",
    "        fileName = join(folderName,fileName)\n",
    "        if fileName.endswith('.txt') and isfile(fileName):\n",
    "            validateFile(fileName)\n",
    "print(\"totalMarkups:\",totalMarkups)\n",
    "print(\"totalUniqueMarkups:\",len(totalUniqueMarkups))"
   ]
  },
  {
   "cell_type": "code",
   "execution_count": 138,
   "metadata": {},
   "outputs": [
    {
     "name": "stderr",
     "output_type": "stream",
     "text": [
      "ERROR:root: checkAgainstAllMarkups 019.txt : James not marked around location 190\n",
      "ERROR:root: checkAgainstAllMarkups 020.txt : de not marked around location 580\n",
      "ERROR:root: checkAgainstAllMarkups 024.txt : Jose not marked around location 29\n",
      "ERROR:root: checkAgainstAllMarkups 024.txt : Jose not marked around location 377\n",
      "ERROR:root: checkAgainstAllMarkups 030.txt : Davis not marked around location 1204\n",
      "ERROR:root: checkAgainstAllMarkups 034.txt : de not marked around location 1130\n",
      "ERROR:root: checkAgainstAllMarkups 040.txt : James not marked around location 1224\n",
      "ERROR:root: checkAgainstAllMarkups 043.txt : Milan not marked around location 1062\n",
      "ERROR:root: checkAgainstAllMarkups 055.txt : Davis not marked around location 636\n",
      "ERROR:root: checkAgainstAllMarkups 055.txt : Davis not marked around location 850\n",
      "ERROR:root: checkAgainstAllMarkups 058.txt : White not marked around location 141\n",
      "ERROR:root: checkAgainstAllMarkups 063.txt : May not marked around location 1609\n",
      "ERROR:root: checkAgainstAllMarkups 086.txt : May not marked around location 1283\n",
      "ERROR:root: checkAgainstAllMarkups 098.txt : de not marked around location 714\n",
      "ERROR:root: checkAgainstAllMarkups 304.txt : Milan not marked around location 1211\n",
      "ERROR:root: checkAgainstAllMarkups 305.txt : Davis not marked around location 43\n"
     ]
    }
   ],
   "source": [
    "for folderName in sorted(folderNames):\n",
    "    folderName = join(folderPath,folderName)\n",
    "    for fileName in sorted(os.listdir(folderName)):\n",
    "        fileName = join(folderName,fileName)\n",
    "        if fileName.endswith('.txt') and isfile(fileName):\n",
    "            fileText = open(fileName).read()\n",
    "            checkAgainstAllMarkups(fileText,fileName)"
   ]
  }
 ],
 "metadata": {
  "kernelspec": {
   "display_name": "Python 3",
   "language": "python",
   "name": "python3"
  },
  "language_info": {
   "codemirror_mode": {
    "name": "ipython",
    "version": 3
   },
   "file_extension": ".py",
   "mimetype": "text/x-python",
   "name": "python",
   "nbconvert_exporter": "python",
   "pygments_lexer": "ipython3",
   "version": "3.6.3"
  }
 },
 "nbformat": 4,
 "nbformat_minor": 2
}
