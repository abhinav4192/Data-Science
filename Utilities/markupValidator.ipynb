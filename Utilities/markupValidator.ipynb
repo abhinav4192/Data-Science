{
 "cells": [
  {
   "cell_type": "code",
   "execution_count": 83,
   "metadata": {
    "collapsed": true
   },
   "outputs": [],
   "source": [
    "import os\n",
    "from os.path import isfile, join\n",
    "import logging\n",
    "import re"
   ]
  },
  {
   "cell_type": "code",
   "execution_count": 129,
   "metadata": {
    "collapsed": true
   },
   "outputs": [],
   "source": [
    "markupStart = '[['\n",
    "markupEnd = ']]'\n",
    "rePattern = re.compile('\\[\\[[^\\[\\]]*\\]\\]')"
   ]
  },
  {
   "cell_type": "code",
   "execution_count": null,
   "metadata": {
    "collapsed": true
   },
   "outputs": [],
   "source": [
    "def getRegexMatches(fileText):\n",
    "    matches = list()\n",
    "    for i,m in enumerate(rePattern.finditer(fileText)):\n",
    "        matchedText = m.group().strip(markupStart).strip(markupEnd)\n",
    "        matches.append([m.start()-i*4,len(matchedText),matchedText])\n",
    "    return matches\n",
    "\n",
    "def getUniqueNames(matches):\n",
    "    uniqueNames = set()\n",
    "    for _,_,name in matches:\n",
    "        for partName in name.split(' '):\n",
    "            if(partName.endswith('\\'s')):\n",
    "                partName = partName[:-2]\n",
    "            uniqueNames.add(partName)\n",
    "    return uniqueNames"
   ]
  },
  {
   "cell_type": "code",
   "execution_count": 260,
   "metadata": {},
   "outputs": [],
   "source": [
    "def validateSquareBrackets(fileText,fileName):\n",
    "    markupStartCount = fileText.count(markupStart)\n",
    "    markupEndCount = fileText.count(markupEnd)\n",
    "    if markupStartCount != markupEndCount:\n",
    "        logging.error (\" ValidateSquareBrackets failed: {} markupStartCount: {} markupEndCount {}\"\n",
    "               .format(fileName.split('/')[-1],markupStartCount,markupEndCount))\n",
    "\n",
    "def validateOccurences(fileText,fileName):\n",
    "    matches = getRegexMatches(fileText)\n",
    "    matchesDict = dict()\n",
    "    \n",
    "    for i,_,name in matches:\n",
    "        currStartOffset = 0;\n",
    "        for partName in name.split(' '):\n",
    "            currStartIndex = i + currStartOffset;\n",
    "            currStartOffset+= len(partName)+1\n",
    "            if(partName.endswith('\\'s')):\n",
    "                partName = partName[:-2]\n",
    "            matchesDict[currStartIndex] = partName\n",
    "\n",
    "    uniqueNames = getUniqueNames(matches)\n",
    "    fileTextOrig = fileText.replace(markupStart,'').replace(markupEnd,'')\n",
    "    for un in sorted(uniqueNames):\n",
    "        \n",
    "        occurences = [m.start() for m in re.finditer(un, fileTextOrig)]\n",
    "        for occ in occurences:\n",
    "            if occ not in matchesDict:\n",
    "                logging.error(\" validateOccurences {} : {} not marked at location {}\".format(fileName.split('/')[-1],un,occ))\n",
    "            else:\n",
    "                if matchesDict[occ]!=un :\n",
    "                    logging.error(\" validateOccurences {} : {} invalid match at location {}\".format(fileName.split('/')[-1],un,occ))\n",
    "            \n",
    "\n",
    "def validateFile(fileName):\n",
    "    fileText = open(fileName).read()\n",
    "    validateSquareBrackets(fileText,fileName)\n",
    "    validateOccurences(fileText,fileName)\n",
    "\n",
    "        \n",
    "    "
   ]
  },
  {
   "cell_type": "code",
   "execution_count": 261,
   "metadata": {},
   "outputs": [
    {
     "name": "stderr",
     "output_type": "stream",
     "text": [
      "ERROR:root: validateOccurences 001.txt : Pugh not marked at location 1269\n",
      "ERROR:root: validateOccurences 005.txt : van not marked at location 327\n",
      "ERROR:root: validateOccurences 013.txt : de not marked at location 624\n",
      "ERROR:root: validateOccurences 013.txt : de not marked at location 678\n",
      "ERROR:root: validateOccurences 013.txt : de not marked at location 929\n",
      "ERROR:root: validateOccurences 020.txt : Gethin not marked at location 1806\n",
      "ERROR:root: validateOccurences 020.txt : Jones not marked at location 1319\n",
      "ERROR:root: validateOccurences 020.txt : Mefin not marked at location 1658\n",
      "ERROR:root: validateOccurences 024.txt : Dane not marked at location 1229\n",
      "ERROR:root: validateOccurences 027.txt : Chester not marked at location 15\n",
      "ERROR:root: validateOccurences 027.txt : Chester not marked at location 55\n",
      "ERROR:root: validateOccurences 027.txt : Chester not marked at location 152\n",
      "ERROR:root: validateOccurences 027.txt : Chester not marked at location 577\n",
      "ERROR:root: validateOccurences 027.txt : Chester not marked at location 921\n",
      "ERROR:root: validateOccurences 027.txt : Chester not marked at location 1163\n",
      "ERROR:root: validateOccurences 302.txt : Steve invalid match at location 1505\n",
      "ERROR:root: validateOccurences 303.txt : Wood not marked at location 1043\n"
     ]
    }
   ],
   "source": [
    "folderNames = ['Abhinav']\n",
    "folderPath = '../dataset_markup/'\n",
    "\n",
    "for folderName in sorted(folderNames):\n",
    "    folderName = join(folderPath,folderName)\n",
    "    for fileName in sorted(os.listdir(folderName)):\n",
    "        fileName = join(folderName,fileName)\n",
    "        if fileName.endswith('.txt') and isfile(fileName):\n",
    "            validateFile(fileName)"
   ]
  }
 ],
 "metadata": {
  "kernelspec": {
   "display_name": "Python 3",
   "language": "python",
   "name": "python3"
  },
  "language_info": {
   "codemirror_mode": {
    "name": "ipython",
    "version": 3
   },
   "file_extension": ".py",
   "mimetype": "text/x-python",
   "name": "python",
   "nbconvert_exporter": "python",
   "pygments_lexer": "ipython3",
   "version": "3.6.3"
  }
 },
 "nbformat": 4,
 "nbformat_minor": 2
}
