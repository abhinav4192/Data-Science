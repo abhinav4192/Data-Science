{
 "cells": [
  {
   "cell_type": "code",
   "execution_count": 7,
   "metadata": {},
   "outputs": [],
   "source": [
    "import os\n",
    "from os.path import isfile, join\n",
    "import logging\n",
    "import re\n",
    "import commonUtils\n",
    "import constants"
   ]
  },
  {
   "cell_type": "code",
   "execution_count": 11,
   "metadata": {},
   "outputs": [],
   "source": [
    "def getCleanedWordListFromFile(fileName):\n",
    "    wordlist = []\n",
    "    fileText = open(fileName).read()\n",
    "    for line in fileText.splitlines():\n",
    "        for pattern in constants.nullReplaceList:\n",
    "            line = line.replace(pattern,'')\n",
    "        for pattern in constants.spaceReplaceList:\n",
    "            line = line.replace(pattern,' ')\n",
    "        for word in line.split(' '):\n",
    "            word = word.strip('\\'')\n",
    "            word = word.replace(\"[[[\",\"[[\")\n",
    "            word = word.replace(\"]]]\",\"]]\")\n",
    "            if(len(word)>=1):\n",
    "                wordlist.append(word)\n",
    "    return wordlist\n",
    "\n",
    "def getStringCombinationsFromWordList(wordlist):\n",
    "    allPossibeStringCombinations = []\n",
    "    for i in range(0,len(wordlist)):\n",
    "        currString = \"\"\n",
    "        for j in range(0,3):\n",
    "            if(i+j>=len(wordlist)):\n",
    "                break\n",
    "            if wordlist[i+j].lower() in [ig.lower() for ig in constants.wordsToIgnoreList]:\n",
    "                break\n",
    "            if any(char.isdigit() for char in wordlist[i+j]) :\n",
    "                break\n",
    "            if j > 0:\n",
    "                currString+=' '\n",
    "            currString+= wordlist[i+j]\n",
    "            if len(currString.strip(' ')) >=1:\n",
    "                allPossibeStringCombinations.append([currString.strip(' '),i,i+j])\n",
    "    return allPossibeStringCombinations\n",
    "\n",
    "\n",
    "def getPositivesAndNegatives(allPossibeStringCombinations):\n",
    "    positive = []\n",
    "    negative = []\n",
    "    for s,i,j in allPossibeStringCombinations:\n",
    "        if s.startswith('[[') and s.endswith(']]'):\n",
    "            if (\"[\" not in s[2:-2]) and (\"]\" not in s[2:-2]):\n",
    "                positive.append([s,i,j])\n",
    "            else:\n",
    "                negative.append([s,i,j])\n",
    "        else:\n",
    "            negative.append([s,i,j])\n",
    "    return positive,negative\n",
    "    "
   ]
  },
  {
   "cell_type": "code",
   "execution_count": 12,
   "metadata": {},
   "outputs": [
    {
     "name": "stdout",
     "output_type": "stream",
     "text": [
      "3950 81967\n"
     ]
    }
   ],
   "source": [
    "folderNames = ['Abhinav','Bidyut','Chirayu']\n",
    "folderPath = '../dataset_markup/'\n",
    "totalMarkups = 0\n",
    "totalUniqueMarkups = set()\n",
    "p_total =0\n",
    "n_total = 0\n",
    "for fileName in commonUtils.getAllFiles(folderNames,folderPath):\n",
    "    l = getStringCombinationsFromWordList(getCleanedWordListFromFile(fileName))\n",
    "    p,n = getPositivesAndNegatives(l)\n",
    "    p_total+=len(p)\n",
    "    n_total+=len(n)\n",
    "    \n",
    "print(p_total,n_total)"
   ]
  }
 ],
 "metadata": {
  "kernelspec": {
   "display_name": "Python 3",
   "language": "python",
   "name": "python3"
  },
  "language_info": {
   "codemirror_mode": {
    "name": "ipython",
    "version": 3
   },
   "file_extension": ".py",
   "mimetype": "text/x-python",
   "name": "python",
   "nbconvert_exporter": "python",
   "pygments_lexer": "ipython3",
   "version": "3.6.3"
  }
 },
 "nbformat": 4,
 "nbformat_minor": 2
}
