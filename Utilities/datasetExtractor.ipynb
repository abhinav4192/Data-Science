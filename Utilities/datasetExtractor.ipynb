{
 "cells": [
  {
   "cell_type": "code",
   "execution_count": 1,
   "metadata": {
    "collapsed": true
   },
   "outputs": [],
   "source": [
    "import os\n",
    "import random\n",
    "from os import walk"
   ]
  },
  {
   "cell_type": "code",
   "execution_count": 2,
   "metadata": {},
   "outputs": [
    {
     "name": "stdout",
     "output_type": "stream",
     "text": [
      "Total documents found:  348\n"
     ]
    }
   ],
   "source": [
    "folderNames = ['athletics','cricket','football','rugby','tennis']\n",
    "allNews = list()\n",
    "for folderName in folderNames:\n",
    "    folderName = './../dataset_bbcsport/' + folderName\n",
    "    for (dirpath, dirnames, filenames) in walk(folderName):\n",
    "        for fileName in sorted(filenames):\n",
    "            if(fileName.endswith('.txt')):\n",
    "                fileName = folderName+'/'+fileName\n",
    "                try:\n",
    "                    text = open(fileName).read()\n",
    "                    if(1000 <= len(text) <= 2000):\n",
    "                        allNews.append(text)\n",
    "                        #print (fileName)\n",
    "                except:\n",
    "                    pass\n",
    "                    #print (fileName)\n",
    "print(\"Total documents found: \",len(allNews))\n",
    "\n",
    "# WARNING: Do not run the code below. DataSet will be extracted again !\n",
    "\n",
    "# random.shuffle(allNews)\n",
    "# for counter, value in enumerate(allNews):\n",
    "#     filename =  str(counter+1).zfill(3) + \".txt\"\n",
    "#     open('./../DataSet/'+filename,'w').write(value)\n",
    "            "
   ]
  }
 ],
 "metadata": {
  "kernelspec": {
   "display_name": "Python 3",
   "language": "python",
   "name": "python3"
  },
  "language_info": {
   "codemirror_mode": {
    "name": "ipython",
    "version": 3
   },
   "file_extension": ".py",
   "mimetype": "text/x-python",
   "name": "python",
   "nbconvert_exporter": "python",
   "pygments_lexer": "ipython3",
   "version": "3.6.3"
  }
 },
 "nbformat": 4,
 "nbformat_minor": 2
}
