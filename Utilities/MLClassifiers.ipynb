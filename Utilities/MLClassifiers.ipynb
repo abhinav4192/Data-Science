{
 "cells": [
  {
   "cell_type": "code",
   "execution_count": 1,
   "metadata": {
    "collapsed": true
   },
   "outputs": [],
   "source": [
    "import numpy as np\n",
    "import os\n",
    "from sklearn import tree\n",
    "from sklearn.metrics import accuracy_score\n",
    "from sklearn.model_selection import cross_val_score\n",
    "from sklearn.metrics import recall_score\n",
    "from sklearn.metrics import f1_score\n",
    "#from sklearn.model_selection import cross_validate\n",
    "\n",
    "folderPath = '../stage1'\n",
    "trainArray = np.load(os.path.join(folderPath,'train.npy'))\n",
    "testArray = np.load(os.path.join(folderPath, 'test.npy'))\n",
    "\n",
    "trainData = trainArray[:,0:-1]\n",
    "trainLabel = trainArray[:,-1]\n",
    "\n",
    "testData = testArray[:,0:-1]\n",
    "testLabel = testArray[:,-1]"
   ]
  },
  {
   "cell_type": "code",
   "execution_count": 7,
   "metadata": {},
   "outputs": [
    {
     "name": "stdout",
     "output_type": "stream",
     "text": [
      "[ 0.95205707  0.95039814  0.95022399  0.94657375  0.95038991]\n",
      "0.962790697674\n",
      "0.665845648604\n",
      "0.605675877521\n"
     ]
    },
    {
     "ename": "InvocationException",
     "evalue": "GraphViz's executables not found",
     "output_type": "error",
     "traceback": [
      "\u001b[1;31m---------------------------------------------------------------------------\u001b[0m",
      "\u001b[1;31mInvocationException\u001b[0m                       Traceback (most recent call last)",
      "\u001b[1;32m<ipython-input-7-41f67588b01d>\u001b[0m in \u001b[0;36m<module>\u001b[1;34m()\u001b[0m\n\u001b[0;32m     20\u001b[0m \u001b[0mtree\u001b[0m\u001b[1;33m.\u001b[0m\u001b[0mexport_graphviz\u001b[0m\u001b[1;33m(\u001b[0m\u001b[0mdt\u001b[0m\u001b[1;33m,\u001b[0m \u001b[0mout_file\u001b[0m\u001b[1;33m=\u001b[0m\u001b[0mdot_data\u001b[0m\u001b[1;33m,\u001b[0m  \u001b[0mfilled\u001b[0m\u001b[1;33m=\u001b[0m\u001b[1;32mTrue\u001b[0m\u001b[1;33m,\u001b[0m \u001b[0mrounded\u001b[0m\u001b[1;33m=\u001b[0m\u001b[1;32mTrue\u001b[0m\u001b[1;33m,\u001b[0m \u001b[0mspecial_characters\u001b[0m\u001b[1;33m=\u001b[0m\u001b[1;32mTrue\u001b[0m\u001b[1;33m)\u001b[0m\u001b[1;33m\u001b[0m\u001b[0m\n\u001b[0;32m     21\u001b[0m \u001b[0mgraph\u001b[0m \u001b[1;33m=\u001b[0m \u001b[0mpydotplus\u001b[0m\u001b[1;33m.\u001b[0m\u001b[0mgraph_from_dot_data\u001b[0m\u001b[1;33m(\u001b[0m\u001b[0mdot_data\u001b[0m\u001b[1;33m.\u001b[0m\u001b[0mgetvalue\u001b[0m\u001b[1;33m(\u001b[0m\u001b[1;33m)\u001b[0m\u001b[1;33m)\u001b[0m\u001b[1;33m\u001b[0m\u001b[0m\n\u001b[1;32m---> 22\u001b[1;33m \u001b[0mImage\u001b[0m\u001b[1;33m(\u001b[0m\u001b[0mgraph\u001b[0m\u001b[1;33m.\u001b[0m\u001b[0mcreate_png\u001b[0m\u001b[1;33m(\u001b[0m\u001b[1;33m)\u001b[0m\u001b[1;33m)\u001b[0m\u001b[1;33m\u001b[0m\u001b[0m\n\u001b[0m",
      "\u001b[1;32mC:\\Anaconda3\\lib\\site-packages\\pydotplus\\graphviz.py\u001b[0m in \u001b[0;36m<lambda>\u001b[1;34m(f, prog)\u001b[0m\n\u001b[0;32m   1795\u001b[0m             self.__setattr__(\n\u001b[0;32m   1796\u001b[0m                 \u001b[1;34m'create_'\u001b[0m \u001b[1;33m+\u001b[0m \u001b[0mfrmt\u001b[0m\u001b[1;33m,\u001b[0m\u001b[1;33m\u001b[0m\u001b[0m\n\u001b[1;32m-> 1797\u001b[1;33m                 \u001b[1;32mlambda\u001b[0m \u001b[0mf\u001b[0m\u001b[1;33m=\u001b[0m\u001b[0mfrmt\u001b[0m\u001b[1;33m,\u001b[0m \u001b[0mprog\u001b[0m\u001b[1;33m=\u001b[0m\u001b[0mself\u001b[0m\u001b[1;33m.\u001b[0m\u001b[0mprog\u001b[0m\u001b[1;33m:\u001b[0m \u001b[0mself\u001b[0m\u001b[1;33m.\u001b[0m\u001b[0mcreate\u001b[0m\u001b[1;33m(\u001b[0m\u001b[0mformat\u001b[0m\u001b[1;33m=\u001b[0m\u001b[0mf\u001b[0m\u001b[1;33m,\u001b[0m \u001b[0mprog\u001b[0m\u001b[1;33m=\u001b[0m\u001b[0mprog\u001b[0m\u001b[1;33m)\u001b[0m\u001b[1;33m\u001b[0m\u001b[0m\n\u001b[0m\u001b[0;32m   1798\u001b[0m             )\n\u001b[0;32m   1799\u001b[0m             \u001b[0mf\u001b[0m \u001b[1;33m=\u001b[0m \u001b[0mself\u001b[0m\u001b[1;33m.\u001b[0m\u001b[0m__dict__\u001b[0m\u001b[1;33m[\u001b[0m\u001b[1;34m'create_'\u001b[0m \u001b[1;33m+\u001b[0m \u001b[0mfrmt\u001b[0m\u001b[1;33m]\u001b[0m\u001b[1;33m\u001b[0m\u001b[0m\n",
      "\u001b[1;32mC:\\Anaconda3\\lib\\site-packages\\pydotplus\\graphviz.py\u001b[0m in \u001b[0;36mcreate\u001b[1;34m(self, prog, format)\u001b[0m\n\u001b[0;32m   1958\u001b[0m             \u001b[1;32mif\u001b[0m \u001b[0mself\u001b[0m\u001b[1;33m.\u001b[0m\u001b[0mprogs\u001b[0m \u001b[1;32mis\u001b[0m \u001b[1;32mNone\u001b[0m\u001b[1;33m:\u001b[0m\u001b[1;33m\u001b[0m\u001b[0m\n\u001b[0;32m   1959\u001b[0m                 raise InvocationException(\n\u001b[1;32m-> 1960\u001b[1;33m                     'GraphViz\\'s executables not found')\n\u001b[0m\u001b[0;32m   1961\u001b[0m \u001b[1;33m\u001b[0m\u001b[0m\n\u001b[0;32m   1962\u001b[0m         \u001b[1;32mif\u001b[0m \u001b[0mprog\u001b[0m \u001b[1;32mnot\u001b[0m \u001b[1;32min\u001b[0m \u001b[0mself\u001b[0m\u001b[1;33m.\u001b[0m\u001b[0mprogs\u001b[0m\u001b[1;33m:\u001b[0m\u001b[1;33m\u001b[0m\u001b[0m\n",
      "\u001b[1;31mInvocationException\u001b[0m: GraphViz's executables not found"
     ]
    }
   ],
   "source": [
    "from IPython.display import Image  \n",
    "import pydotplus\n",
    "from sklearn.externals.six import StringIO\n",
    "\n",
    "dt = tree.DecisionTreeClassifier(min_samples_split=10, random_state=99)\n",
    "scores = cross_val_score(dt, trainData, trainLabel, cv=5)\n",
    "#scoring = ['precision_macro', 'recall_macro']\n",
    "#scores = cross_validate(dt, trainData, trainLabel, scoring=scoring, cv=5, return_train_score=False)\n",
    "print (scores)\n",
    "dt = dt.fit(trainData, trainLabel)\n",
    "pred = dt.predict(testData)\n",
    "acc = accuracy_score(testLabel, pred)\n",
    "recall = recall_score(testLabel, pred)\n",
    "f1Score = f1_score(testLabel, pred)\n",
    "print (acc)\n",
    "print (recall)\n",
    "print (f1Score)\n",
    "\n",
    "dot_data = StringIO()\n",
    "tree.export_graphviz(dt, out_file=dot_data,  filled=True, rounded=True, special_characters=True)\n",
    "graph = pydotplus.graph_from_dot_data(dot_data.getvalue())  \n",
    "Image(graph.create_png())"
   ]
  },
  {
   "cell_type": "code",
   "execution_count": 9,
   "metadata": {},
   "outputs": [
    {
     "name": "stdout",
     "output_type": "stream",
     "text": [
      "[ 0.95769741  0.95703384  0.95503567  0.95569935  0.95636303]\n",
      "0.972093023256\n",
      "0.638752052545\n",
      "0.66269165247\n"
     ]
    }
   ],
   "source": [
    "from sklearn.ensemble import RandomForestClassifier\n",
    "RF = RandomForestClassifier(max_depth=40, min_samples_split=10, random_state=99)\n",
    "scores = cross_val_score(RF, trainData, trainLabel, cv=5)\n",
    "\n",
    "print (scores)\n",
    "RF = RF.fit(trainData, trainLabel)\n",
    "pred = RF.predict(testData)\n",
    "acc = accuracy_score(testLabel, pred)\n",
    "recall = recall_score(testLabel, pred)\n",
    "f1Score = f1_score(testLabel, pred)\n",
    "print (acc)\n",
    "print (recall)\n",
    "print (f1Score)"
   ]
  },
  {
   "cell_type": "code",
   "execution_count": 4,
   "metadata": {},
   "outputs": [
    {
     "name": "stdout",
     "output_type": "stream",
     "text": [
      "0.96169837914\n",
      "0.454844006568\n",
      "0.504783599089\n"
     ]
    },
    {
     "data": {
      "text/plain": [
       "'\\nrbf with balanced\\n0.96169837914\\n0.454844006568\\n0.504783599089'"
      ]
     },
     "execution_count": 4,
     "metadata": {},
     "output_type": "execute_result"
    }
   ],
   "source": [
    "from sklearn import svm\n",
    "bSVM = svm.SVC(class_weight='balanced')\n",
    "#bSVM = svm.LinearSVC()\n",
    "\n",
    "#scores = cross_val_score(bSVM, trainData, trainLabel, cv=5)\n",
    "#print (scores)\n",
    "bSVM = bSVM.fit(trainData, trainLabel)\n",
    "pred = bSVM.predict(testData)\n",
    "acc = accuracy_score(testLabel, pred)\n",
    "recall = recall_score(testLabel, pred)\n",
    "f1Score = f1_score(testLabel, pred)\n",
    "print (acc)\n",
    "print (recall)\n",
    "print (f1Score)\n",
    "\n",
    "'''\n",
    "rbf with balanced\n",
    "0.96169837914\n",
    "0.454844006568\n",
    "0.504783599089'''"
   ]
  },
  {
   "cell_type": "code",
   "execution_count": 23,
   "metadata": {},
   "outputs": [
    {
     "name": "stdout",
     "output_type": "stream",
     "text": [
      "[ 0.31664441  0.30725766  0.31313958  0.29762914  0.31642995]\n",
      "0.958386187456\n",
      "0.114121510673\n",
      "0.190541466758\n"
     ]
    }
   ],
   "source": [
    "from sklearn.linear_model import LinearRegression\n",
    "LR = LinearRegression()\n",
    "\n",
    "scores = cross_val_score(LR, trainData, trainLabel, cv=5)\n",
    "print (scores)\n",
    "\n",
    "LR = LR.fit(trainData, trainLabel)\n",
    "pred = LR.predict(testData)\n",
    "pred = np.where(pred >= 0.5, 1, 0)\n",
    "acc = accuracy_score(testLabel, pred)\n",
    "recall = recall_score(testLabel, pred)\n",
    "f1Score = f1_score(testLabel, pred)\n",
    "print (acc)\n",
    "print (recall)\n",
    "print (f1Score)"
   ]
  },
  {
   "cell_type": "code",
   "execution_count": 14,
   "metadata": {},
   "outputs": [
    {
     "name": "stdout",
     "output_type": "stream",
     "text": [
      "[ 0.8384207   0.84041141  0.84071677  0.83407997  0.84221005]\n",
      "0.846441155743\n",
      "0.97619047619\n",
      "0.353028503563\n"
     ]
    }
   ],
   "source": [
    "from sklearn.linear_model import LogisticRegression\n",
    "LogR = LogisticRegression(random_state=99, class_weight='balanced', penalty='l1', C=10000)\n",
    "\n",
    "scores = cross_val_score(LogR, trainData, trainLabel, cv=5)\n",
    "print (scores)\n",
    "\n",
    "LogR = LogR.fit(trainData, trainLabel)\n",
    "pred = LogR.predict(testData)\n",
    "#pred = np.where(pred >= 0.5, 1, 0)\n",
    "acc = accuracy_score(testLabel, pred)\n",
    "recall = recall_score(testLabel, pred)\n",
    "f1Score = f1_score(testLabel, pred)\n",
    "print (acc)\n",
    "print (recall)\n",
    "print (f1Score)"
   ]
  },
  {
   "cell_type": "code",
   "execution_count": 5,
   "metadata": {},
   "outputs": [],
   "source": []
  },
  {
   "cell_type": "code",
   "execution_count": 12,
   "metadata": {},
   "outputs": [
    {
     "data": {
      "text/plain": [
       "'\\ncountPos = 0\\ncountNeg = 0\\ncountTP = 0\\nindex = 0;\\nfor p,t in zip(pred,testLabel):\\n    if p!=t:\\n        countNeg+=1\\n    else :\\n        countPos+=1\\n    if t==1 and p==t:\\n        countTP+=1\\n    if t==1 and p!=t:\\n        print(index)\\n    index+=1\\nprint(countPos,countNeg,float(countPos)/(countPos+countNeg))\\nprint(countTP)\\n'"
      ]
     },
     "execution_count": 12,
     "metadata": {},
     "output_type": "execute_result"
    }
   ],
   "source": [
    "'''\n",
    "countPos = 0\n",
    "countNeg = 0\n",
    "countTP = 0\n",
    "index = 0;\n",
    "for p,t in zip(pred,testLabel):\n",
    "    if p!=t:\n",
    "        countNeg+=1\n",
    "    else :\n",
    "        countPos+=1\n",
    "    if t==1 and p==t:\n",
    "        countTP+=1\n",
    "    if t==1 and p!=t:\n",
    "        print(index)\n",
    "    index+=1\n",
    "print(countPos,countNeg,float(countPos)/(countPos+countNeg))\n",
    "print(countTP)\n",
    "'''"
   ]
  },
  {
   "cell_type": "code",
   "execution_count": null,
   "metadata": {
    "collapsed": true
   },
   "outputs": [],
   "source": []
  }
 ],
 "metadata": {
  "kernelspec": {
   "display_name": "Python 3",
   "language": "python",
   "name": "python3"
  },
  "language_info": {
   "codemirror_mode": {
    "name": "ipython",
    "version": 3
   },
   "file_extension": ".py",
   "mimetype": "text/x-python",
   "name": "python",
   "nbconvert_exporter": "python",
   "pygments_lexer": "ipython3",
   "version": "3.6.1"
  }
 },
 "nbformat": 4,
 "nbformat_minor": 2
}
