{
 "cells": [
  {
   "cell_type": "markdown",
   "metadata": {},
   "source": [
    "## Entity Matching Notebook for Stage 3 of Data Science Project\n",
    "### Game Website Dataset from Gamespot and howLongToBeat"
   ]
  },
  {
   "cell_type": "code",
   "execution_count": 33,
   "metadata": {},
   "outputs": [
    {
     "name": "stdout",
     "output_type": "stream",
     "text": [
      "python version: 3.6.1 |Anaconda custom (64-bit)| (default, May 11 2017, 13:25:24) [MSC v.1900 64 bit (AMD64)]\n",
      "pandas version: 0.20.1\n",
      "magellan version: 0.2.0\n"
     ]
    }
   ],
   "source": [
    "import py_entitymatching as em\n",
    "import pandas as pd\n",
    "import sys\n",
    "import math\n",
    "from datetime import datetime\n",
    "\n",
    "# Display the versions\n",
    "print('python version: ' + sys.version )\n",
    "print('pandas version: ' + pd.__version__ )\n",
    "print('magellan version: ' + em.__version__ )"
   ]
  },
  {
   "cell_type": "markdown",
   "metadata": {},
   "source": [
    "#### Reading Input dataset"
   ]
  },
  {
   "cell_type": "code",
   "execution_count": 3,
   "metadata": {},
   "outputs": [
    {
     "name": "stderr",
     "output_type": "stream",
     "text": [
      "Metadata file is not present in the given path; proceeding to read the csv file.\n",
      "Metadata file is not present in the given path; proceeding to read the csv file.\n"
     ]
    }
   ],
   "source": [
    "#A - Gamespot.csv\n",
    "#B - howLongToBeat.csv\n",
    "\n",
    "dfTableA = em.read_csv_metadata('../data/Gamespot.csv', key='ID')\n",
    "dfTableB = em.read_csv_metadata('../data/howLongToBeat.csv', key='ID')"
   ]
  },
  {
   "cell_type": "code",
   "execution_count": 4,
   "metadata": {},
   "outputs": [
    {
     "name": "stdout",
     "output_type": "stream",
     "text": [
      "Number of tuples in A: 8884\n",
      "Number of tuples in B: 8481\n",
      "Number of tuples in A X B (i.e the cartesian product): 75345204\n"
     ]
    }
   ],
   "source": [
    "print('Number of tuples in A: ' + str(len(dfTableA)))\n",
    "print('Number of tuples in B: ' + str(len(dfTableB)))\n",
    "print('Number of tuples in A X B (i.e the cartesian product): ' + str(len(dfTableA)*len(dfTableB)))"
   ]
  },
  {
   "cell_type": "code",
   "execution_count": 5,
   "metadata": {},
   "outputs": [
    {
     "data": {
      "text/html": [
       "<div>\n",
       "<style>\n",
       "    .dataframe thead tr:only-child th {\n",
       "        text-align: right;\n",
       "    }\n",
       "\n",
       "    .dataframe thead th {\n",
       "        text-align: left;\n",
       "    }\n",
       "\n",
       "    .dataframe tbody tr th {\n",
       "        vertical-align: top;\n",
       "    }\n",
       "</style>\n",
       "<table border=\"1\" class=\"dataframe\">\n",
       "  <thead>\n",
       "    <tr style=\"text-align: right;\">\n",
       "      <th></th>\n",
       "      <th>ID</th>\n",
       "      <th>Title</th>\n",
       "      <th>Developer</th>\n",
       "      <th>Publisher</th>\n",
       "      <th>Platform</th>\n",
       "      <th>Genre</th>\n",
       "      <th>ReleaseDate</th>\n",
       "      <th>Rating</th>\n",
       "      <th>CleanRDate</th>\n",
       "    </tr>\n",
       "  </thead>\n",
       "  <tbody>\n",
       "    <tr>\n",
       "      <th>0</th>\n",
       "      <td>a1</td>\n",
       "      <td>.hack//G.U. vol. 1//Rebirth</td>\n",
       "      <td>CyberConnect2</td>\n",
       "      <td>Namco Bandai Games|Bandai</td>\n",
       "      <td>PlayStation 2</td>\n",
       "      <td>Action|Role-Playing</td>\n",
       "      <td>24 Oct 2006</td>\n",
       "      <td>8.8</td>\n",
       "      <td>2006-10-24</td>\n",
       "    </tr>\n",
       "    <tr>\n",
       "      <th>1</th>\n",
       "      <td>a2</td>\n",
       "      <td>.hack//G.U. vol. 2//Reminisce</td>\n",
       "      <td>CyberConnect2</td>\n",
       "      <td>Bandai|Namco Bandai Games</td>\n",
       "      <td>PlayStation 2</td>\n",
       "      <td>Action|Role-Playing</td>\n",
       "      <td>8 May 2007</td>\n",
       "      <td>8.9</td>\n",
       "      <td>2007-05-08</td>\n",
       "    </tr>\n",
       "    <tr>\n",
       "      <th>2</th>\n",
       "      <td>a3</td>\n",
       "      <td>.hack//Infection Part 1</td>\n",
       "      <td>CyberConnect2</td>\n",
       "      <td>Bandai</td>\n",
       "      <td>PlayStation 2</td>\n",
       "      <td>Action|Role-Playing</td>\n",
       "      <td>10 Feb 2003</td>\n",
       "      <td>7.9</td>\n",
       "      <td>2003-02-10</td>\n",
       "    </tr>\n",
       "    <tr>\n",
       "      <th>3</th>\n",
       "      <td>a4</td>\n",
       "      <td>.hack//Mutation Part 2</td>\n",
       "      <td>CyberConnect2</td>\n",
       "      <td>Bandai</td>\n",
       "      <td>PlayStation 2</td>\n",
       "      <td>Role-Playing|Action</td>\n",
       "      <td>6 May 2003</td>\n",
       "      <td>7.9</td>\n",
       "      <td>2003-05-06</td>\n",
       "    </tr>\n",
       "    <tr>\n",
       "      <th>4</th>\n",
       "      <td>a5</td>\n",
       "      <td>.hack//Outbreak Part 3</td>\n",
       "      <td>CyberConnect2</td>\n",
       "      <td>Bandai</td>\n",
       "      <td>PlayStation 2</td>\n",
       "      <td>Action|Role-Playing</td>\n",
       "      <td>9 Sep 2003</td>\n",
       "      <td>8.0</td>\n",
       "      <td>2003-09-09</td>\n",
       "    </tr>\n",
       "  </tbody>\n",
       "</table>\n",
       "</div>"
      ],
      "text/plain": [
       "   ID                          Title      Developer  \\\n",
       "0  a1    .hack//G.U. vol. 1//Rebirth  CyberConnect2   \n",
       "1  a2  .hack//G.U. vol. 2//Reminisce  CyberConnect2   \n",
       "2  a3        .hack//Infection Part 1  CyberConnect2   \n",
       "3  a4         .hack//Mutation Part 2  CyberConnect2   \n",
       "4  a5         .hack//Outbreak Part 3  CyberConnect2   \n",
       "\n",
       "                   Publisher       Platform                Genre  ReleaseDate  \\\n",
       "0  Namco Bandai Games|Bandai  PlayStation 2  Action|Role-Playing  24 Oct 2006   \n",
       "1  Bandai|Namco Bandai Games  PlayStation 2  Action|Role-Playing   8 May 2007   \n",
       "2                     Bandai  PlayStation 2  Action|Role-Playing  10 Feb 2003   \n",
       "3                     Bandai  PlayStation 2  Role-Playing|Action   6 May 2003   \n",
       "4                     Bandai  PlayStation 2  Action|Role-Playing   9 Sep 2003   \n",
       "\n",
       "   Rating  CleanRDate  \n",
       "0     8.8  2006-10-24  \n",
       "1     8.9  2007-05-08  \n",
       "2     7.9  2003-02-10  \n",
       "3     7.9  2003-05-06  \n",
       "4     8.0  2003-09-09  "
      ]
     },
     "execution_count": 5,
     "metadata": {},
     "output_type": "execute_result"
    }
   ],
   "source": [
    "dfTableA.head()"
   ]
  },
  {
   "cell_type": "code",
   "execution_count": 6,
   "metadata": {},
   "outputs": [
    {
     "data": {
      "text/html": [
       "<div>\n",
       "<style>\n",
       "    .dataframe thead tr:only-child th {\n",
       "        text-align: right;\n",
       "    }\n",
       "\n",
       "    .dataframe thead th {\n",
       "        text-align: left;\n",
       "    }\n",
       "\n",
       "    .dataframe tbody tr th {\n",
       "        vertical-align: top;\n",
       "    }\n",
       "</style>\n",
       "<table border=\"1\" class=\"dataframe\">\n",
       "  <thead>\n",
       "    <tr style=\"text-align: right;\">\n",
       "      <th></th>\n",
       "      <th>ID</th>\n",
       "      <th>Title</th>\n",
       "      <th>Developer</th>\n",
       "      <th>Publisher</th>\n",
       "      <th>Platform</th>\n",
       "      <th>Genre</th>\n",
       "      <th>ReleaseDate</th>\n",
       "      <th>Rating</th>\n",
       "      <th>CleanRDate</th>\n",
       "    </tr>\n",
       "  </thead>\n",
       "  <tbody>\n",
       "    <tr>\n",
       "      <th>0</th>\n",
       "      <td>b1</td>\n",
       "      <td>007 Legends</td>\n",
       "      <td>Eurocom</td>\n",
       "      <td>Activision</td>\n",
       "      <td>PC|PlayStation 3|Wii U|Xbox 360</td>\n",
       "      <td>First-Person|Shooter</td>\n",
       "      <td>16 October 2012</td>\n",
       "      <td>5.0</td>\n",
       "      <td>2012-10-16</td>\n",
       "    </tr>\n",
       "    <tr>\n",
       "      <th>1</th>\n",
       "      <td>b2</td>\n",
       "      <td>007: The World Is Not Enough</td>\n",
       "      <td>Eurocom|Black Ops</td>\n",
       "      <td>Electronic Arts</td>\n",
       "      <td>Nintendo 64|PlayStation</td>\n",
       "      <td>First-Person|Shooter</td>\n",
       "      <td>17 October 2000</td>\n",
       "      <td>7.0</td>\n",
       "      <td>2000-10-17</td>\n",
       "    </tr>\n",
       "    <tr>\n",
       "      <th>2</th>\n",
       "      <td>b3</td>\n",
       "      <td>0RBITALIS</td>\n",
       "      <td>Alan Zucconi</td>\n",
       "      <td>NaN</td>\n",
       "      <td>PC</td>\n",
       "      <td>Puzzle</td>\n",
       "      <td>16 April 2014</td>\n",
       "      <td>8.0</td>\n",
       "      <td>2014-04-16</td>\n",
       "    </tr>\n",
       "    <tr>\n",
       "      <th>3</th>\n",
       "      <td>b4</td>\n",
       "      <td>10000000</td>\n",
       "      <td>EightyEight Games</td>\n",
       "      <td>EightyEight Games</td>\n",
       "      <td>Android|iOS|Linux|PC</td>\n",
       "      <td>Role-Playing</td>\n",
       "      <td>29 August 2012</td>\n",
       "      <td>7.7</td>\n",
       "      <td>2012-08-29</td>\n",
       "    </tr>\n",
       "    <tr>\n",
       "      <th>4</th>\n",
       "      <td>b5</td>\n",
       "      <td>1000 Amps</td>\n",
       "      <td>Brandon Brizzi</td>\n",
       "      <td>Brandon Brizzi</td>\n",
       "      <td>PC</td>\n",
       "      <td>Adventure|Platform|Puzzle</td>\n",
       "      <td>22 February 2012</td>\n",
       "      <td>6.9</td>\n",
       "      <td>2012-02-22</td>\n",
       "    </tr>\n",
       "  </tbody>\n",
       "</table>\n",
       "</div>"
      ],
      "text/plain": [
       "   ID                         Title          Developer          Publisher  \\\n",
       "0  b1                   007 Legends            Eurocom         Activision   \n",
       "1  b2  007: The World Is Not Enough  Eurocom|Black Ops    Electronic Arts   \n",
       "2  b3                     0RBITALIS       Alan Zucconi                NaN   \n",
       "3  b4                      10000000  EightyEight Games  EightyEight Games   \n",
       "4  b5                     1000 Amps     Brandon Brizzi     Brandon Brizzi   \n",
       "\n",
       "                          Platform                      Genre  \\\n",
       "0  PC|PlayStation 3|Wii U|Xbox 360       First-Person|Shooter   \n",
       "1          Nintendo 64|PlayStation       First-Person|Shooter   \n",
       "2                               PC                     Puzzle   \n",
       "3             Android|iOS|Linux|PC               Role-Playing   \n",
       "4                               PC  Adventure|Platform|Puzzle   \n",
       "\n",
       "        ReleaseDate  Rating  CleanRDate  \n",
       "0   16 October 2012     5.0  2012-10-16  \n",
       "1   17 October 2000     7.0  2000-10-17  \n",
       "2     16 April 2014     8.0  2014-04-16  \n",
       "3    29 August 2012     7.7  2012-08-29  \n",
       "4  22 February 2012     6.9  2012-02-22  "
      ]
     },
     "execution_count": 6,
     "metadata": {},
     "output_type": "execute_result"
    }
   ],
   "source": [
    "dfTableB.head()"
   ]
  },
  {
   "cell_type": "markdown",
   "metadata": {},
   "source": [
    "### Blocking Table to get Candidate Set"
   ]
  },
  {
   "cell_type": "markdown",
   "metadata": {},
   "source": [
    "#### Try Overlap Blocker\n",
    "Starting with q-gram overlap"
   ]
  },
  {
   "cell_type": "code",
   "execution_count": 7,
   "metadata": {},
   "outputs": [],
   "source": [
    "ob = em.OverlapBlocker()"
   ]
  },
  {
   "cell_type": "code",
   "execution_count": 17,
   "metadata": {},
   "outputs": [
    {
     "name": "stderr",
     "output_type": "stream",
     "text": [
      "0% [##############################] 100% | ETA: 00:00:00\n",
      "Total time elapsed: 00:00:13\n"
     ]
    }
   ],
   "source": [
    "C1 = ob.block_tables(dfTableA, dfTableB, 'Title', 'Title', q_val=3, word_level=False, overlap_size=4, rem_stop_words=True,\n",
    "                    l_output_attrs=['Title', 'Developer', 'Publisher','Platform','Genre','Rating','ReleaseDate', 'CleanRDate'],\n",
    "                   r_output_attrs=['Title', 'Developer', 'Publisher', 'Platform','Genre','Rating','ReleaseDate', 'CleanRDate'])"
   ]
  },
  {
   "cell_type": "code",
   "execution_count": 18,
   "metadata": {},
   "outputs": [
    {
     "data": {
      "text/plain": [
       "979045"
      ]
     },
     "execution_count": 18,
     "metadata": {},
     "output_type": "execute_result"
    }
   ],
   "source": [
    "len(C1)"
   ]
  },
  {
   "cell_type": "code",
   "execution_count": 212,
   "metadata": {},
   "outputs": [
    {
     "data": {
      "text/html": [
       "<div>\n",
       "<style>\n",
       "    .dataframe thead tr:only-child th {\n",
       "        text-align: right;\n",
       "    }\n",
       "\n",
       "    .dataframe thead th {\n",
       "        text-align: left;\n",
       "    }\n",
       "\n",
       "    .dataframe tbody tr th {\n",
       "        vertical-align: top;\n",
       "    }\n",
       "</style>\n",
       "<table border=\"1\" class=\"dataframe\">\n",
       "  <thead>\n",
       "    <tr style=\"text-align: right;\">\n",
       "      <th></th>\n",
       "      <th>_id</th>\n",
       "      <th>ltable_ID</th>\n",
       "      <th>rtable_ID</th>\n",
       "      <th>ltable_Title</th>\n",
       "      <th>ltable_Developer</th>\n",
       "      <th>ltable_Publisher</th>\n",
       "      <th>ltable_Platform</th>\n",
       "      <th>ltable_Genre</th>\n",
       "      <th>ltable_Rating</th>\n",
       "      <th>ltable_ReleaseDate</th>\n",
       "      <th>ltable_CleanRDate</th>\n",
       "      <th>rtable_Title</th>\n",
       "      <th>rtable_Developer</th>\n",
       "      <th>rtable_Publisher</th>\n",
       "      <th>rtable_Platform</th>\n",
       "      <th>rtable_Genre</th>\n",
       "      <th>rtable_Rating</th>\n",
       "      <th>rtable_ReleaseDate</th>\n",
       "      <th>rtable_CleanRDate</th>\n",
       "    </tr>\n",
       "  </thead>\n",
       "  <tbody>\n",
       "    <tr>\n",
       "      <th>0</th>\n",
       "      <td>0</td>\n",
       "      <td>a8</td>\n",
       "      <td>b1</td>\n",
       "      <td>007 Legends</td>\n",
       "      <td>Eurocom Entertainment Software</td>\n",
       "      <td>Activision</td>\n",
       "      <td>PC|PlayStation 3|Wii U|Xbox 360</td>\n",
       "      <td>First-Person|Shooter|3D|Action</td>\n",
       "      <td>5.1</td>\n",
       "      <td>16 Oct 2012</td>\n",
       "      <td>2012-10-16</td>\n",
       "      <td>007 Legends</td>\n",
       "      <td>Eurocom</td>\n",
       "      <td>Activision</td>\n",
       "      <td>PC|PlayStation 3|Wii U|Xbox 360</td>\n",
       "      <td>First-Person|Shooter</td>\n",
       "      <td>5.0</td>\n",
       "      <td>16 October 2012</td>\n",
       "      <td>2012-10-16</td>\n",
       "    </tr>\n",
       "    <tr>\n",
       "      <th>1</th>\n",
       "      <td>1</td>\n",
       "      <td>a10</td>\n",
       "      <td>b1</td>\n",
       "      <td>007: The World is not Enough</td>\n",
       "      <td>Eurocom Entertainment Software|Black Ops Entertainment</td>\n",
       "      <td>Electronic Arts</td>\n",
       "      <td>Nintendo 64|PlayStation</td>\n",
       "      <td>Action|First-Person|Shooter|3D</td>\n",
       "      <td>7.6</td>\n",
       "      <td>1 Nov 2000</td>\n",
       "      <td>2000-11-01</td>\n",
       "      <td>007 Legends</td>\n",
       "      <td>Eurocom</td>\n",
       "      <td>Activision</td>\n",
       "      <td>PC|PlayStation 3|Wii U|Xbox 360</td>\n",
       "      <td>First-Person|Shooter</td>\n",
       "      <td>5.0</td>\n",
       "      <td>16 October 2012</td>\n",
       "      <td>2012-10-16</td>\n",
       "    </tr>\n",
       "    <tr>\n",
       "      <th>2</th>\n",
       "      <td>2</td>\n",
       "      <td>a11</td>\n",
       "      <td>b1</td>\n",
       "      <td>007: Tomorrow Never Dies</td>\n",
       "      <td>Black Ops Entertainment</td>\n",
       "      <td>MGM Interactive|EA Games|Electronic Arts|Electronic Arts Victor</td>\n",
       "      <td>PlayStation</td>\n",
       "      <td>Third-Person|3D|Action|Shooter</td>\n",
       "      <td>6.3</td>\n",
       "      <td>16 Nov 1999</td>\n",
       "      <td>1999-11-16</td>\n",
       "      <td>007 Legends</td>\n",
       "      <td>Eurocom</td>\n",
       "      <td>Activision</td>\n",
       "      <td>PC|PlayStation 3|Wii U|Xbox 360</td>\n",
       "      <td>First-Person|Shooter</td>\n",
       "      <td>5.0</td>\n",
       "      <td>16 October 2012</td>\n",
       "      <td>2012-10-16</td>\n",
       "    </tr>\n",
       "  </tbody>\n",
       "</table>\n",
       "</div>"
      ],
      "text/plain": [
       "   _id ltable_ID rtable_ID                  ltable_Title  \\\n",
       "0    0        a8        b1                   007 Legends   \n",
       "1    1       a10        b1  007: The World is not Enough   \n",
       "2    2       a11        b1      007: Tomorrow Never Dies   \n",
       "\n",
       "                                         ltable_Developer  \\\n",
       "0                          Eurocom Entertainment Software   \n",
       "1  Eurocom Entertainment Software|Black Ops Entertainment   \n",
       "2                                 Black Ops Entertainment   \n",
       "\n",
       "                                                  ltable_Publisher  \\\n",
       "0                                                       Activision   \n",
       "1                                                  Electronic Arts   \n",
       "2  MGM Interactive|EA Games|Electronic Arts|Electronic Arts Victor   \n",
       "\n",
       "                   ltable_Platform                    ltable_Genre  \\\n",
       "0  PC|PlayStation 3|Wii U|Xbox 360  First-Person|Shooter|3D|Action   \n",
       "1          Nintendo 64|PlayStation  Action|First-Person|Shooter|3D   \n",
       "2                      PlayStation  Third-Person|3D|Action|Shooter   \n",
       "\n",
       "   ltable_Rating ltable_ReleaseDate ltable_CleanRDate rtable_Title  \\\n",
       "0            5.1        16 Oct 2012        2012-10-16  007 Legends   \n",
       "1            7.6         1 Nov 2000        2000-11-01  007 Legends   \n",
       "2            6.3        16 Nov 1999        1999-11-16  007 Legends   \n",
       "\n",
       "  rtable_Developer rtable_Publisher                  rtable_Platform  \\\n",
       "0          Eurocom       Activision  PC|PlayStation 3|Wii U|Xbox 360   \n",
       "1          Eurocom       Activision  PC|PlayStation 3|Wii U|Xbox 360   \n",
       "2          Eurocom       Activision  PC|PlayStation 3|Wii U|Xbox 360   \n",
       "\n",
       "           rtable_Genre  rtable_Rating rtable_ReleaseDate rtable_CleanRDate  \n",
       "0  First-Person|Shooter            5.0    16 October 2012        2012-10-16  \n",
       "1  First-Person|Shooter            5.0    16 October 2012        2012-10-16  \n",
       "2  First-Person|Shooter            5.0    16 October 2012        2012-10-16  "
      ]
     },
     "execution_count": 212,
     "metadata": {},
     "output_type": "execute_result"
    }
   ],
   "source": [
    "C1.head(3)"
   ]
  },
  {
   "cell_type": "markdown",
   "metadata": {},
   "source": [
    "### Debug Overlap blocker output"
   ]
  },
  {
   "cell_type": "code",
   "execution_count": 20,
   "metadata": {
    "collapsed": true
   },
   "outputs": [],
   "source": [
    "dbg1 = em.debug_blocker(C1, dfTableA, dfTableB)"
   ]
  },
  {
   "cell_type": "code",
   "execution_count": 214,
   "metadata": {},
   "outputs": [
    {
     "data": {
      "text/html": [
       "<div>\n",
       "<style>\n",
       "    .dataframe thead tr:only-child th {\n",
       "        text-align: right;\n",
       "    }\n",
       "\n",
       "    .dataframe thead th {\n",
       "        text-align: left;\n",
       "    }\n",
       "\n",
       "    .dataframe tbody tr th {\n",
       "        vertical-align: top;\n",
       "    }\n",
       "</style>\n",
       "<table border=\"1\" class=\"dataframe\">\n",
       "  <thead>\n",
       "    <tr style=\"text-align: right;\">\n",
       "      <th></th>\n",
       "      <th>_id</th>\n",
       "      <th>similarity</th>\n",
       "      <th>ltable_ID</th>\n",
       "      <th>rtable_ID</th>\n",
       "      <th>ltable_Title</th>\n",
       "      <th>ltable_Developer</th>\n",
       "      <th>ltable_Publisher</th>\n",
       "      <th>ltable_Platform</th>\n",
       "      <th>ltable_Genre</th>\n",
       "      <th>ltable_ReleaseDate</th>\n",
       "      <th>ltable_CleanRDate</th>\n",
       "      <th>rtable_Title</th>\n",
       "      <th>rtable_Developer</th>\n",
       "      <th>rtable_Publisher</th>\n",
       "      <th>rtable_Platform</th>\n",
       "      <th>rtable_Genre</th>\n",
       "      <th>rtable_ReleaseDate</th>\n",
       "      <th>rtable_CleanRDate</th>\n",
       "    </tr>\n",
       "  </thead>\n",
       "  <tbody>\n",
       "    <tr>\n",
       "      <th>0</th>\n",
       "      <td>0</td>\n",
       "      <td>1.000</td>\n",
       "      <td>a1492</td>\n",
       "      <td>b1479</td>\n",
       "      <td>D</td>\n",
       "      <td>WARP</td>\n",
       "      <td>Panasonic|WARP|Sanyei Shobou|Night Dive Studios|Acclaim|Acclaim Japan|Tec Toy</td>\n",
       "      <td>3DO|Linux|Macintosh|PC|PlayStation|Saturn</td>\n",
       "      <td>Adventure</td>\n",
       "      <td>1995</td>\n",
       "      <td>1995-01-01</td>\n",
       "      <td>D</td>\n",
       "      <td>WARP</td>\n",
       "      <td>Acclaim Entertainment</td>\n",
       "      <td>PC|PlayStation|Sega Saturn</td>\n",
       "      <td>First-Person|Adventure|Puzzle|Survival|Survival Horror</td>\n",
       "      <td>1995</td>\n",
       "      <td>1995-01-01</td>\n",
       "    </tr>\n",
       "    <tr>\n",
       "      <th>1</th>\n",
       "      <td>1</td>\n",
       "      <td>0.625</td>\n",
       "      <td>a4804</td>\n",
       "      <td>b397</td>\n",
       "      <td>Naval Warfare</td>\n",
       "      <td>Games Distillery</td>\n",
       "      <td>Just A Game|Microsoft Game Studios</td>\n",
       "      <td>PC|Xbox 360</td>\n",
       "      <td>Action|Fixed-Screen|Shooter|2D</td>\n",
       "      <td>19 May 2010</td>\n",
       "      <td>2010-05-19</td>\n",
       "      <td>Aqua</td>\n",
       "      <td>Games Distillery</td>\n",
       "      <td>Microsoft Studios</td>\n",
       "      <td>PC|Xbox 360</td>\n",
       "      <td>Shooter</td>\n",
       "      <td>19 May 2010</td>\n",
       "      <td>2010-05-19</td>\n",
       "    </tr>\n",
       "    <tr>\n",
       "      <th>2</th>\n",
       "      <td>2</td>\n",
       "      <td>0.625</td>\n",
       "      <td>a6844</td>\n",
       "      <td>b5805</td>\n",
       "      <td>SSX</td>\n",
       "      <td>EA Canada</td>\n",
       "      <td>Electronic Arts|EA Sports</td>\n",
       "      <td>PlayStation 3|Xbox 360</td>\n",
       "      <td>Snowboarding/Skiing|Sports</td>\n",
       "      <td>28 Feb 2012</td>\n",
       "      <td>2012-02-28</td>\n",
       "      <td>SSX (2012)</td>\n",
       "      <td>EA Canada</td>\n",
       "      <td>EA Sports</td>\n",
       "      <td>PlayStation 3|Xbox 360</td>\n",
       "      <td>Sports</td>\n",
       "      <td>28 February 2012</td>\n",
       "      <td>2012-02-28</td>\n",
       "    </tr>\n",
       "  </tbody>\n",
       "</table>\n",
       "</div>"
      ],
      "text/plain": [
       "   _id  similarity ltable_ID rtable_ID   ltable_Title  ltable_Developer  \\\n",
       "0    0       1.000     a1492     b1479              D              WARP   \n",
       "1    1       0.625     a4804      b397  Naval Warfare  Games Distillery   \n",
       "2    2       0.625     a6844     b5805            SSX         EA Canada   \n",
       "\n",
       "                                                                ltable_Publisher  \\\n",
       "0  Panasonic|WARP|Sanyei Shobou|Night Dive Studios|Acclaim|Acclaim Japan|Tec Toy   \n",
       "1                                             Just A Game|Microsoft Game Studios   \n",
       "2                                                      Electronic Arts|EA Sports   \n",
       "\n",
       "                             ltable_Platform                    ltable_Genre  \\\n",
       "0  3DO|Linux|Macintosh|PC|PlayStation|Saturn                       Adventure   \n",
       "1                                PC|Xbox 360  Action|Fixed-Screen|Shooter|2D   \n",
       "2                     PlayStation 3|Xbox 360      Snowboarding/Skiing|Sports   \n",
       "\n",
       "  ltable_ReleaseDate ltable_CleanRDate rtable_Title  rtable_Developer  \\\n",
       "0               1995        1995-01-01            D              WARP   \n",
       "1        19 May 2010        2010-05-19         Aqua  Games Distillery   \n",
       "2        28 Feb 2012        2012-02-28   SSX (2012)         EA Canada   \n",
       "\n",
       "        rtable_Publisher             rtable_Platform  \\\n",
       "0  Acclaim Entertainment  PC|PlayStation|Sega Saturn   \n",
       "1      Microsoft Studios                 PC|Xbox 360   \n",
       "2              EA Sports      PlayStation 3|Xbox 360   \n",
       "\n",
       "                                             rtable_Genre rtable_ReleaseDate  \\\n",
       "0  First-Person|Adventure|Puzzle|Survival|Survival Horror               1995   \n",
       "1                                                 Shooter        19 May 2010   \n",
       "2                                                  Sports   28 February 2012   \n",
       "\n",
       "  rtable_CleanRDate  \n",
       "0        1995-01-01  \n",
       "1        2010-05-19  \n",
       "2        2012-02-28  "
      ]
     },
     "execution_count": 214,
     "metadata": {},
     "output_type": "execute_result"
    }
   ],
   "source": [
    "dbg1.head(3)"
   ]
  },
  {
   "cell_type": "markdown",
   "metadata": {},
   "source": [
    "#### The number of candidates upon using overlapping blocker has reduced from 75345204 to 979045. Debugger is not showing that there are several potential matches dropped. Using overlap blocker again on candidate set. Blocking by entire keyword."
   ]
  },
  {
   "cell_type": "code",
   "execution_count": 22,
   "metadata": {},
   "outputs": [
    {
     "name": "stderr",
     "output_type": "stream",
     "text": [
      "0% [##############################] 100% | ETA: 00:00:00\n",
      "Total time elapsed: 00:00:20\n"
     ]
    }
   ],
   "source": [
    "C2 = ob.block_candset(C1, 'Title', 'Title', word_level=True, overlap_size=1)"
   ]
  },
  {
   "cell_type": "code",
   "execution_count": 23,
   "metadata": {},
   "outputs": [
    {
     "data": {
      "text/plain": [
       "530183"
      ]
     },
     "execution_count": 23,
     "metadata": {},
     "output_type": "execute_result"
    }
   ],
   "source": [
    "len(C2)"
   ]
  },
  {
   "cell_type": "code",
   "execution_count": 215,
   "metadata": {},
   "outputs": [
    {
     "data": {
      "text/html": [
       "<div>\n",
       "<style>\n",
       "    .dataframe thead tr:only-child th {\n",
       "        text-align: right;\n",
       "    }\n",
       "\n",
       "    .dataframe thead th {\n",
       "        text-align: left;\n",
       "    }\n",
       "\n",
       "    .dataframe tbody tr th {\n",
       "        vertical-align: top;\n",
       "    }\n",
       "</style>\n",
       "<table border=\"1\" class=\"dataframe\">\n",
       "  <thead>\n",
       "    <tr style=\"text-align: right;\">\n",
       "      <th></th>\n",
       "      <th>_id</th>\n",
       "      <th>ltable_ID</th>\n",
       "      <th>rtable_ID</th>\n",
       "      <th>ltable_Title</th>\n",
       "      <th>ltable_Developer</th>\n",
       "      <th>ltable_Publisher</th>\n",
       "      <th>ltable_Platform</th>\n",
       "      <th>ltable_Genre</th>\n",
       "      <th>ltable_Rating</th>\n",
       "      <th>ltable_ReleaseDate</th>\n",
       "      <th>ltable_CleanRDate</th>\n",
       "      <th>rtable_Title</th>\n",
       "      <th>rtable_Developer</th>\n",
       "      <th>rtable_Publisher</th>\n",
       "      <th>rtable_Platform</th>\n",
       "      <th>rtable_Genre</th>\n",
       "      <th>rtable_Rating</th>\n",
       "      <th>rtable_ReleaseDate</th>\n",
       "      <th>rtable_CleanRDate</th>\n",
       "    </tr>\n",
       "  </thead>\n",
       "  <tbody>\n",
       "    <tr>\n",
       "      <th>0</th>\n",
       "      <td>0</td>\n",
       "      <td>a8</td>\n",
       "      <td>b1</td>\n",
       "      <td>007 Legends</td>\n",
       "      <td>Eurocom Entertainment Software</td>\n",
       "      <td>Activision</td>\n",
       "      <td>PC|PlayStation 3|Wii U|Xbox 360</td>\n",
       "      <td>First-Person|Shooter|3D|Action</td>\n",
       "      <td>5.1</td>\n",
       "      <td>16 Oct 2012</td>\n",
       "      <td>2012-10-16</td>\n",
       "      <td>007 Legends</td>\n",
       "      <td>Eurocom</td>\n",
       "      <td>Activision</td>\n",
       "      <td>PC|PlayStation 3|Wii U|Xbox 360</td>\n",
       "      <td>First-Person|Shooter</td>\n",
       "      <td>5.0</td>\n",
       "      <td>16 October 2012</td>\n",
       "      <td>2012-10-16</td>\n",
       "    </tr>\n",
       "    <tr>\n",
       "      <th>1</th>\n",
       "      <td>1</td>\n",
       "      <td>a10</td>\n",
       "      <td>b1</td>\n",
       "      <td>007: The World is not Enough</td>\n",
       "      <td>Eurocom Entertainment Software|Black Ops Entertainment</td>\n",
       "      <td>Electronic Arts</td>\n",
       "      <td>Nintendo 64|PlayStation</td>\n",
       "      <td>Action|First-Person|Shooter|3D</td>\n",
       "      <td>7.6</td>\n",
       "      <td>1 Nov 2000</td>\n",
       "      <td>2000-11-01</td>\n",
       "      <td>007 Legends</td>\n",
       "      <td>Eurocom</td>\n",
       "      <td>Activision</td>\n",
       "      <td>PC|PlayStation 3|Wii U|Xbox 360</td>\n",
       "      <td>First-Person|Shooter</td>\n",
       "      <td>5.0</td>\n",
       "      <td>16 October 2012</td>\n",
       "      <td>2012-10-16</td>\n",
       "    </tr>\n",
       "    <tr>\n",
       "      <th>2</th>\n",
       "      <td>2</td>\n",
       "      <td>a11</td>\n",
       "      <td>b1</td>\n",
       "      <td>007: Tomorrow Never Dies</td>\n",
       "      <td>Black Ops Entertainment</td>\n",
       "      <td>MGM Interactive|EA Games|Electronic Arts|Electronic Arts Victor</td>\n",
       "      <td>PlayStation</td>\n",
       "      <td>Third-Person|3D|Action|Shooter</td>\n",
       "      <td>6.3</td>\n",
       "      <td>16 Nov 1999</td>\n",
       "      <td>1999-11-16</td>\n",
       "      <td>007 Legends</td>\n",
       "      <td>Eurocom</td>\n",
       "      <td>Activision</td>\n",
       "      <td>PC|PlayStation 3|Wii U|Xbox 360</td>\n",
       "      <td>First-Person|Shooter</td>\n",
       "      <td>5.0</td>\n",
       "      <td>16 October 2012</td>\n",
       "      <td>2012-10-16</td>\n",
       "    </tr>\n",
       "  </tbody>\n",
       "</table>\n",
       "</div>"
      ],
      "text/plain": [
       "   _id ltable_ID rtable_ID                  ltable_Title  \\\n",
       "0    0        a8        b1                   007 Legends   \n",
       "1    1       a10        b1  007: The World is not Enough   \n",
       "2    2       a11        b1      007: Tomorrow Never Dies   \n",
       "\n",
       "                                         ltable_Developer  \\\n",
       "0                          Eurocom Entertainment Software   \n",
       "1  Eurocom Entertainment Software|Black Ops Entertainment   \n",
       "2                                 Black Ops Entertainment   \n",
       "\n",
       "                                                  ltable_Publisher  \\\n",
       "0                                                       Activision   \n",
       "1                                                  Electronic Arts   \n",
       "2  MGM Interactive|EA Games|Electronic Arts|Electronic Arts Victor   \n",
       "\n",
       "                   ltable_Platform                    ltable_Genre  \\\n",
       "0  PC|PlayStation 3|Wii U|Xbox 360  First-Person|Shooter|3D|Action   \n",
       "1          Nintendo 64|PlayStation  Action|First-Person|Shooter|3D   \n",
       "2                      PlayStation  Third-Person|3D|Action|Shooter   \n",
       "\n",
       "   ltable_Rating ltable_ReleaseDate ltable_CleanRDate rtable_Title  \\\n",
       "0            5.1        16 Oct 2012        2012-10-16  007 Legends   \n",
       "1            7.6         1 Nov 2000        2000-11-01  007 Legends   \n",
       "2            6.3        16 Nov 1999        1999-11-16  007 Legends   \n",
       "\n",
       "  rtable_Developer rtable_Publisher                  rtable_Platform  \\\n",
       "0          Eurocom       Activision  PC|PlayStation 3|Wii U|Xbox 360   \n",
       "1          Eurocom       Activision  PC|PlayStation 3|Wii U|Xbox 360   \n",
       "2          Eurocom       Activision  PC|PlayStation 3|Wii U|Xbox 360   \n",
       "\n",
       "           rtable_Genre  rtable_Rating rtable_ReleaseDate rtable_CleanRDate  \n",
       "0  First-Person|Shooter            5.0    16 October 2012        2012-10-16  \n",
       "1  First-Person|Shooter            5.0    16 October 2012        2012-10-16  \n",
       "2  First-Person|Shooter            5.0    16 October 2012        2012-10-16  "
      ]
     },
     "execution_count": 215,
     "metadata": {},
     "output_type": "execute_result"
    }
   ],
   "source": [
    "C2.head(3)"
   ]
  },
  {
   "cell_type": "code",
   "execution_count": 25,
   "metadata": {
    "collapsed": true
   },
   "outputs": [],
   "source": [
    "dbg1_2 = em.debug_blocker(C2, dfTableA, dfTableB)"
   ]
  },
  {
   "cell_type": "code",
   "execution_count": 217,
   "metadata": {},
   "outputs": [
    {
     "data": {
      "text/html": [
       "<div>\n",
       "<style>\n",
       "    .dataframe thead tr:only-child th {\n",
       "        text-align: right;\n",
       "    }\n",
       "\n",
       "    .dataframe thead th {\n",
       "        text-align: left;\n",
       "    }\n",
       "\n",
       "    .dataframe tbody tr th {\n",
       "        vertical-align: top;\n",
       "    }\n",
       "</style>\n",
       "<table border=\"1\" class=\"dataframe\">\n",
       "  <thead>\n",
       "    <tr style=\"text-align: right;\">\n",
       "      <th></th>\n",
       "      <th>_id</th>\n",
       "      <th>similarity</th>\n",
       "      <th>ltable_ID</th>\n",
       "      <th>rtable_ID</th>\n",
       "      <th>ltable_Title</th>\n",
       "      <th>ltable_Developer</th>\n",
       "      <th>ltable_Publisher</th>\n",
       "      <th>ltable_Platform</th>\n",
       "      <th>ltable_Genre</th>\n",
       "      <th>ltable_ReleaseDate</th>\n",
       "      <th>ltable_CleanRDate</th>\n",
       "      <th>rtable_Title</th>\n",
       "      <th>rtable_Developer</th>\n",
       "      <th>rtable_Publisher</th>\n",
       "      <th>rtable_Platform</th>\n",
       "      <th>rtable_Genre</th>\n",
       "      <th>rtable_ReleaseDate</th>\n",
       "      <th>rtable_CleanRDate</th>\n",
       "    </tr>\n",
       "  </thead>\n",
       "  <tbody>\n",
       "    <tr>\n",
       "      <th>0</th>\n",
       "      <td>0</td>\n",
       "      <td>1.000000</td>\n",
       "      <td>a1492</td>\n",
       "      <td>b1479</td>\n",
       "      <td>D</td>\n",
       "      <td>WARP</td>\n",
       "      <td>Panasonic|WARP|Sanyei Shobou|Night Dive Studios|Acclaim|Acclaim Japan|Tec Toy</td>\n",
       "      <td>3DO|Linux|Macintosh|PC|PlayStation|Saturn</td>\n",
       "      <td>Adventure</td>\n",
       "      <td>1995</td>\n",
       "      <td>1995-01-01</td>\n",
       "      <td>D</td>\n",
       "      <td>WARP</td>\n",
       "      <td>Acclaim Entertainment</td>\n",
       "      <td>PC|PlayStation|Sega Saturn</td>\n",
       "      <td>First-Person|Adventure|Puzzle|Survival|Survival Horror</td>\n",
       "      <td>1995</td>\n",
       "      <td>1995-01-01</td>\n",
       "    </tr>\n",
       "    <tr>\n",
       "      <th>1</th>\n",
       "      <td>1</td>\n",
       "      <td>0.625000</td>\n",
       "      <td>a6844</td>\n",
       "      <td>b5805</td>\n",
       "      <td>SSX</td>\n",
       "      <td>EA Canada</td>\n",
       "      <td>Electronic Arts|EA Sports</td>\n",
       "      <td>PlayStation 3|Xbox 360</td>\n",
       "      <td>Snowboarding/Skiing|Sports</td>\n",
       "      <td>28 Feb 2012</td>\n",
       "      <td>2012-02-28</td>\n",
       "      <td>SSX (2012)</td>\n",
       "      <td>EA Canada</td>\n",
       "      <td>EA Sports</td>\n",
       "      <td>PlayStation 3|Xbox 360</td>\n",
       "      <td>Sports</td>\n",
       "      <td>28 February 2012</td>\n",
       "      <td>2012-02-28</td>\n",
       "    </tr>\n",
       "    <tr>\n",
       "      <th>2</th>\n",
       "      <td>2</td>\n",
       "      <td>0.625000</td>\n",
       "      <td>a4804</td>\n",
       "      <td>b397</td>\n",
       "      <td>Naval Warfare</td>\n",
       "      <td>Games Distillery</td>\n",
       "      <td>Just A Game|Microsoft Game Studios</td>\n",
       "      <td>PC|Xbox 360</td>\n",
       "      <td>Action|Fixed-Screen|Shooter|2D</td>\n",
       "      <td>19 May 2010</td>\n",
       "      <td>2010-05-19</td>\n",
       "      <td>Aqua</td>\n",
       "      <td>Games Distillery</td>\n",
       "      <td>Microsoft Studios</td>\n",
       "      <td>PC|Xbox 360</td>\n",
       "      <td>Shooter</td>\n",
       "      <td>19 May 2010</td>\n",
       "      <td>2010-05-19</td>\n",
       "    </tr>\n",
       "    <tr>\n",
       "      <th>3</th>\n",
       "      <td>3</td>\n",
       "      <td>0.555556</td>\n",
       "      <td>a109</td>\n",
       "      <td>b170</td>\n",
       "      <td>ADR1FT</td>\n",
       "      <td>Three One Zero</td>\n",
       "      <td>505 Games</td>\n",
       "      <td>PC|PlayStation 4|Xbox One</td>\n",
       "      <td>Action|VR|Adventure|3D|Survival</td>\n",
       "      <td>28 Mar 2016</td>\n",
       "      <td>2016-03-28</td>\n",
       "      <td>Adrift</td>\n",
       "      <td>Three One Zero</td>\n",
       "      <td>505 Games</td>\n",
       "      <td>PC|PlayStation 4</td>\n",
       "      <td>Adventure</td>\n",
       "      <td>28 March 2016</td>\n",
       "      <td>2016-03-28</td>\n",
       "    </tr>\n",
       "  </tbody>\n",
       "</table>\n",
       "</div>"
      ],
      "text/plain": [
       "   _id  similarity ltable_ID rtable_ID   ltable_Title  ltable_Developer  \\\n",
       "0    0    1.000000     a1492     b1479              D              WARP   \n",
       "1    1    0.625000     a6844     b5805            SSX         EA Canada   \n",
       "2    2    0.625000     a4804      b397  Naval Warfare  Games Distillery   \n",
       "3    3    0.555556      a109      b170         ADR1FT    Three One Zero   \n",
       "\n",
       "                                                                ltable_Publisher  \\\n",
       "0  Panasonic|WARP|Sanyei Shobou|Night Dive Studios|Acclaim|Acclaim Japan|Tec Toy   \n",
       "1                                                      Electronic Arts|EA Sports   \n",
       "2                                             Just A Game|Microsoft Game Studios   \n",
       "3                                                                      505 Games   \n",
       "\n",
       "                             ltable_Platform                     ltable_Genre  \\\n",
       "0  3DO|Linux|Macintosh|PC|PlayStation|Saturn                        Adventure   \n",
       "1                     PlayStation 3|Xbox 360       Snowboarding/Skiing|Sports   \n",
       "2                                PC|Xbox 360   Action|Fixed-Screen|Shooter|2D   \n",
       "3                  PC|PlayStation 4|Xbox One  Action|VR|Adventure|3D|Survival   \n",
       "\n",
       "  ltable_ReleaseDate ltable_CleanRDate rtable_Title  rtable_Developer  \\\n",
       "0               1995        1995-01-01            D              WARP   \n",
       "1        28 Feb 2012        2012-02-28   SSX (2012)         EA Canada   \n",
       "2        19 May 2010        2010-05-19         Aqua  Games Distillery   \n",
       "3        28 Mar 2016        2016-03-28       Adrift    Three One Zero   \n",
       "\n",
       "        rtable_Publisher             rtable_Platform  \\\n",
       "0  Acclaim Entertainment  PC|PlayStation|Sega Saturn   \n",
       "1              EA Sports      PlayStation 3|Xbox 360   \n",
       "2      Microsoft Studios                 PC|Xbox 360   \n",
       "3              505 Games            PC|PlayStation 4   \n",
       "\n",
       "                                             rtable_Genre rtable_ReleaseDate  \\\n",
       "0  First-Person|Adventure|Puzzle|Survival|Survival Horror               1995   \n",
       "1                                                  Sports   28 February 2012   \n",
       "2                                                 Shooter        19 May 2010   \n",
       "3                                               Adventure      28 March 2016   \n",
       "\n",
       "  rtable_CleanRDate  \n",
       "0        1995-01-01  \n",
       "1        2012-02-28  \n",
       "2        2010-05-19  \n",
       "3        2016-03-28  "
      ]
     },
     "execution_count": 217,
     "metadata": {},
     "output_type": "execute_result"
    }
   ],
   "source": [
    "dbg1_2.head(4)"
   ]
  },
  {
   "cell_type": "markdown",
   "metadata": {},
   "source": [
    "### Trying Attribute Equivalence Blocker"
   ]
  },
  {
   "cell_type": "code",
   "execution_count": 27,
   "metadata": {
    "collapsed": true
   },
   "outputs": [],
   "source": [
    "attrB = em.AttrEquivalenceBlocker()"
   ]
  },
  {
   "cell_type": "code",
   "execution_count": 28,
   "metadata": {
    "collapsed": true
   },
   "outputs": [],
   "source": [
    "C3 = attrB.block_tables(dfTableA, dfTableB, l_block_attr='Title', r_block_attr='Title',\n",
    "                       l_output_attrs=['Title', 'Developer', 'Publisher','Platform','Genre','Rating','ReleaseDate', 'CleanRDate'],\n",
    "                   r_output_attrs=['Title', 'Developer', 'Publisher', 'Platform','Genre','Rating','ReleaseDate', 'CleanRDate'])"
   ]
  },
  {
   "cell_type": "code",
   "execution_count": 29,
   "metadata": {},
   "outputs": [
    {
     "data": {
      "text/plain": [
       "3480"
      ]
     },
     "execution_count": 29,
     "metadata": {},
     "output_type": "execute_result"
    }
   ],
   "source": [
    "len(C3)"
   ]
  },
  {
   "cell_type": "code",
   "execution_count": 218,
   "metadata": {},
   "outputs": [
    {
     "data": {
      "text/html": [
       "<div>\n",
       "<style>\n",
       "    .dataframe thead tr:only-child th {\n",
       "        text-align: right;\n",
       "    }\n",
       "\n",
       "    .dataframe thead th {\n",
       "        text-align: left;\n",
       "    }\n",
       "\n",
       "    .dataframe tbody tr th {\n",
       "        vertical-align: top;\n",
       "    }\n",
       "</style>\n",
       "<table border=\"1\" class=\"dataframe\">\n",
       "  <thead>\n",
       "    <tr style=\"text-align: right;\">\n",
       "      <th></th>\n",
       "      <th>_id</th>\n",
       "      <th>ltable_ID</th>\n",
       "      <th>rtable_ID</th>\n",
       "      <th>ltable_Title</th>\n",
       "      <th>ltable_Developer</th>\n",
       "      <th>ltable_Publisher</th>\n",
       "      <th>ltable_Platform</th>\n",
       "      <th>ltable_Genre</th>\n",
       "      <th>ltable_Rating</th>\n",
       "      <th>ltable_ReleaseDate</th>\n",
       "      <th>ltable_CleanRDate</th>\n",
       "      <th>rtable_Title</th>\n",
       "      <th>rtable_Developer</th>\n",
       "      <th>rtable_Publisher</th>\n",
       "      <th>rtable_Platform</th>\n",
       "      <th>rtable_Genre</th>\n",
       "      <th>rtable_Rating</th>\n",
       "      <th>rtable_ReleaseDate</th>\n",
       "      <th>rtable_CleanRDate</th>\n",
       "    </tr>\n",
       "  </thead>\n",
       "  <tbody>\n",
       "    <tr>\n",
       "      <th>0</th>\n",
       "      <td>0</td>\n",
       "      <td>a8</td>\n",
       "      <td>b1</td>\n",
       "      <td>007 Legends</td>\n",
       "      <td>Eurocom Entertainment Software</td>\n",
       "      <td>Activision</td>\n",
       "      <td>PC|PlayStation 3|Wii U|Xbox 360</td>\n",
       "      <td>First-Person|Shooter|3D|Action</td>\n",
       "      <td>5.1</td>\n",
       "      <td>16 Oct 2012</td>\n",
       "      <td>2012-10-16</td>\n",
       "      <td>007 Legends</td>\n",
       "      <td>Eurocom</td>\n",
       "      <td>Activision</td>\n",
       "      <td>PC|PlayStation 3|Wii U|Xbox 360</td>\n",
       "      <td>First-Person|Shooter</td>\n",
       "      <td>5.0</td>\n",
       "      <td>16 October 2012</td>\n",
       "      <td>2012-10-16</td>\n",
       "    </tr>\n",
       "    <tr>\n",
       "      <th>1</th>\n",
       "      <td>1</td>\n",
       "      <td>a12</td>\n",
       "      <td>b12</td>\n",
       "      <td>1-2-Switch</td>\n",
       "      <td>Nintendo</td>\n",
       "      <td>Nintendo</td>\n",
       "      <td>Nintendo Switch</td>\n",
       "      <td>Party/Minigame</td>\n",
       "      <td>2.0</td>\n",
       "      <td>3 Mar 2017</td>\n",
       "      <td>2017-03-03</td>\n",
       "      <td>1-2-Switch</td>\n",
       "      <td>Nintendo EPD</td>\n",
       "      <td>Nintendo</td>\n",
       "      <td>Nintendo Switch</td>\n",
       "      <td>Action|Party</td>\n",
       "      <td>5.4</td>\n",
       "      <td>03 March 2017</td>\n",
       "      <td>2017-03-03</td>\n",
       "    </tr>\n",
       "  </tbody>\n",
       "</table>\n",
       "</div>"
      ],
      "text/plain": [
       "   _id ltable_ID rtable_ID ltable_Title                ltable_Developer  \\\n",
       "0    0        a8        b1  007 Legends  Eurocom Entertainment Software   \n",
       "1    1       a12       b12   1-2-Switch                        Nintendo   \n",
       "\n",
       "  ltable_Publisher                  ltable_Platform  \\\n",
       "0       Activision  PC|PlayStation 3|Wii U|Xbox 360   \n",
       "1         Nintendo                  Nintendo Switch   \n",
       "\n",
       "                     ltable_Genre  ltable_Rating ltable_ReleaseDate  \\\n",
       "0  First-Person|Shooter|3D|Action            5.1        16 Oct 2012   \n",
       "1                  Party/Minigame            2.0         3 Mar 2017   \n",
       "\n",
       "  ltable_CleanRDate rtable_Title rtable_Developer rtable_Publisher  \\\n",
       "0        2012-10-16  007 Legends          Eurocom       Activision   \n",
       "1        2017-03-03   1-2-Switch     Nintendo EPD         Nintendo   \n",
       "\n",
       "                   rtable_Platform          rtable_Genre  rtable_Rating  \\\n",
       "0  PC|PlayStation 3|Wii U|Xbox 360  First-Person|Shooter            5.0   \n",
       "1                  Nintendo Switch          Action|Party            5.4   \n",
       "\n",
       "  rtable_ReleaseDate rtable_CleanRDate  \n",
       "0    16 October 2012        2012-10-16  \n",
       "1      03 March 2017        2017-03-03  "
      ]
     },
     "execution_count": 218,
     "metadata": {},
     "output_type": "execute_result"
    }
   ],
   "source": [
    "C3.head(2)"
   ]
  },
  {
   "cell_type": "code",
   "execution_count": 31,
   "metadata": {
    "collapsed": true
   },
   "outputs": [],
   "source": [
    "dbg2 = em.debug_blocker(C3, dfTableA, dfTableB)"
   ]
  },
  {
   "cell_type": "code",
   "execution_count": 220,
   "metadata": {},
   "outputs": [
    {
     "data": {
      "text/html": [
       "<div>\n",
       "<style>\n",
       "    .dataframe thead tr:only-child th {\n",
       "        text-align: right;\n",
       "    }\n",
       "\n",
       "    .dataframe thead th {\n",
       "        text-align: left;\n",
       "    }\n",
       "\n",
       "    .dataframe tbody tr th {\n",
       "        vertical-align: top;\n",
       "    }\n",
       "</style>\n",
       "<table border=\"1\" class=\"dataframe\">\n",
       "  <thead>\n",
       "    <tr style=\"text-align: right;\">\n",
       "      <th></th>\n",
       "      <th>_id</th>\n",
       "      <th>similarity</th>\n",
       "      <th>ltable_ID</th>\n",
       "      <th>rtable_ID</th>\n",
       "      <th>ltable_Title</th>\n",
       "      <th>ltable_Developer</th>\n",
       "      <th>ltable_Publisher</th>\n",
       "      <th>ltable_Platform</th>\n",
       "      <th>ltable_Genre</th>\n",
       "      <th>ltable_ReleaseDate</th>\n",
       "      <th>ltable_CleanRDate</th>\n",
       "      <th>rtable_Title</th>\n",
       "      <th>rtable_Developer</th>\n",
       "      <th>rtable_Publisher</th>\n",
       "      <th>rtable_Platform</th>\n",
       "      <th>rtable_Genre</th>\n",
       "      <th>rtable_ReleaseDate</th>\n",
       "      <th>rtable_CleanRDate</th>\n",
       "    </tr>\n",
       "  </thead>\n",
       "  <tbody>\n",
       "    <tr>\n",
       "      <th>0</th>\n",
       "      <td>0</td>\n",
       "      <td>1.000000</td>\n",
       "      <td>a5169</td>\n",
       "      <td>b4890</td>\n",
       "      <td>Not a Hero</td>\n",
       "      <td>roll7</td>\n",
       "      <td>Devolver Digital|Team 17</td>\n",
       "      <td>Linux|Macintosh|PC|PlayStation 4|Xbox One</td>\n",
       "      <td>Action|Shoot-'Em-Up|2D</td>\n",
       "      <td>14 May 2015</td>\n",
       "      <td>2015-05-14</td>\n",
       "      <td>Not A Hero</td>\n",
       "      <td>Roll7</td>\n",
       "      <td>Devolver Digital</td>\n",
       "      <td>PC|PlayStation 4</td>\n",
       "      <td>Shooter</td>\n",
       "      <td>14 May 2015</td>\n",
       "      <td>2015-05-14</td>\n",
       "    </tr>\n",
       "    <tr>\n",
       "      <th>1</th>\n",
       "      <td>1</td>\n",
       "      <td>0.888889</td>\n",
       "      <td>a5395</td>\n",
       "      <td>b5116</td>\n",
       "      <td>Perception</td>\n",
       "      <td>The Deep End Games</td>\n",
       "      <td>The Deep End Games|WFH GAMES SP. Z O.O.|Feardemic</td>\n",
       "      <td>Nintendo Switch|PC|PlayStation 4|Xbox One</td>\n",
       "      <td>First-Person|Adventure|3D</td>\n",
       "      <td>30 May 2017</td>\n",
       "      <td>2017-05-30</td>\n",
       "      <td>Perception (2017)</td>\n",
       "      <td>The Deep End Games</td>\n",
       "      <td>Feardemic</td>\n",
       "      <td>PC</td>\n",
       "      <td>First-Person|Adventure|Survival Horror</td>\n",
       "      <td>30 May 2017</td>\n",
       "      <td>2017-05-30</td>\n",
       "    </tr>\n",
       "    <tr>\n",
       "      <th>2</th>\n",
       "      <td>2</td>\n",
       "      <td>0.875000</td>\n",
       "      <td>a2831</td>\n",
       "      <td>b2810</td>\n",
       "      <td>Game of Thrones</td>\n",
       "      <td>Cyanide</td>\n",
       "      <td>ATLUS|Focus Home Interactive</td>\n",
       "      <td>PC|PlayStation 3|Xbox 360</td>\n",
       "      <td>Role-Playing</td>\n",
       "      <td>15 May 2012</td>\n",
       "      <td>2012-05-15</td>\n",
       "      <td>Game of Thrones (2012)</td>\n",
       "      <td>Cyanide</td>\n",
       "      <td>Atlus|Focus Home Interactive</td>\n",
       "      <td>PC|PlayStation 3|Xbox 360</td>\n",
       "      <td>Role-Playing</td>\n",
       "      <td>15 May 2012</td>\n",
       "      <td>2012-05-15</td>\n",
       "    </tr>\n",
       "  </tbody>\n",
       "</table>\n",
       "</div>"
      ],
      "text/plain": [
       "   _id  similarity ltable_ID rtable_ID     ltable_Title    ltable_Developer  \\\n",
       "0    0    1.000000     a5169     b4890       Not a Hero               roll7   \n",
       "1    1    0.888889     a5395     b5116       Perception  The Deep End Games   \n",
       "2    2    0.875000     a2831     b2810  Game of Thrones             Cyanide   \n",
       "\n",
       "                                    ltable_Publisher  \\\n",
       "0                           Devolver Digital|Team 17   \n",
       "1  The Deep End Games|WFH GAMES SP. Z O.O.|Feardemic   \n",
       "2                       ATLUS|Focus Home Interactive   \n",
       "\n",
       "                             ltable_Platform               ltable_Genre  \\\n",
       "0  Linux|Macintosh|PC|PlayStation 4|Xbox One     Action|Shoot-'Em-Up|2D   \n",
       "1  Nintendo Switch|PC|PlayStation 4|Xbox One  First-Person|Adventure|3D   \n",
       "2                  PC|PlayStation 3|Xbox 360               Role-Playing   \n",
       "\n",
       "  ltable_ReleaseDate ltable_CleanRDate            rtable_Title  \\\n",
       "0        14 May 2015        2015-05-14              Not A Hero   \n",
       "1        30 May 2017        2017-05-30       Perception (2017)   \n",
       "2        15 May 2012        2012-05-15  Game of Thrones (2012)   \n",
       "\n",
       "     rtable_Developer              rtable_Publisher  \\\n",
       "0               Roll7              Devolver Digital   \n",
       "1  The Deep End Games                     Feardemic   \n",
       "2             Cyanide  Atlus|Focus Home Interactive   \n",
       "\n",
       "             rtable_Platform                            rtable_Genre  \\\n",
       "0           PC|PlayStation 4                                 Shooter   \n",
       "1                         PC  First-Person|Adventure|Survival Horror   \n",
       "2  PC|PlayStation 3|Xbox 360                            Role-Playing   \n",
       "\n",
       "  rtable_ReleaseDate rtable_CleanRDate  \n",
       "0        14 May 2015        2015-05-14  \n",
       "1        30 May 2017        2017-05-30  \n",
       "2        15 May 2012        2012-05-15  "
      ]
     },
     "execution_count": 220,
     "metadata": {},
     "output_type": "execute_result"
    }
   ],
   "source": [
    "dbg2.head(3)"
   ]
  },
  {
   "cell_type": "markdown",
   "metadata": {},
   "source": [
    "#### Attribute equivalence blocker generates candidate set with almost all positives but since it is case sensitive we are missing on lot of positive samples."
   ]
  },
  {
   "cell_type": "markdown",
   "metadata": {},
   "source": [
    "#### Trying Rule based blocking on Candidate set C2 generated after running Overlap blocker by q-gram and word overlap"
   ]
  },
  {
   "cell_type": "code",
   "execution_count": 38,
   "metadata": {
    "collapsed": true
   },
   "outputs": [],
   "source": [
    "block_f = em.get_features_for_blocking(dfTableA, dfTableB, validate_inferred_attr_types=False)"
   ]
  },
  {
   "cell_type": "code",
   "execution_count": 224,
   "metadata": {},
   "outputs": [
    {
     "data": {
      "text/html": [
       "<div>\n",
       "<style>\n",
       "    .dataframe thead tr:only-child th {\n",
       "        text-align: right;\n",
       "    }\n",
       "\n",
       "    .dataframe thead th {\n",
       "        text-align: left;\n",
       "    }\n",
       "\n",
       "    .dataframe tbody tr th {\n",
       "        vertical-align: top;\n",
       "    }\n",
       "</style>\n",
       "<table border=\"1\" class=\"dataframe\">\n",
       "  <thead>\n",
       "    <tr style=\"text-align: right;\">\n",
       "      <th></th>\n",
       "      <th>feature_name</th>\n",
       "      <th>left_attribute</th>\n",
       "      <th>right_attribute</th>\n",
       "      <th>left_attr_tokenizer</th>\n",
       "      <th>right_attr_tokenizer</th>\n",
       "      <th>simfunction</th>\n",
       "      <th>function</th>\n",
       "      <th>function_source</th>\n",
       "      <th>is_auto_generated</th>\n",
       "    </tr>\n",
       "  </thead>\n",
       "  <tbody>\n",
       "    <tr>\n",
       "      <th>0</th>\n",
       "      <td>ID_ID_lev_dist</td>\n",
       "      <td>ID</td>\n",
       "      <td>ID</td>\n",
       "      <td>None</td>\n",
       "      <td>None</td>\n",
       "      <td>lev_dist</td>\n",
       "      <td>&lt;function ID_ID_lev_dist at 0x000002025D589158&gt;</td>\n",
       "      <td>from py_entitymatching.feature.simfunctions import *\\nfrom py_entitymatching.feature.tokenizers ...</td>\n",
       "      <td>True</td>\n",
       "    </tr>\n",
       "    <tr>\n",
       "      <th>1</th>\n",
       "      <td>ID_ID_lev_sim</td>\n",
       "      <td>ID</td>\n",
       "      <td>ID</td>\n",
       "      <td>None</td>\n",
       "      <td>None</td>\n",
       "      <td>lev_sim</td>\n",
       "      <td>&lt;function ID_ID_lev_sim at 0x000002020181BE18&gt;</td>\n",
       "      <td>from py_entitymatching.feature.simfunctions import *\\nfrom py_entitymatching.feature.tokenizers ...</td>\n",
       "      <td>True</td>\n",
       "    </tr>\n",
       "    <tr>\n",
       "      <th>2</th>\n",
       "      <td>ID_ID_jar</td>\n",
       "      <td>ID</td>\n",
       "      <td>ID</td>\n",
       "      <td>None</td>\n",
       "      <td>None</td>\n",
       "      <td>jaro</td>\n",
       "      <td>&lt;function ID_ID_jar at 0x000002020181B730&gt;</td>\n",
       "      <td>from py_entitymatching.feature.simfunctions import *\\nfrom py_entitymatching.feature.tokenizers ...</td>\n",
       "      <td>True</td>\n",
       "    </tr>\n",
       "    <tr>\n",
       "      <th>3</th>\n",
       "      <td>ID_ID_jwn</td>\n",
       "      <td>ID</td>\n",
       "      <td>ID</td>\n",
       "      <td>None</td>\n",
       "      <td>None</td>\n",
       "      <td>jaro_winkler</td>\n",
       "      <td>&lt;function ID_ID_jwn at 0x000002020181BB70&gt;</td>\n",
       "      <td>from py_entitymatching.feature.simfunctions import *\\nfrom py_entitymatching.feature.tokenizers ...</td>\n",
       "      <td>True</td>\n",
       "    </tr>\n",
       "    <tr>\n",
       "      <th>4</th>\n",
       "      <td>ID_ID_exm</td>\n",
       "      <td>ID</td>\n",
       "      <td>ID</td>\n",
       "      <td>None</td>\n",
       "      <td>None</td>\n",
       "      <td>exact_match</td>\n",
       "      <td>&lt;function ID_ID_exm at 0x000002020181B950&gt;</td>\n",
       "      <td>from py_entitymatching.feature.simfunctions import *\\nfrom py_entitymatching.feature.tokenizers ...</td>\n",
       "      <td>True</td>\n",
       "    </tr>\n",
       "  </tbody>\n",
       "</table>\n",
       "</div>"
      ],
      "text/plain": [
       "     feature_name left_attribute right_attribute left_attr_tokenizer  \\\n",
       "0  ID_ID_lev_dist             ID              ID                None   \n",
       "1   ID_ID_lev_sim             ID              ID                None   \n",
       "2       ID_ID_jar             ID              ID                None   \n",
       "3       ID_ID_jwn             ID              ID                None   \n",
       "4       ID_ID_exm             ID              ID                None   \n",
       "\n",
       "  right_attr_tokenizer   simfunction  \\\n",
       "0                 None      lev_dist   \n",
       "1                 None       lev_sim   \n",
       "2                 None          jaro   \n",
       "3                 None  jaro_winkler   \n",
       "4                 None   exact_match   \n",
       "\n",
       "                                          function  \\\n",
       "0  <function ID_ID_lev_dist at 0x000002025D589158>   \n",
       "1   <function ID_ID_lev_sim at 0x000002020181BE18>   \n",
       "2       <function ID_ID_jar at 0x000002020181B730>   \n",
       "3       <function ID_ID_jwn at 0x000002020181BB70>   \n",
       "4       <function ID_ID_exm at 0x000002020181B950>   \n",
       "\n",
       "                                                                                       function_source  \\\n",
       "0  from py_entitymatching.feature.simfunctions import *\\nfrom py_entitymatching.feature.tokenizers ...   \n",
       "1  from py_entitymatching.feature.simfunctions import *\\nfrom py_entitymatching.feature.tokenizers ...   \n",
       "2  from py_entitymatching.feature.simfunctions import *\\nfrom py_entitymatching.feature.tokenizers ...   \n",
       "3  from py_entitymatching.feature.simfunctions import *\\nfrom py_entitymatching.feature.tokenizers ...   \n",
       "4  from py_entitymatching.feature.simfunctions import *\\nfrom py_entitymatching.feature.tokenizers ...   \n",
       "\n",
       "   is_auto_generated  \n",
       "0               True  \n",
       "1               True  \n",
       "2               True  \n",
       "3               True  \n",
       "4               True  "
      ]
     },
     "execution_count": 224,
     "metadata": {},
     "output_type": "execute_result"
    }
   ],
   "source": [
    "block_f.head(5)"
   ]
  },
  {
   "cell_type": "markdown",
   "metadata": {},
   "source": [
    "#### Add similarity measure as rule for candidate in set C2"
   ]
  },
  {
   "cell_type": "code",
   "execution_count": 175,
   "metadata": {},
   "outputs": [
    {
     "data": {
      "text/plain": [
       "'_rule_0'"
      ]
     },
     "execution_count": 175,
     "metadata": {},
     "output_type": "execute_result"
    }
   ],
   "source": [
    "rb = em.RuleBasedBlocker()\n",
    "rb.add_rule(['Title_Title_lev_sim(ltuple, rtuple) < 0.4'], block_f)"
   ]
  },
  {
   "cell_type": "code",
   "execution_count": 176,
   "metadata": {},
   "outputs": [
    {
     "name": "stderr",
     "output_type": "stream",
     "text": [
      "0% [##############################] 100% | ETA: 00:00:00\n",
      "Total time elapsed: 00:01:14\n"
     ]
    }
   ],
   "source": [
    "C4 = rb.block_candset(C2)"
   ]
  },
  {
   "cell_type": "code",
   "execution_count": 177,
   "metadata": {},
   "outputs": [
    {
     "data": {
      "text/plain": [
       "70668"
      ]
     },
     "execution_count": 177,
     "metadata": {},
     "output_type": "execute_result"
    }
   ],
   "source": [
    "len(C4)"
   ]
  },
  {
   "cell_type": "code",
   "execution_count": 221,
   "metadata": {},
   "outputs": [
    {
     "data": {
      "text/html": [
       "<div>\n",
       "<style>\n",
       "    .dataframe thead tr:only-child th {\n",
       "        text-align: right;\n",
       "    }\n",
       "\n",
       "    .dataframe thead th {\n",
       "        text-align: left;\n",
       "    }\n",
       "\n",
       "    .dataframe tbody tr th {\n",
       "        vertical-align: top;\n",
       "    }\n",
       "</style>\n",
       "<table border=\"1\" class=\"dataframe\">\n",
       "  <thead>\n",
       "    <tr style=\"text-align: right;\">\n",
       "      <th></th>\n",
       "      <th>_id</th>\n",
       "      <th>ltable_ID</th>\n",
       "      <th>rtable_ID</th>\n",
       "      <th>ltable_Title</th>\n",
       "      <th>ltable_Developer</th>\n",
       "      <th>ltable_Publisher</th>\n",
       "      <th>ltable_Platform</th>\n",
       "      <th>ltable_Genre</th>\n",
       "      <th>ltable_Rating</th>\n",
       "      <th>ltable_ReleaseDate</th>\n",
       "      <th>ltable_CleanRDate</th>\n",
       "      <th>rtable_Title</th>\n",
       "      <th>rtable_Developer</th>\n",
       "      <th>rtable_Publisher</th>\n",
       "      <th>rtable_Platform</th>\n",
       "      <th>rtable_Genre</th>\n",
       "      <th>rtable_Rating</th>\n",
       "      <th>rtable_ReleaseDate</th>\n",
       "      <th>rtable_CleanRDate</th>\n",
       "    </tr>\n",
       "  </thead>\n",
       "  <tbody>\n",
       "    <tr>\n",
       "      <th>0</th>\n",
       "      <td>0</td>\n",
       "      <td>a8</td>\n",
       "      <td>b1</td>\n",
       "      <td>007 Legends</td>\n",
       "      <td>Eurocom Entertainment Software</td>\n",
       "      <td>Activision</td>\n",
       "      <td>PC|PlayStation 3|Wii U|Xbox 360</td>\n",
       "      <td>First-Person|Shooter|3D|Action</td>\n",
       "      <td>5.1</td>\n",
       "      <td>16 Oct 2012</td>\n",
       "      <td>2012-10-16</td>\n",
       "      <td>007 Legends</td>\n",
       "      <td>Eurocom</td>\n",
       "      <td>Activision</td>\n",
       "      <td>PC|PlayStation 3|Wii U|Xbox 360</td>\n",
       "      <td>First-Person|Shooter</td>\n",
       "      <td>5.0</td>\n",
       "      <td>16 October 2012</td>\n",
       "      <td>2012-10-16</td>\n",
       "    </tr>\n",
       "    <tr>\n",
       "      <th>8</th>\n",
       "      <td>8</td>\n",
       "      <td>a973</td>\n",
       "      <td>b1</td>\n",
       "      <td>Burnout Legends</td>\n",
       "      <td>Visual Impact|Criterion Games</td>\n",
       "      <td>EA Games|Electronic Arts</td>\n",
       "      <td>DS|PSP</td>\n",
       "      <td>Arcade|Driving/Racing</td>\n",
       "      <td>8.7</td>\n",
       "      <td>13 Sep 2005</td>\n",
       "      <td>2005-09-13</td>\n",
       "      <td>007 Legends</td>\n",
       "      <td>Eurocom</td>\n",
       "      <td>Activision</td>\n",
       "      <td>PC|PlayStation 3|Wii U|Xbox 360</td>\n",
       "      <td>First-Person|Shooter</td>\n",
       "      <td>5.0</td>\n",
       "      <td>16 October 2012</td>\n",
       "      <td>2012-10-16</td>\n",
       "    </tr>\n",
       "  </tbody>\n",
       "</table>\n",
       "</div>"
      ],
      "text/plain": [
       "   _id ltable_ID rtable_ID     ltable_Title                ltable_Developer  \\\n",
       "0    0        a8        b1      007 Legends  Eurocom Entertainment Software   \n",
       "8    8      a973        b1  Burnout Legends   Visual Impact|Criterion Games   \n",
       "\n",
       "           ltable_Publisher                  ltable_Platform  \\\n",
       "0                Activision  PC|PlayStation 3|Wii U|Xbox 360   \n",
       "8  EA Games|Electronic Arts                           DS|PSP   \n",
       "\n",
       "                     ltable_Genre  ltable_Rating ltable_ReleaseDate  \\\n",
       "0  First-Person|Shooter|3D|Action            5.1        16 Oct 2012   \n",
       "8           Arcade|Driving/Racing            8.7        13 Sep 2005   \n",
       "\n",
       "  ltable_CleanRDate rtable_Title rtable_Developer rtable_Publisher  \\\n",
       "0        2012-10-16  007 Legends          Eurocom       Activision   \n",
       "8        2005-09-13  007 Legends          Eurocom       Activision   \n",
       "\n",
       "                   rtable_Platform          rtable_Genre  rtable_Rating  \\\n",
       "0  PC|PlayStation 3|Wii U|Xbox 360  First-Person|Shooter            5.0   \n",
       "8  PC|PlayStation 3|Wii U|Xbox 360  First-Person|Shooter            5.0   \n",
       "\n",
       "  rtable_ReleaseDate rtable_CleanRDate  \n",
       "0    16 October 2012        2012-10-16  \n",
       "8    16 October 2012        2012-10-16  "
      ]
     },
     "execution_count": 221,
     "metadata": {},
     "output_type": "execute_result"
    }
   ],
   "source": [
    "C4.head(2)"
   ]
  },
  {
   "cell_type": "code",
   "execution_count": 179,
   "metadata": {},
   "outputs": [],
   "source": [
    "dbg1_3 = em.debug_blocker(C4, dfTableA, dfTableB)"
   ]
  },
  {
   "cell_type": "code",
   "execution_count": 222,
   "metadata": {},
   "outputs": [
    {
     "data": {
      "text/html": [
       "<div>\n",
       "<style>\n",
       "    .dataframe thead tr:only-child th {\n",
       "        text-align: right;\n",
       "    }\n",
       "\n",
       "    .dataframe thead th {\n",
       "        text-align: left;\n",
       "    }\n",
       "\n",
       "    .dataframe tbody tr th {\n",
       "        vertical-align: top;\n",
       "    }\n",
       "</style>\n",
       "<table border=\"1\" class=\"dataframe\">\n",
       "  <thead>\n",
       "    <tr style=\"text-align: right;\">\n",
       "      <th></th>\n",
       "      <th>_id</th>\n",
       "      <th>similarity</th>\n",
       "      <th>ltable_ID</th>\n",
       "      <th>rtable_ID</th>\n",
       "      <th>ltable_Title</th>\n",
       "      <th>ltable_Developer</th>\n",
       "      <th>ltable_Publisher</th>\n",
       "      <th>ltable_Platform</th>\n",
       "      <th>ltable_Genre</th>\n",
       "      <th>ltable_ReleaseDate</th>\n",
       "      <th>ltable_CleanRDate</th>\n",
       "      <th>rtable_Title</th>\n",
       "      <th>rtable_Developer</th>\n",
       "      <th>rtable_Publisher</th>\n",
       "      <th>rtable_Platform</th>\n",
       "      <th>rtable_Genre</th>\n",
       "      <th>rtable_ReleaseDate</th>\n",
       "      <th>rtable_CleanRDate</th>\n",
       "    </tr>\n",
       "  </thead>\n",
       "  <tbody>\n",
       "    <tr>\n",
       "      <th>0</th>\n",
       "      <td>0</td>\n",
       "      <td>1.000000</td>\n",
       "      <td>a1492</td>\n",
       "      <td>b1479</td>\n",
       "      <td>D</td>\n",
       "      <td>WARP</td>\n",
       "      <td>Panasonic|WARP|Sanyei Shobou|Night Dive Studios|Acclaim|Acclaim Japan|Tec Toy</td>\n",
       "      <td>3DO|Linux|Macintosh|PC|PlayStation|Saturn</td>\n",
       "      <td>Adventure</td>\n",
       "      <td>1995</td>\n",
       "      <td>1995-01-01</td>\n",
       "      <td>D</td>\n",
       "      <td>WARP</td>\n",
       "      <td>Acclaim Entertainment</td>\n",
       "      <td>PC|PlayStation|Sega Saturn</td>\n",
       "      <td>First-Person|Adventure|Puzzle|Survival|Survival Horror</td>\n",
       "      <td>1995</td>\n",
       "      <td>1995-01-01</td>\n",
       "    </tr>\n",
       "    <tr>\n",
       "      <th>1</th>\n",
       "      <td>1</td>\n",
       "      <td>0.857143</td>\n",
       "      <td>a3442</td>\n",
       "      <td>b8469</td>\n",
       "      <td>inFamous</td>\n",
       "      <td>Sucker Punch</td>\n",
       "      <td>SCEI|SCE Australia|SCEA|SCEE</td>\n",
       "      <td>PlayStation 3</td>\n",
       "      <td>Action|Adventure</td>\n",
       "      <td>26 May 2009</td>\n",
       "      <td>2009-05-26</td>\n",
       "      <td>inFAMOUS</td>\n",
       "      <td>Sucker Punch Productions</td>\n",
       "      <td>Sony Computer Entertainment</td>\n",
       "      <td>PlayStation 3</td>\n",
       "      <td>Action|Adventure|Open World</td>\n",
       "      <td>26 May 2009</td>\n",
       "      <td>2009-05-26</td>\n",
       "    </tr>\n",
       "    <tr>\n",
       "      <th>2</th>\n",
       "      <td>2</td>\n",
       "      <td>0.833333</td>\n",
       "      <td>a8852</td>\n",
       "      <td>b8410</td>\n",
       "      <td>ZENONIA</td>\n",
       "      <td>GAMEVIL Inc.</td>\n",
       "      <td>GAMEVIL Inc.</td>\n",
       "      <td>Android|DS|iOS (iPhone/iPad)|PSP|Windows Mobile|Zeebo</td>\n",
       "      <td>Action|Role-Playing</td>\n",
       "      <td>24 May 2009</td>\n",
       "      <td>2009-05-24</td>\n",
       "      <td>Zenonia</td>\n",
       "      <td>Gamevil</td>\n",
       "      <td>Gamevil</td>\n",
       "      <td>Android|iOS|Mobile|Nintendo 3DS|Nintendo DS</td>\n",
       "      <td>Action RPG</td>\n",
       "      <td>24 May 2009</td>\n",
       "      <td>2009-05-24</td>\n",
       "    </tr>\n",
       "  </tbody>\n",
       "</table>\n",
       "</div>"
      ],
      "text/plain": [
       "   _id  similarity ltable_ID rtable_ID ltable_Title ltable_Developer  \\\n",
       "0    0    1.000000     a1492     b1479            D             WARP   \n",
       "1    1    0.857143     a3442     b8469     inFamous     Sucker Punch   \n",
       "2    2    0.833333     a8852     b8410      ZENONIA     GAMEVIL Inc.   \n",
       "\n",
       "                                                                ltable_Publisher  \\\n",
       "0  Panasonic|WARP|Sanyei Shobou|Night Dive Studios|Acclaim|Acclaim Japan|Tec Toy   \n",
       "1                                                   SCEI|SCE Australia|SCEA|SCEE   \n",
       "2                                                                   GAMEVIL Inc.   \n",
       "\n",
       "                                         ltable_Platform         ltable_Genre  \\\n",
       "0              3DO|Linux|Macintosh|PC|PlayStation|Saturn            Adventure   \n",
       "1                                          PlayStation 3     Action|Adventure   \n",
       "2  Android|DS|iOS (iPhone/iPad)|PSP|Windows Mobile|Zeebo  Action|Role-Playing   \n",
       "\n",
       "  ltable_ReleaseDate ltable_CleanRDate rtable_Title          rtable_Developer  \\\n",
       "0               1995        1995-01-01            D                      WARP   \n",
       "1        26 May 2009        2009-05-26     inFAMOUS  Sucker Punch Productions   \n",
       "2        24 May 2009        2009-05-24      Zenonia                   Gamevil   \n",
       "\n",
       "              rtable_Publisher                              rtable_Platform  \\\n",
       "0        Acclaim Entertainment                   PC|PlayStation|Sega Saturn   \n",
       "1  Sony Computer Entertainment                                PlayStation 3   \n",
       "2                      Gamevil  Android|iOS|Mobile|Nintendo 3DS|Nintendo DS   \n",
       "\n",
       "                                             rtable_Genre rtable_ReleaseDate  \\\n",
       "0  First-Person|Adventure|Puzzle|Survival|Survival Horror               1995   \n",
       "1                             Action|Adventure|Open World        26 May 2009   \n",
       "2                                              Action RPG        24 May 2009   \n",
       "\n",
       "  rtable_CleanRDate  \n",
       "0        1995-01-01  \n",
       "1        2009-05-26  \n",
       "2        2009-05-24  "
      ]
     },
     "execution_count": 222,
     "metadata": {},
     "output_type": "execute_result"
    }
   ],
   "source": [
    "dbg1_3.head(3)"
   ]
  },
  {
   "cell_type": "markdown",
   "metadata": {},
   "source": [
    "#### A few single word titles are blocked mainly because the blocking is case-sensitive to title attribute. A case-insensitive version will help reduce the number of dropped matches.\n",
    "\n",
    "Reducing the candidate blockset further by using black box matcher with custom function to check for release date similarity."
   ]
  },
  {
   "cell_type": "code",
   "execution_count": 110,
   "metadata": {
    "collapsed": true
   },
   "outputs": [],
   "source": [
    "# release date compare function\n",
    "# if titles release match within a year in both tables we don't block it\n",
    "def compareReleaseDate(A, B):\n",
    "    A_cleanRDate = A['CleanRDate']\n",
    "    B_cleanRDate = B['CleanRDate']\n",
    "    \n",
    "    try:\n",
    "        d1 = datetime.strptime(A_cleanRDate, \"%Y-%m-%d\")\n",
    "        d2 = datetime.strptime(B_cleanRDate, \"%Y-%m-%d\")\n",
    "        dayDiff = abs(d2-d1).days\n",
    "\n",
    "        if dayDiff > 366:\n",
    "            return True\n",
    "    except:\n",
    "        return False"
   ]
  },
  {
   "cell_type": "code",
   "execution_count": 111,
   "metadata": {},
   "outputs": [
    {
     "name": "stderr",
     "output_type": "stream",
     "text": [
      "0% [##############################] 100% | ETA: 00:00:00\n",
      "Total time elapsed: 00:00:07\n"
     ]
    }
   ],
   "source": [
    "bb = em.BlackBoxBlocker()\n",
    "# Set the black box function\n",
    "bb.set_black_box_function(compareReleaseDate)\n",
    "C5 = bb.block_candset(C4)"
   ]
  },
  {
   "cell_type": "code",
   "execution_count": 112,
   "metadata": {},
   "outputs": [
    {
     "data": {
      "text/plain": [
       "13062"
      ]
     },
     "execution_count": 112,
     "metadata": {},
     "output_type": "execute_result"
    }
   ],
   "source": [
    "len(C5)"
   ]
  },
  {
   "cell_type": "markdown",
   "metadata": {},
   "source": [
    "### Combine candidates"
   ]
  },
  {
   "cell_type": "code",
   "execution_count": 181,
   "metadata": {},
   "outputs": [
    {
     "data": {
      "text/plain": [
       "13186"
      ]
     },
     "execution_count": 181,
     "metadata": {},
     "output_type": "execute_result"
    }
   ],
   "source": [
    "# combining true matches as found by Attribute equivalence blocker\n",
    "C = em.combine_blocker_outputs_via_union([C3, C5])\n",
    "len(C)"
   ]
  },
  {
   "cell_type": "code",
   "execution_count": 205,
   "metadata": {
    "collapsed": true
   },
   "outputs": [],
   "source": [
    "# save candidate set C to file\n",
    "C.to_csv('selectedCandidates.csv',index=False)"
   ]
  },
  {
   "cell_type": "code",
   "execution_count": 167,
   "metadata": {
    "collapsed": true
   },
   "outputs": [],
   "source": [
    "dbg1_4 = em.debug_blocker(C, dfTableA, dfTableB)"
   ]
  },
  {
   "cell_type": "code",
   "execution_count": 223,
   "metadata": {},
   "outputs": [
    {
     "data": {
      "text/html": [
       "<div>\n",
       "<style>\n",
       "    .dataframe thead tr:only-child th {\n",
       "        text-align: right;\n",
       "    }\n",
       "\n",
       "    .dataframe thead th {\n",
       "        text-align: left;\n",
       "    }\n",
       "\n",
       "    .dataframe tbody tr th {\n",
       "        vertical-align: top;\n",
       "    }\n",
       "</style>\n",
       "<table border=\"1\" class=\"dataframe\">\n",
       "  <thead>\n",
       "    <tr style=\"text-align: right;\">\n",
       "      <th></th>\n",
       "      <th>_id</th>\n",
       "      <th>similarity</th>\n",
       "      <th>ltable_ID</th>\n",
       "      <th>rtable_ID</th>\n",
       "      <th>ltable_Title</th>\n",
       "      <th>ltable_Developer</th>\n",
       "      <th>ltable_Publisher</th>\n",
       "      <th>ltable_Platform</th>\n",
       "      <th>ltable_Genre</th>\n",
       "      <th>ltable_ReleaseDate</th>\n",
       "      <th>ltable_CleanRDate</th>\n",
       "      <th>rtable_Title</th>\n",
       "      <th>rtable_Developer</th>\n",
       "      <th>rtable_Publisher</th>\n",
       "      <th>rtable_Platform</th>\n",
       "      <th>rtable_Genre</th>\n",
       "      <th>rtable_ReleaseDate</th>\n",
       "      <th>rtable_CleanRDate</th>\n",
       "    </tr>\n",
       "  </thead>\n",
       "  <tbody>\n",
       "    <tr>\n",
       "      <th>0</th>\n",
       "      <td>0</td>\n",
       "      <td>0.857143</td>\n",
       "      <td>a3442</td>\n",
       "      <td>b8469</td>\n",
       "      <td>inFamous</td>\n",
       "      <td>Sucker Punch</td>\n",
       "      <td>SCEI|SCE Australia|SCEA|SCEE</td>\n",
       "      <td>PlayStation 3</td>\n",
       "      <td>Action|Adventure</td>\n",
       "      <td>26 May 2009</td>\n",
       "      <td>2009-05-26</td>\n",
       "      <td>inFAMOUS</td>\n",
       "      <td>Sucker Punch Productions</td>\n",
       "      <td>Sony Computer Entertainment</td>\n",
       "      <td>PlayStation 3</td>\n",
       "      <td>Action|Adventure|Open World</td>\n",
       "      <td>26 May 2009</td>\n",
       "      <td>2009-05-26</td>\n",
       "    </tr>\n",
       "    <tr>\n",
       "      <th>1</th>\n",
       "      <td>1</td>\n",
       "      <td>0.833333</td>\n",
       "      <td>a8852</td>\n",
       "      <td>b8410</td>\n",
       "      <td>ZENONIA</td>\n",
       "      <td>GAMEVIL Inc.</td>\n",
       "      <td>GAMEVIL Inc.</td>\n",
       "      <td>Android|DS|iOS (iPhone/iPad)|PSP|Windows Mobile|Zeebo</td>\n",
       "      <td>Action|Role-Playing</td>\n",
       "      <td>24 May 2009</td>\n",
       "      <td>2009-05-24</td>\n",
       "      <td>Zenonia</td>\n",
       "      <td>Gamevil</td>\n",
       "      <td>Gamevil</td>\n",
       "      <td>Android|iOS|Mobile|Nintendo 3DS|Nintendo DS</td>\n",
       "      <td>Action RPG</td>\n",
       "      <td>24 May 2009</td>\n",
       "      <td>2009-05-24</td>\n",
       "    </tr>\n",
       "    <tr>\n",
       "      <th>2</th>\n",
       "      <td>2</td>\n",
       "      <td>0.750000</td>\n",
       "      <td>a7512</td>\n",
       "      <td>b7171</td>\n",
       "      <td>The Incredible Adventures of Van Helsing III</td>\n",
       "      <td>NeocoreGames</td>\n",
       "      <td>NeocoreGames</td>\n",
       "      <td>Macintosh|PC|Xbox One</td>\n",
       "      <td>Action|Role-Playing</td>\n",
       "      <td>22 May 2015</td>\n",
       "      <td>2015-05-22</td>\n",
       "      <td>The Incredible Adventures of Van Helsing</td>\n",
       "      <td>NeocoreGames</td>\n",
       "      <td>NeocoreGames</td>\n",
       "      <td>PC|Xbox One</td>\n",
       "      <td>Action|Role-Playing</td>\n",
       "      <td>22 May 2013</td>\n",
       "      <td>2013-05-22</td>\n",
       "    </tr>\n",
       "  </tbody>\n",
       "</table>\n",
       "</div>"
      ],
      "text/plain": [
       "   _id  similarity ltable_ID rtable_ID  \\\n",
       "0    0    0.857143     a3442     b8469   \n",
       "1    1    0.833333     a8852     b8410   \n",
       "2    2    0.750000     a7512     b7171   \n",
       "\n",
       "                                   ltable_Title ltable_Developer  \\\n",
       "0                                      inFamous     Sucker Punch   \n",
       "1                                       ZENONIA     GAMEVIL Inc.   \n",
       "2  The Incredible Adventures of Van Helsing III     NeocoreGames   \n",
       "\n",
       "               ltable_Publisher  \\\n",
       "0  SCEI|SCE Australia|SCEA|SCEE   \n",
       "1                  GAMEVIL Inc.   \n",
       "2                  NeocoreGames   \n",
       "\n",
       "                                         ltable_Platform         ltable_Genre  \\\n",
       "0                                          PlayStation 3     Action|Adventure   \n",
       "1  Android|DS|iOS (iPhone/iPad)|PSP|Windows Mobile|Zeebo  Action|Role-Playing   \n",
       "2                                  Macintosh|PC|Xbox One  Action|Role-Playing   \n",
       "\n",
       "  ltable_ReleaseDate ltable_CleanRDate  \\\n",
       "0        26 May 2009        2009-05-26   \n",
       "1        24 May 2009        2009-05-24   \n",
       "2        22 May 2015        2015-05-22   \n",
       "\n",
       "                               rtable_Title          rtable_Developer  \\\n",
       "0                                  inFAMOUS  Sucker Punch Productions   \n",
       "1                                   Zenonia                   Gamevil   \n",
       "2  The Incredible Adventures of Van Helsing              NeocoreGames   \n",
       "\n",
       "              rtable_Publisher                              rtable_Platform  \\\n",
       "0  Sony Computer Entertainment                                PlayStation 3   \n",
       "1                      Gamevil  Android|iOS|Mobile|Nintendo 3DS|Nintendo DS   \n",
       "2                 NeocoreGames                                  PC|Xbox One   \n",
       "\n",
       "                  rtable_Genre rtable_ReleaseDate rtable_CleanRDate  \n",
       "0  Action|Adventure|Open World        26 May 2009        2009-05-26  \n",
       "1                   Action RPG        24 May 2009        2009-05-24  \n",
       "2          Action|Role-Playing        22 May 2013        2013-05-22  "
      ]
     },
     "execution_count": 223,
     "metadata": {},
     "output_type": "execute_result"
    }
   ],
   "source": [
    "dbg1_4.head(3)"
   ]
  },
  {
   "cell_type": "markdown",
   "metadata": {},
   "source": [
    "#### Candidate set is now sufficiently reduced to get sufficient positive samples while labling for matcher to learn.\n",
    "\n",
    "### Final blocking sequence"
   ]
  },
  {
   "cell_type": "code",
   "execution_count": null,
   "metadata": {
    "collapsed": true
   },
   "outputs": [],
   "source": [
    "##### A, B ----- overlap blocker (3-gram, overlap=4) \n",
    "#                                  -----> overlap blocker (1-word) \n",
    "#                                             -----> Rule Based Blocker (Title_Title_Sim < 0.4) \n",
    "#                                                                        -----> Black Box Blocker - C5\n",
    "#                                                                                                       | --> C\n",
    "#     A, B ------ Attr Eq Blocker (Title) --------------------------------------------------------- C3"
   ]
  },
  {
   "cell_type": "markdown",
   "metadata": {},
   "source": [
    "### Sampling and Labeling"
   ]
  },
  {
   "cell_type": "markdown",
   "metadata": {},
   "source": [
    "#### Select 400 tuples for labeling to be used by matcher algorithm"
   ]
  },
  {
   "cell_type": "code",
   "execution_count": 183,
   "metadata": {},
   "outputs": [
    {
     "name": "stderr",
     "output_type": "stream",
     "text": [
      "Column name (gold_label) is not present in dataframe\n"
     ]
    }
   ],
   "source": [
    "S1 = em.sample_table(C, 400)\n",
    "G1 = em.label_table(S1,'gold_label')\n",
    "G1.to_csv('toLabel.csv', index=False)"
   ]
  },
  {
   "cell_type": "markdown",
   "metadata": {},
   "source": [
    "#### Tuples were labeled offline and read back here for further processing"
   ]
  },
  {
   "cell_type": "code",
   "execution_count": 113,
   "metadata": {},
   "outputs": [
    {
     "name": "stderr",
     "output_type": "stream",
     "text": [
      "Metadata file is not present in the given path; proceeding to read the csv file.\n"
     ]
    },
    {
     "data": {
      "text/plain": [
       "400"
      ]
     },
     "execution_count": 113,
     "metadata": {},
     "output_type": "execute_result"
    }
   ],
   "source": [
    "G = em.read_csv_metadata('../data/Labelled.csv', \n",
    "                         key='_id',\n",
    "                         ltable=dfTableA, rtable=dfTableB, \n",
    "                         fk_ltable='ltable_ID', fk_rtable='rtable_ID')\n",
    "len(G)"
   ]
  },
  {
   "cell_type": "markdown",
   "metadata": {},
   "source": [
    "### Splitting labeled dataset into development and evaluation set"
   ]
  },
  {
   "cell_type": "code",
   "execution_count": 186,
   "metadata": {},
   "outputs": [
    {
     "name": "stdout",
     "output_type": "stream",
     "text": [
      "Development Set(I) size = 280\n",
      "Evaluation Set(J) size = 120\n"
     ]
    }
   ],
   "source": [
    "# Split S into development set (I) and evaluation set (J)\n",
    "IJ = em.split_train_test(G, train_proportion=0.7, random_state=0)\n",
    "I = IJ['train']\n",
    "J = IJ['test']\n",
    "print ('Development Set(I) size = ' + str(len(I)))\n",
    "print ('Evaluation Set(J) size = ' + str(len(J)))"
   ]
  },
  {
   "cell_type": "code",
   "execution_count": 206,
   "metadata": {
    "collapsed": true
   },
   "outputs": [],
   "source": [
    "# save set I,J to file\n",
    "I.to_csv('setI.csv', index=False)\n",
    "J.to_csv('setJ.csv', index=False)"
   ]
  },
  {
   "cell_type": "markdown",
   "metadata": {},
   "source": [
    "### Instantiate matcher objects"
   ]
  },
  {
   "cell_type": "code",
   "execution_count": 115,
   "metadata": {
    "collapsed": true
   },
   "outputs": [],
   "source": [
    "# Create a set of ML-matchers\n",
    "dt = em.DTMatcher(name='DecisionTree', random_state=0)\n",
    "svm = em.SVMMatcher(name='SVM', random_state=0)\n",
    "rf = em.RFMatcher(name='RF', random_state=0)\n",
    "lg = em.LogRegMatcher(name='LogReg', random_state=0)\n",
    "ln = em.LinRegMatcher(name='LinReg')\n",
    "nb = em.NBMatcher(name='NaiveBayes')"
   ]
  },
  {
   "cell_type": "markdown",
   "metadata": {},
   "source": [
    "### Generate feature set for given data"
   ]
  },
  {
   "cell_type": "code",
   "execution_count": 116,
   "metadata": {
    "collapsed": true
   },
   "outputs": [],
   "source": [
    "# Generate features\n",
    "feature_table = em.get_features_for_matching(dfTableA, dfTableB, validate_inferred_attr_types=False)"
   ]
  },
  {
   "cell_type": "code",
   "execution_count": 117,
   "metadata": {},
   "outputs": [
    {
     "data": {
      "text/plain": [
       "0                                  ID_ID_lev_dist\n",
       "1                                   ID_ID_lev_sim\n",
       "2                                       ID_ID_jar\n",
       "3                                       ID_ID_jwn\n",
       "4                                       ID_ID_exm\n",
       "5                           ID_ID_jac_qgm_3_qgm_3\n",
       "6                     Title_Title_jac_qgm_3_qgm_3\n",
       "7                 Title_Title_cos_dlm_dc0_dlm_dc0\n",
       "8                 Title_Title_jac_dlm_dc0_dlm_dc0\n",
       "9                                 Title_Title_mel\n",
       "10                           Title_Title_lev_dist\n",
       "11                            Title_Title_lev_sim\n",
       "12                                Title_Title_nmw\n",
       "13                                 Title_Title_sw\n",
       "14            Developer_Developer_jac_qgm_3_qgm_3\n",
       "15        Developer_Developer_cos_dlm_dc0_dlm_dc0\n",
       "16        Developer_Developer_jac_dlm_dc0_dlm_dc0\n",
       "17                        Developer_Developer_mel\n",
       "18                   Developer_Developer_lev_dist\n",
       "19                    Developer_Developer_lev_sim\n",
       "20                        Developer_Developer_nmw\n",
       "21                         Developer_Developer_sw\n",
       "22            Publisher_Publisher_jac_qgm_3_qgm_3\n",
       "23        Publisher_Publisher_cos_dlm_dc0_dlm_dc0\n",
       "24        Publisher_Publisher_jac_dlm_dc0_dlm_dc0\n",
       "25                        Publisher_Publisher_mel\n",
       "26                   Publisher_Publisher_lev_dist\n",
       "27                    Publisher_Publisher_lev_sim\n",
       "28                        Publisher_Publisher_nmw\n",
       "29                         Publisher_Publisher_sw\n",
       "                         ...                     \n",
       "34                     Platform_Platform_lev_dist\n",
       "35                      Platform_Platform_lev_sim\n",
       "36                          Platform_Platform_nmw\n",
       "37                           Platform_Platform_sw\n",
       "38                    Genre_Genre_jac_qgm_3_qgm_3\n",
       "39                Genre_Genre_cos_dlm_dc0_dlm_dc0\n",
       "40                Genre_Genre_jac_dlm_dc0_dlm_dc0\n",
       "41                                Genre_Genre_mel\n",
       "42                           Genre_Genre_lev_dist\n",
       "43                            Genre_Genre_lev_sim\n",
       "44                                Genre_Genre_nmw\n",
       "45                                 Genre_Genre_sw\n",
       "46        ReleaseDate_ReleaseDate_jac_qgm_3_qgm_3\n",
       "47    ReleaseDate_ReleaseDate_cos_dlm_dc0_dlm_dc0\n",
       "48    ReleaseDate_ReleaseDate_jac_dlm_dc0_dlm_dc0\n",
       "49                    ReleaseDate_ReleaseDate_mel\n",
       "50               ReleaseDate_ReleaseDate_lev_dist\n",
       "51                ReleaseDate_ReleaseDate_lev_sim\n",
       "52                    ReleaseDate_ReleaseDate_nmw\n",
       "53                     ReleaseDate_ReleaseDate_sw\n",
       "54                              Rating_Rating_exm\n",
       "55                              Rating_Rating_anm\n",
       "56                         Rating_Rating_lev_dist\n",
       "57                          Rating_Rating_lev_sim\n",
       "58                 CleanRDate_CleanRDate_lev_dist\n",
       "59                  CleanRDate_CleanRDate_lev_sim\n",
       "60                      CleanRDate_CleanRDate_jar\n",
       "61                      CleanRDate_CleanRDate_jwn\n",
       "62                      CleanRDate_CleanRDate_exm\n",
       "63          CleanRDate_CleanRDate_jac_qgm_3_qgm_3\n",
       "Name: feature_name, Length: 64, dtype: object"
      ]
     },
     "execution_count": 117,
     "metadata": {},
     "output_type": "execute_result"
    }
   ],
   "source": [
    "# List the names of the features generated\n",
    "feature_table['feature_name']"
   ]
  },
  {
   "cell_type": "markdown",
   "metadata": {},
   "source": [
    "### Convert development set I into feature vectors"
   ]
  },
  {
   "cell_type": "code",
   "execution_count": 118,
   "metadata": {
    "collapsed": true
   },
   "outputs": [],
   "source": [
    "# Convert the I into a set of feature vectors using F\n",
    "H = em.extract_feature_vecs(I, \n",
    "                            feature_table=feature_table, \n",
    "                            attrs_after='gold_label',\n",
    "                            show_progress=False)"
   ]
  },
  {
   "cell_type": "code",
   "execution_count": 119,
   "metadata": {},
   "outputs": [
    {
     "data": {
      "text/html": [
       "<div>\n",
       "<style>\n",
       "    .dataframe thead tr:only-child th {\n",
       "        text-align: right;\n",
       "    }\n",
       "\n",
       "    .dataframe thead th {\n",
       "        text-align: left;\n",
       "    }\n",
       "\n",
       "    .dataframe tbody tr th {\n",
       "        vertical-align: top;\n",
       "    }\n",
       "</style>\n",
       "<table border=\"1\" class=\"dataframe\">\n",
       "  <thead>\n",
       "    <tr style=\"text-align: right;\">\n",
       "      <th></th>\n",
       "      <th>_id</th>\n",
       "      <th>ltable_ID</th>\n",
       "      <th>rtable_ID</th>\n",
       "      <th>ID_ID_lev_dist</th>\n",
       "      <th>ID_ID_lev_sim</th>\n",
       "      <th>ID_ID_jar</th>\n",
       "      <th>ID_ID_jwn</th>\n",
       "      <th>ID_ID_exm</th>\n",
       "      <th>ID_ID_jac_qgm_3_qgm_3</th>\n",
       "      <th>Title_Title_jac_qgm_3_qgm_3</th>\n",
       "      <th>...</th>\n",
       "      <th>Rating_Rating_anm</th>\n",
       "      <th>Rating_Rating_lev_dist</th>\n",
       "      <th>Rating_Rating_lev_sim</th>\n",
       "      <th>CleanRDate_CleanRDate_lev_dist</th>\n",
       "      <th>CleanRDate_CleanRDate_lev_sim</th>\n",
       "      <th>CleanRDate_CleanRDate_jar</th>\n",
       "      <th>CleanRDate_CleanRDate_jwn</th>\n",
       "      <th>CleanRDate_CleanRDate_exm</th>\n",
       "      <th>CleanRDate_CleanRDate_jac_qgm_3_qgm_3</th>\n",
       "      <th>gold_label</th>\n",
       "    </tr>\n",
       "  </thead>\n",
       "  <tbody>\n",
       "    <tr>\n",
       "      <th>92</th>\n",
       "      <td>913082</td>\n",
       "      <td>a7987</td>\n",
       "      <td>b7683</td>\n",
       "      <td>3</td>\n",
       "      <td>0.4</td>\n",
       "      <td>0.600000</td>\n",
       "      <td>0.600000</td>\n",
       "      <td>0</td>\n",
       "      <td>0.0</td>\n",
       "      <td>0.157895</td>\n",
       "      <td>...</td>\n",
       "      <td>0.365854</td>\n",
       "      <td>2.0</td>\n",
       "      <td>0.333333</td>\n",
       "      <td>4.0</td>\n",
       "      <td>0.6</td>\n",
       "      <td>0.8</td>\n",
       "      <td>0.86</td>\n",
       "      <td>0.0</td>\n",
       "      <td>0.142857</td>\n",
       "      <td>0</td>\n",
       "    </tr>\n",
       "    <tr>\n",
       "      <th>223</th>\n",
       "      <td>231382</td>\n",
       "      <td>a1983</td>\n",
       "      <td>b2008</td>\n",
       "      <td>5</td>\n",
       "      <td>0.0</td>\n",
       "      <td>0.466667</td>\n",
       "      <td>0.466667</td>\n",
       "      <td>0</td>\n",
       "      <td>0.0</td>\n",
       "      <td>1.000000</td>\n",
       "      <td>...</td>\n",
       "      <td>0.894118</td>\n",
       "      <td>2.0</td>\n",
       "      <td>0.333333</td>\n",
       "      <td>0.0</td>\n",
       "      <td>1.0</td>\n",
       "      <td>1.0</td>\n",
       "      <td>1.00</td>\n",
       "      <td>1.0</td>\n",
       "      <td>1.000000</td>\n",
       "      <td>1</td>\n",
       "    </tr>\n",
       "    <tr>\n",
       "      <th>234</th>\n",
       "      <td>304609</td>\n",
       "      <td>a2588</td>\n",
       "      <td>b2606</td>\n",
       "      <td>4</td>\n",
       "      <td>0.2</td>\n",
       "      <td>0.466667</td>\n",
       "      <td>0.466667</td>\n",
       "      <td>0</td>\n",
       "      <td>0.0</td>\n",
       "      <td>0.233333</td>\n",
       "      <td>...</td>\n",
       "      <td>0.692308</td>\n",
       "      <td>2.0</td>\n",
       "      <td>0.333333</td>\n",
       "      <td>NaN</td>\n",
       "      <td>NaN</td>\n",
       "      <td>NaN</td>\n",
       "      <td>NaN</td>\n",
       "      <td>NaN</td>\n",
       "      <td>NaN</td>\n",
       "      <td>0</td>\n",
       "    </tr>\n",
       "    <tr>\n",
       "      <th>232</th>\n",
       "      <td>298331</td>\n",
       "      <td>a1418</td>\n",
       "      <td>b2571</td>\n",
       "      <td>5</td>\n",
       "      <td>0.0</td>\n",
       "      <td>0.466667</td>\n",
       "      <td>0.466667</td>\n",
       "      <td>0</td>\n",
       "      <td>0.0</td>\n",
       "      <td>0.361111</td>\n",
       "      <td>...</td>\n",
       "      <td>0.879121</td>\n",
       "      <td>2.0</td>\n",
       "      <td>0.333333</td>\n",
       "      <td>NaN</td>\n",
       "      <td>NaN</td>\n",
       "      <td>NaN</td>\n",
       "      <td>NaN</td>\n",
       "      <td>NaN</td>\n",
       "      <td>NaN</td>\n",
       "      <td>0</td>\n",
       "    </tr>\n",
       "    <tr>\n",
       "      <th>377</th>\n",
       "      <td>771435</td>\n",
       "      <td>a843</td>\n",
       "      <td>b6710</td>\n",
       "      <td>5</td>\n",
       "      <td>0.0</td>\n",
       "      <td>0.000000</td>\n",
       "      <td>0.000000</td>\n",
       "      <td>0</td>\n",
       "      <td>0.0</td>\n",
       "      <td>0.307692</td>\n",
       "      <td>...</td>\n",
       "      <td>0.908046</td>\n",
       "      <td>2.0</td>\n",
       "      <td>0.333333</td>\n",
       "      <td>NaN</td>\n",
       "      <td>NaN</td>\n",
       "      <td>NaN</td>\n",
       "      <td>NaN</td>\n",
       "      <td>NaN</td>\n",
       "      <td>NaN</td>\n",
       "      <td>0</td>\n",
       "    </tr>\n",
       "  </tbody>\n",
       "</table>\n",
       "<p>5 rows × 68 columns</p>\n",
       "</div>"
      ],
      "text/plain": [
       "        _id ltable_ID rtable_ID  ID_ID_lev_dist  ID_ID_lev_sim  ID_ID_jar  \\\n",
       "92   913082     a7987     b7683               3            0.4   0.600000   \n",
       "223  231382     a1983     b2008               5            0.0   0.466667   \n",
       "234  304609     a2588     b2606               4            0.2   0.466667   \n",
       "232  298331     a1418     b2571               5            0.0   0.466667   \n",
       "377  771435      a843     b6710               5            0.0   0.000000   \n",
       "\n",
       "     ID_ID_jwn  ID_ID_exm  ID_ID_jac_qgm_3_qgm_3  Title_Title_jac_qgm_3_qgm_3  \\\n",
       "92    0.600000          0                    0.0                     0.157895   \n",
       "223   0.466667          0                    0.0                     1.000000   \n",
       "234   0.466667          0                    0.0                     0.233333   \n",
       "232   0.466667          0                    0.0                     0.361111   \n",
       "377   0.000000          0                    0.0                     0.307692   \n",
       "\n",
       "        ...      Rating_Rating_anm  Rating_Rating_lev_dist  \\\n",
       "92      ...               0.365854                     2.0   \n",
       "223     ...               0.894118                     2.0   \n",
       "234     ...               0.692308                     2.0   \n",
       "232     ...               0.879121                     2.0   \n",
       "377     ...               0.908046                     2.0   \n",
       "\n",
       "     Rating_Rating_lev_sim  CleanRDate_CleanRDate_lev_dist  \\\n",
       "92                0.333333                             4.0   \n",
       "223               0.333333                             0.0   \n",
       "234               0.333333                             NaN   \n",
       "232               0.333333                             NaN   \n",
       "377               0.333333                             NaN   \n",
       "\n",
       "     CleanRDate_CleanRDate_lev_sim  CleanRDate_CleanRDate_jar  \\\n",
       "92                             0.6                        0.8   \n",
       "223                            1.0                        1.0   \n",
       "234                            NaN                        NaN   \n",
       "232                            NaN                        NaN   \n",
       "377                            NaN                        NaN   \n",
       "\n",
       "     CleanRDate_CleanRDate_jwn  CleanRDate_CleanRDate_exm  \\\n",
       "92                        0.86                        0.0   \n",
       "223                       1.00                        1.0   \n",
       "234                        NaN                        NaN   \n",
       "232                        NaN                        NaN   \n",
       "377                        NaN                        NaN   \n",
       "\n",
       "     CleanRDate_CleanRDate_jac_qgm_3_qgm_3  gold_label  \n",
       "92                                0.142857           0  \n",
       "223                               1.000000           1  \n",
       "234                                    NaN           0  \n",
       "232                                    NaN           0  \n",
       "377                                    NaN           0  \n",
       "\n",
       "[5 rows x 68 columns]"
      ]
     },
     "execution_count": 119,
     "metadata": {},
     "output_type": "execute_result"
    }
   ],
   "source": [
    "H.head()"
   ]
  },
  {
   "cell_type": "markdown",
   "metadata": {},
   "source": [
    "### Fill missing feature value computation (NaN) with relevant values"
   ]
  },
  {
   "cell_type": "code",
   "execution_count": 120,
   "metadata": {
    "collapsed": true
   },
   "outputs": [],
   "source": [
    "#set all missing value NaN to appropriate numeric values\n",
    "import math\n",
    "for idx, row in H.iterrows():\n",
    "    for column in H.columns:\n",
    "        v = row[column]\n",
    "        if isinstance(v, int) or isinstance(v, float):\n",
    "            if math.isnan(v):\n",
    "                if column.find('lev_dist') != -1:\n",
    "                    H.set_value(idx, column, 5)\n",
    "                else:\n",
    "                    H.set_value(idx, column, 0)"
   ]
  },
  {
   "cell_type": "markdown",
   "metadata": {},
   "source": [
    "### Determine best learning algorithm using cross-validation"
   ]
  },
  {
   "cell_type": "code",
   "execution_count": 121,
   "metadata": {},
   "outputs": [
    {
     "data": {
      "text/html": [
       "<div>\n",
       "<style>\n",
       "    .dataframe thead tr:only-child th {\n",
       "        text-align: right;\n",
       "    }\n",
       "\n",
       "    .dataframe thead th {\n",
       "        text-align: left;\n",
       "    }\n",
       "\n",
       "    .dataframe tbody tr th {\n",
       "        vertical-align: top;\n",
       "    }\n",
       "</style>\n",
       "<table border=\"1\" class=\"dataframe\">\n",
       "  <thead>\n",
       "    <tr style=\"text-align: right;\">\n",
       "      <th></th>\n",
       "      <th>Matcher</th>\n",
       "      <th>Average precision</th>\n",
       "      <th>Average recall</th>\n",
       "      <th>Average f1</th>\n",
       "    </tr>\n",
       "  </thead>\n",
       "  <tbody>\n",
       "    <tr>\n",
       "      <th>0</th>\n",
       "      <td>DecisionTree</td>\n",
       "      <td>0.965000</td>\n",
       "      <td>0.969318</td>\n",
       "      <td>0.966396</td>\n",
       "    </tr>\n",
       "    <tr>\n",
       "      <th>1</th>\n",
       "      <td>RF</td>\n",
       "      <td>1.000000</td>\n",
       "      <td>0.962500</td>\n",
       "      <td>0.979310</td>\n",
       "    </tr>\n",
       "    <tr>\n",
       "      <th>2</th>\n",
       "      <td>SVM</td>\n",
       "      <td>0.000000</td>\n",
       "      <td>0.000000</td>\n",
       "      <td>0.000000</td>\n",
       "    </tr>\n",
       "    <tr>\n",
       "      <th>3</th>\n",
       "      <td>LinReg</td>\n",
       "      <td>1.000000</td>\n",
       "      <td>0.936667</td>\n",
       "      <td>0.964532</td>\n",
       "    </tr>\n",
       "    <tr>\n",
       "      <th>4</th>\n",
       "      <td>LogReg</td>\n",
       "      <td>0.931587</td>\n",
       "      <td>0.944318</td>\n",
       "      <td>0.936896</td>\n",
       "    </tr>\n",
       "    <tr>\n",
       "      <th>5</th>\n",
       "      <td>NaiveBayes</td>\n",
       "      <td>0.924373</td>\n",
       "      <td>0.969318</td>\n",
       "      <td>0.944382</td>\n",
       "    </tr>\n",
       "  </tbody>\n",
       "</table>\n",
       "</div>"
      ],
      "text/plain": [
       "        Matcher  Average precision  Average recall  Average f1\n",
       "0  DecisionTree           0.965000        0.969318    0.966396\n",
       "1            RF           1.000000        0.962500    0.979310\n",
       "2           SVM           0.000000        0.000000    0.000000\n",
       "3        LinReg           1.000000        0.936667    0.964532\n",
       "4        LogReg           0.931587        0.944318    0.936896\n",
       "5    NaiveBayes           0.924373        0.969318    0.944382"
      ]
     },
     "execution_count": 121,
     "metadata": {},
     "output_type": "execute_result"
    }
   ],
   "source": [
    "# Select the best ML matcher using 5-fold CV\n",
    "result = em.select_matcher([dt, rf, svm, ln, lg, nb], table=H, \n",
    "        exclude_attrs=['_id', 'ltable_ID', 'rtable_ID', 'gold_label'],\n",
    "        k=5,\n",
    "        target_attr='gold_label', metrics_to_display=['precision', 'recall', 'f1'], random_state=0)\n",
    "result['cv_stats']"
   ]
  },
  {
   "cell_type": "markdown",
   "metadata": {},
   "source": [
    "### Precision Stats for each fold of CV"
   ]
  },
  {
   "cell_type": "code",
   "execution_count": 122,
   "metadata": {},
   "outputs": [
    {
     "data": {
      "text/html": [
       "<div>\n",
       "<style>\n",
       "    .dataframe thead tr:only-child th {\n",
       "        text-align: right;\n",
       "    }\n",
       "\n",
       "    .dataframe thead th {\n",
       "        text-align: left;\n",
       "    }\n",
       "\n",
       "    .dataframe tbody tr th {\n",
       "        vertical-align: top;\n",
       "    }\n",
       "</style>\n",
       "<table border=\"1\" class=\"dataframe\">\n",
       "  <thead>\n",
       "    <tr style=\"text-align: right;\">\n",
       "      <th></th>\n",
       "      <th>Name</th>\n",
       "      <th>Matcher</th>\n",
       "      <th>Num folds</th>\n",
       "      <th>Fold 1</th>\n",
       "      <th>Fold 2</th>\n",
       "      <th>Fold 3</th>\n",
       "      <th>Fold 4</th>\n",
       "      <th>Fold 5</th>\n",
       "      <th>Mean score</th>\n",
       "    </tr>\n",
       "  </thead>\n",
       "  <tbody>\n",
       "    <tr>\n",
       "      <th>0</th>\n",
       "      <td>DecisionTree</td>\n",
       "      <td>&lt;py_entitymatching.matcher.dtmatcher.DTMatcher object at 0x0000020217776710&gt;</td>\n",
       "      <td>5</td>\n",
       "      <td>0.9375</td>\n",
       "      <td>0.950000</td>\n",
       "      <td>1.000000</td>\n",
       "      <td>1.000000</td>\n",
       "      <td>0.937500</td>\n",
       "      <td>0.965000</td>\n",
       "    </tr>\n",
       "    <tr>\n",
       "      <th>1</th>\n",
       "      <td>RF</td>\n",
       "      <td>&lt;py_entitymatching.matcher.rfmatcher.RFMatcher object at 0x00000202177764E0&gt;</td>\n",
       "      <td>5</td>\n",
       "      <td>1.0000</td>\n",
       "      <td>1.000000</td>\n",
       "      <td>1.000000</td>\n",
       "      <td>1.000000</td>\n",
       "      <td>1.000000</td>\n",
       "      <td>1.000000</td>\n",
       "    </tr>\n",
       "    <tr>\n",
       "      <th>2</th>\n",
       "      <td>SVM</td>\n",
       "      <td>&lt;py_entitymatching.matcher.svmmatcher.SVMMatcher object at 0x0000020217776390&gt;</td>\n",
       "      <td>5</td>\n",
       "      <td>0.0000</td>\n",
       "      <td>0.000000</td>\n",
       "      <td>0.000000</td>\n",
       "      <td>0.000000</td>\n",
       "      <td>0.000000</td>\n",
       "      <td>0.000000</td>\n",
       "    </tr>\n",
       "    <tr>\n",
       "      <th>3</th>\n",
       "      <td>LinReg</td>\n",
       "      <td>&lt;py_entitymatching.matcher.linregmatcher.LinRegMatcher object at 0x0000020217776470&gt;</td>\n",
       "      <td>5</td>\n",
       "      <td>1.0000</td>\n",
       "      <td>1.000000</td>\n",
       "      <td>1.000000</td>\n",
       "      <td>1.000000</td>\n",
       "      <td>1.000000</td>\n",
       "      <td>1.000000</td>\n",
       "    </tr>\n",
       "    <tr>\n",
       "      <th>4</th>\n",
       "      <td>LogReg</td>\n",
       "      <td>&lt;py_entitymatching.matcher.logregmatcher.LogRegMatcher object at 0x0000020217776F98&gt;</td>\n",
       "      <td>5</td>\n",
       "      <td>1.0000</td>\n",
       "      <td>0.950000</td>\n",
       "      <td>0.888889</td>\n",
       "      <td>0.952381</td>\n",
       "      <td>0.866667</td>\n",
       "      <td>0.931587</td>\n",
       "    </tr>\n",
       "    <tr>\n",
       "      <th>5</th>\n",
       "      <td>NaiveBayes</td>\n",
       "      <td>&lt;py_entitymatching.matcher.nbmatcher.NBMatcher object at 0x0000020217776128&gt;</td>\n",
       "      <td>5</td>\n",
       "      <td>0.9375</td>\n",
       "      <td>0.904762</td>\n",
       "      <td>0.842105</td>\n",
       "      <td>1.000000</td>\n",
       "      <td>0.937500</td>\n",
       "      <td>0.924373</td>\n",
       "    </tr>\n",
       "  </tbody>\n",
       "</table>\n",
       "</div>"
      ],
      "text/plain": [
       "           Name  \\\n",
       "0  DecisionTree   \n",
       "1            RF   \n",
       "2           SVM   \n",
       "3        LinReg   \n",
       "4        LogReg   \n",
       "5    NaiveBayes   \n",
       "\n",
       "                                                                                Matcher  \\\n",
       "0          <py_entitymatching.matcher.dtmatcher.DTMatcher object at 0x0000020217776710>   \n",
       "1          <py_entitymatching.matcher.rfmatcher.RFMatcher object at 0x00000202177764E0>   \n",
       "2        <py_entitymatching.matcher.svmmatcher.SVMMatcher object at 0x0000020217776390>   \n",
       "3  <py_entitymatching.matcher.linregmatcher.LinRegMatcher object at 0x0000020217776470>   \n",
       "4  <py_entitymatching.matcher.logregmatcher.LogRegMatcher object at 0x0000020217776F98>   \n",
       "5          <py_entitymatching.matcher.nbmatcher.NBMatcher object at 0x0000020217776128>   \n",
       "\n",
       "   Num folds  Fold 1    Fold 2    Fold 3    Fold 4    Fold 5  Mean score  \n",
       "0          5  0.9375  0.950000  1.000000  1.000000  0.937500    0.965000  \n",
       "1          5  1.0000  1.000000  1.000000  1.000000  1.000000    1.000000  \n",
       "2          5  0.0000  0.000000  0.000000  0.000000  0.000000    0.000000  \n",
       "3          5  1.0000  1.000000  1.000000  1.000000  1.000000    1.000000  \n",
       "4          5  1.0000  0.950000  0.888889  0.952381  0.866667    0.931587  \n",
       "5          5  0.9375  0.904762  0.842105  1.000000  0.937500    0.924373  "
      ]
     },
     "execution_count": 122,
     "metadata": {},
     "output_type": "execute_result"
    }
   ],
   "source": [
    "result['drill_down_cv_stats']['precision']"
   ]
  },
  {
   "cell_type": "markdown",
   "metadata": {},
   "source": [
    "### Random Forest get 100% precision at first trial of CV\n",
    "### Using Random Forest classifier for testing evaluate set J"
   ]
  },
  {
   "cell_type": "code",
   "execution_count": 123,
   "metadata": {
    "collapsed": true
   },
   "outputs": [],
   "source": [
    "# Train using feature vectors from I \n",
    "rf.fit(table=H, \n",
    "       exclude_attrs=['_id', 'ltable_ID', 'rtable_ID', 'gold_label'], \n",
    "       target_attr='gold_label')"
   ]
  },
  {
   "cell_type": "markdown",
   "metadata": {},
   "source": [
    "### Convert evaluation set J into feature vectors and fill missing values"
   ]
  },
  {
   "cell_type": "code",
   "execution_count": 124,
   "metadata": {
    "collapsed": true
   },
   "outputs": [],
   "source": [
    "# Convert J into a set of feature vectors using feature table\n",
    "L = em.extract_feature_vecs(J, feature_table=feature_table,\n",
    "                            attrs_after='gold_label', show_progress=False)\n",
    "\n",
    "#set all missing value NaN to appropriate numeric values\n",
    "for idx, row in L.iterrows():\n",
    "    for column in L.columns:\n",
    "        v = row[column]\n",
    "        if isinstance(v, int) or isinstance(v, float):\n",
    "            if math.isnan(v):\n",
    "                if column.find('lev_dist') != -1:\n",
    "                    L.set_value(idx, column, 5)\n",
    "                else:\n",
    "                    L.set_value(idx, column, 0)"
   ]
  },
  {
   "cell_type": "markdown",
   "metadata": {},
   "source": [
    "### Predicting the matches"
   ]
  },
  {
   "cell_type": "code",
   "execution_count": 125,
   "metadata": {
    "collapsed": true
   },
   "outputs": [],
   "source": [
    "# Predict on L \n",
    "predictions = rf.predict(table=L, exclude_attrs=['_id', 'ltable_ID', 'rtable_ID', 'gold_label'], \n",
    "              append=True, target_attr='predicted', inplace=False)"
   ]
  },
  {
   "cell_type": "markdown",
   "metadata": {},
   "source": [
    "### Evaluating the predictions"
   ]
  },
  {
   "cell_type": "code",
   "execution_count": 190,
   "metadata": {},
   "outputs": [
    {
     "name": "stdout",
     "output_type": "stream",
     "text": [
      "Random Forst prediction summary:\n",
      "Precision : 96.43% (27/28)\n",
      "Recall : 84.38% (27/32)\n",
      "F1 : 90.0%\n",
      "False positives : 1 (out of 28 positive predictions)\n",
      "False negatives : 5 (out of 92 negative predictions)\n"
     ]
    }
   ],
   "source": [
    "# Evaluate the predictions\n",
    "print ('Random Forst prediction summary:')\n",
    "eval_result = em.eval_matches(predictions, 'gold_label', 'predicted')\n",
    "em.print_eval_summary(eval_result)"
   ]
  },
  {
   "cell_type": "code",
   "execution_count": 211,
   "metadata": {},
   "outputs": [],
   "source": [
    "JStore = J.copy()\n",
    "JStore['predictedVal'] = pd.Series()\n",
    "for idx, row in predictions.iterrows():\n",
    "    JStore.set_value(idx, 'predictedVal', row['predicted'])\n",
    "JStore.to_csv('RFprediction.csv', index=False)"
   ]
  },
  {
   "cell_type": "markdown",
   "metadata": {},
   "source": [
    "# Following section is for completeness of project report"
   ]
  },
  {
   "cell_type": "markdown",
   "metadata": {},
   "source": [
    "## Evaluating other matchers for Evaluation Set"
   ]
  },
  {
   "cell_type": "code",
   "execution_count": 198,
   "metadata": {
    "collapsed": true
   },
   "outputs": [],
   "source": [
    "dt.fit(table=H, \n",
    "       exclude_attrs=['_id', 'ltable_ID', 'rtable_ID', 'gold_label'], \n",
    "       target_attr='gold_label')\n",
    "\n",
    "svm.fit(table=H, \n",
    "       exclude_attrs=['_id', 'ltable_ID', 'rtable_ID', 'gold_label'], \n",
    "       target_attr='gold_label')\n",
    "\n",
    "lg.fit(table=H, \n",
    "       exclude_attrs=['_id', 'ltable_ID', 'rtable_ID', 'gold_label'], \n",
    "       target_attr='gold_label')\n",
    "\n",
    "ln.fit(table=H, \n",
    "       exclude_attrs=['_id', 'ltable_ID', 'rtable_ID', 'gold_label'], \n",
    "       target_attr='gold_label')\n",
    "\n",
    "nb.fit(table=H, \n",
    "       exclude_attrs=['_id', 'ltable_ID', 'rtable_ID', 'gold_label'], \n",
    "       target_attr='gold_label')"
   ]
  },
  {
   "cell_type": "code",
   "execution_count": 199,
   "metadata": {
    "collapsed": true
   },
   "outputs": [],
   "source": [
    "predictionsDT = dt.predict(table=L, exclude_attrs=['_id', 'ltable_ID', 'rtable_ID', 'gold_label'], \n",
    "              append=True, target_attr='predicted', inplace=False)\n",
    "\n",
    "predictionsSVM = svm.predict(table=L, exclude_attrs=['_id', 'ltable_ID', 'rtable_ID', 'gold_label'], \n",
    "              append=True, target_attr='predicted', inplace=False)\n",
    "\n",
    "predictionsLogR = lg.predict(table=L, exclude_attrs=['_id', 'ltable_ID', 'rtable_ID', 'gold_label'], \n",
    "              append=True, target_attr='predicted', inplace=False)\n",
    "\n",
    "predictionsLinR = ln.predict(table=L, exclude_attrs=['_id', 'ltable_ID', 'rtable_ID', 'gold_label'], \n",
    "              append=True, target_attr='predicted', inplace=False)\n",
    "\n",
    "predictionsNB = nb.predict(table=L, exclude_attrs=['_id', 'ltable_ID', 'rtable_ID', 'gold_label'], \n",
    "              append=True, target_attr='predicted', inplace=False)"
   ]
  },
  {
   "cell_type": "code",
   "execution_count": 200,
   "metadata": {},
   "outputs": [
    {
     "name": "stdout",
     "output_type": "stream",
     "text": [
      "Decision Tree prediction summary:\n",
      "Precision : 90.32% (28/31)\n",
      "Recall : 87.5% (28/32)\n",
      "F1 : 88.89%\n",
      "False positives : 3 (out of 31 positive predictions)\n",
      "False negatives : 4 (out of 89 negative predictions)\n"
     ]
    }
   ],
   "source": [
    "print ('Decision Tree prediction summary:')\n",
    "eval_result = em.eval_matches(predictionsDT, 'gold_label', 'predicted')\n",
    "em.print_eval_summary(eval_result)"
   ]
  },
  {
   "cell_type": "code",
   "execution_count": 201,
   "metadata": {},
   "outputs": [
    {
     "name": "stdout",
     "output_type": "stream",
     "text": [
      "SVM prediction summary:\n",
      "Precision : 0.0% (0/0)\n",
      "Recall : 0.0% (0/32)\n",
      "F1 : 0.0%\n",
      "False positives : 0 (out of 0 positive predictions)\n",
      "False negatives : 32 (out of 120 negative predictions)\n"
     ]
    }
   ],
   "source": [
    "print ('SVM prediction summary:')\n",
    "eval_result = em.eval_matches(predictionsSVM, 'gold_label', 'predicted')\n",
    "em.print_eval_summary(eval_result)"
   ]
  },
  {
   "cell_type": "code",
   "execution_count": 202,
   "metadata": {},
   "outputs": [
    {
     "name": "stdout",
     "output_type": "stream",
     "text": [
      "Logistic Regression prediction summary:\n",
      "Precision : 90.91% (30/33)\n",
      "Recall : 93.75% (30/32)\n",
      "F1 : 92.31%\n",
      "False positives : 3 (out of 33 positive predictions)\n",
      "False negatives : 2 (out of 87 negative predictions)\n"
     ]
    }
   ],
   "source": [
    "print ('Logistic Regression prediction summary:')\n",
    "eval_result = em.eval_matches(predictionsLogR, 'gold_label', 'predicted')\n",
    "em.print_eval_summary(eval_result)"
   ]
  },
  {
   "cell_type": "code",
   "execution_count": 203,
   "metadata": {},
   "outputs": [
    {
     "name": "stdout",
     "output_type": "stream",
     "text": [
      "Linear Regression prediction summary:\n",
      "Precision : 93.1% (27/29)\n",
      "Recall : 84.38% (27/32)\n",
      "F1 : 88.52%\n",
      "False positives : 2 (out of 29 positive predictions)\n",
      "False negatives : 5 (out of 91 negative predictions)\n"
     ]
    }
   ],
   "source": [
    "print ('Linear Regression prediction summary:')\n",
    "eval_result = em.eval_matches(predictionsLinR, 'gold_label', 'predicted')\n",
    "em.print_eval_summary(eval_result)"
   ]
  },
  {
   "cell_type": "code",
   "execution_count": 204,
   "metadata": {},
   "outputs": [
    {
     "name": "stdout",
     "output_type": "stream",
     "text": [
      "Naive Bayes prediction summary:\n",
      "Precision : 88.57% (31/35)\n",
      "Recall : 96.88% (31/32)\n",
      "F1 : 92.54%\n",
      "False positives : 4 (out of 35 positive predictions)\n",
      "False negatives : 1 (out of 85 negative predictions)\n"
     ]
    }
   ],
   "source": [
    "print ('Naive Bayes prediction summary:')\n",
    "eval_result = em.eval_matches(predictionsNB, 'gold_label', 'predicted')\n",
    "em.print_eval_summary(eval_result)"
   ]
  },
  {
   "cell_type": "code",
   "execution_count": null,
   "metadata": {
    "collapsed": true
   },
   "outputs": [],
   "source": []
  }
 ],
 "metadata": {
  "kernelspec": {
   "display_name": "Python 3",
   "language": "python",
   "name": "python3"
  },
  "language_info": {
   "codemirror_mode": {
    "name": "ipython",
    "version": 3
   },
   "file_extension": ".py",
   "mimetype": "text/x-python",
   "name": "python",
   "nbconvert_exporter": "python",
   "pygments_lexer": "ipython3",
   "version": "3.6.1"
  }
 },
 "nbformat": 4,
 "nbformat_minor": 2
}
