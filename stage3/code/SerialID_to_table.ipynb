{
 "cells": [
  {
   "cell_type": "code",
   "execution_count": 1,
   "metadata": {},
   "outputs": [],
   "source": [
    "import pandas as pd\n",
    "\n",
    "#A - Gamespot.csv\n",
    "#B - howLongToBeat.csv\n",
    "\n",
    "dfTableA = pd.read_csv('../stage2/Data/Gamespot.csv')\n",
    "dfTableB = pd.read_csv('../stage2/Data/howLongToBeat.csv')"
   ]
  },
  {
   "cell_type": "code",
   "execution_count": 2,
   "metadata": {},
   "outputs": [],
   "source": [
    "aIdx = ['a'+str(i) for i in range(1,dfTableA.shape[0]+1)]\n",
    "bIdx = ['b'+str(i) for i in range(1,dfTableB.shape[0]+1)]"
   ]
  },
  {
   "cell_type": "code",
   "execution_count": 3,
   "metadata": {},
   "outputs": [],
   "source": [
    "#FYI- adding 'ID' as first column causes excel to give error when reading CSV \n",
    "\n",
    "dfTableA['ID'] = pd.Series(aIdx)\n",
    "dfA = dfTableA.set_index('ID')\n",
    "dfA.to_csv('Gamespot.csv')\n",
    "\n",
    "dfTableB['ID'] = pd.Series(bIdx)\n",
    "dfB = dfTableB.set_index('ID')\n",
    "dfB.to_csv('howLongToBeat.csv')"
   ]
  },
  {
   "cell_type": "code",
   "execution_count": 30,
   "metadata": {},
   "outputs": [],
   "source": []
  }
 ],
 "metadata": {
  "kernelspec": {
   "display_name": "Python 3",
   "language": "python",
   "name": "python3"
  },
  "language_info": {
   "codemirror_mode": {
    "name": "ipython",
    "version": 3
   },
   "file_extension": ".py",
   "mimetype": "text/x-python",
   "name": "python",
   "nbconvert_exporter": "python",
   "pygments_lexer": "ipython3",
   "version": "3.6.1"
  }
 },
 "nbformat": 4,
 "nbformat_minor": 2
}
