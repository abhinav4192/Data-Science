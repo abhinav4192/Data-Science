{
 "cells": [
  {
   "cell_type": "code",
   "execution_count": 1,
   "metadata": {},
   "outputs": [],
   "source": [
    "import pandas as pd\n",
    "from datetime import date\n",
    "import calendar"
   ]
  },
  {
   "cell_type": "code",
   "execution_count": 2,
   "metadata": {},
   "outputs": [
    {
     "name": "stdout",
     "output_type": "stream",
     "text": [
      "{'jan': 1, 'feb': 2, 'mar': 3, 'apr': 4, 'may': 5, 'jun': 6, 'jul': 7, 'aug': 8, 'sep': 9, 'oct': 10, 'nov': 11, 'dec': 12, 'january': 1, 'february': 2, 'march': 3, 'april': 4, 'june': 6, 'july': 7, 'august': 8, 'september': 9, 'october': 10, 'november': 11, 'december': 12}\n"
     ]
    }
   ],
   "source": [
    "monthNumeric = dict()\n",
    "for k,v in enumerate(calendar.month_abbr):\n",
    "    if k!=0:\n",
    "        monthNumeric[v.lower()] = k\n",
    "    \n",
    "for k,v in enumerate(calendar.month_name):\n",
    "    if k!=0:\n",
    "        monthNumeric[v.lower()] = k\n",
    "print(monthNumeric)"
   ]
  },
  {
   "cell_type": "code",
   "execution_count": 3,
   "metadata": {},
   "outputs": [],
   "source": [
    "dfg = pd.read_csv(\"/Users/abhinavgarg/Projects/Data-Science/stage3/Gamespot.csv\")\n",
    "dfh = pd.read_csv(\"/Users/abhinavgarg/Projects/Data-Science/stage3/howLongToBeat.csv\")"
   ]
  },
  {
   "cell_type": "code",
   "execution_count": 5,
   "metadata": {},
   "outputs": [
    {
     "name": "stdout",
     "output_type": "stream",
     "text": [
      "8481\n",
      "8481\n"
     ]
    }
   ],
   "source": [
    "datesClean = []\n",
    "\n",
    "for r in dfh['ReleaseDate']:\n",
    "    r = str(r).split(' ')\n",
    "    if len(r)== 0:\n",
    "        datesClean.append(\"\")\n",
    "    elif len(r)==1 and not r[0].isdigit():\n",
    "        datesClean.append(\"\")\n",
    "    elif len(r)==1:\n",
    "        datesClean.append(date(int(r[0]),1,1))\n",
    "    elif len(r)==2:\n",
    "        month = 1\n",
    "        if r[0] == \"Q1\":\n",
    "            month = 1\n",
    "        elif r[0] == \"Q2\":\n",
    "            month = 4\n",
    "        elif r[0] == \"Q3\":\n",
    "            month = 7\n",
    "        elif r[0] == \"Q4\":\n",
    "            month = 10\n",
    "        else:\n",
    "            month = monthNumeric[r[0].lower()]\n",
    "        datesClean.append(date(int(r[1]),month,1))\n",
    "    elif len(r)==3:\n",
    "        if r[1]==\"Unknown\":\n",
    "            datesClean.append(\"\")\n",
    "        else:    \n",
    "            datesClean.append(date(int(r[2]),monthNumeric[r[1].lower()],int(r[0])))\n",
    "    else:\n",
    "        print(r)\n",
    "\n",
    "print(len(dfh))\n",
    "print(len(datesClean))\n",
    "dfh['CleanRDate'] = pd.Series(datesClean) \n",
    "dfh.to_csv('/Users/abhinavgarg/Projects/Data-Science/stage3/howLongToBeat_1.csv')\n",
    "                            \n",
    "    "
   ]
  }
 ],
 "metadata": {
  "kernelspec": {
   "display_name": "Python 3",
   "language": "python",
   "name": "python3"
  },
  "language_info": {
   "codemirror_mode": {
    "name": "ipython",
    "version": 3
   },
   "file_extension": ".py",
   "mimetype": "text/x-python",
   "name": "python",
   "nbconvert_exporter": "python",
   "pygments_lexer": "ipython3",
   "version": "3.6.4"
  }
 },
 "nbformat": 4,
 "nbformat_minor": 2
}
