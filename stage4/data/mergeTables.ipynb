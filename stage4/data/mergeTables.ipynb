{
 "cells": [
  {
   "cell_type": "code",
   "execution_count": 42,
   "metadata": {
    "collapsed": true
   },
   "outputs": [],
   "source": [
    "import pandas as pd\n",
    "import numpy as np"
   ]
  },
  {
   "cell_type": "code",
   "execution_count": 43,
   "metadata": {
    "collapsed": true
   },
   "outputs": [],
   "source": [
    "df = pd.read_csv(\"/Users/abhinavgarg/Projects/Data-Science/stage4/data/matchedTuples.csv\",index_col='_id')\n"
   ]
  },
  {
   "cell_type": "code",
   "execution_count": 44,
   "metadata": {
    "collapsed": true
   },
   "outputs": [],
   "source": [
    "platformDict = {\"PC\":\"PC\", \"Xbox 360\":\"Xbox\", \"Xbox One\":\"Xbox\", \"Xbox\":\"Xbox\",\n",
    "                \"PlayStation 4\":\"PlayStation\",\"PlayStation 3\":\"PlayStation\",\n",
    "                \"PlayStation 2\":\"PlayStation\",\"PlayStation\":\"PlayStation\",\"Wii\":\"Wii\",\n",
    "                \"Macintosh\":\"Macintosh\",\"PSP\":\"PlayStation\",\"Game Boy Advance\":\"Nintendo\",\n",
    "                \"PlayStation Vita\":\"PlayStation\",\"Linux\":\"Linux\",\"DS\":\"Nintendo\",\"Android\":\"Mobile\",\n",
    "                \"iOS (iPhone/iPad)\":\"Mobile\",\"GameCube\":\"Nintendo\",\"Wii U\":\"Wii\",\"Mac\":\"Macintosh\",\n",
    "                \"Nintendo 3DS\":\"Nintendo\",\"Nintendo 64\":\"Nintendo\", \"Super Nintendo\":\"Nintendo\",\n",
    "                \"Nintendo DS\":\"Nintendo\", \"NES\":\"Nintendo\",\"Nintendo Switch\":\"Nintendo\",\n",
    "                \"Nintendo GameCube\":\"Nintendo\",\"Dreamcast\":\"Sega\",\"Mobile\":\"Mobile\",\n",
    "                \"Game Boy Color\":\"Nintendo\",\"iOS\":\"Mobile\",\"3DS\":\"Nintendo\",\"Game Boy\":\"Nintendo\",\n",
    "                \"Sega Mega Drive/Genesis\":\"Sega\", \"Saturn\":\"Sega\",\"Genesis\":\"Sega\",\n",
    "                \"Windows Mobile\":\"Mobile\",\"Sega Master System\":\"Sega\",\"Sega Saturn\":\"Sega\",\n",
    "                \"Nintendo 2DS\":\"Nintendo\",\"PlayStation VR\":\"PlayStation\",\"Commodore 64\":\"Commodore\",\n",
    "                \"Amiga\":\"Commodore\",\"BlackBerry\":\"Mobile\",\"N-Gage\":\"Mobile\",\"Sega CD\":\"Sega\",\n",
    "                \"PlayStation Now\":\"PlayStation\",\"Sega Game Gear\":\"Sega\",\"Sega 32X\":\"Sega\",\"Atari 2600\":\"Atari\",\n",
    "                \"Atari ST\":\"Atari\", \"Atari 8-bit\":\"Atari\", \"Atari 7800\":\"Atari\", \"Atari 5200\":\"Atari\",\n",
    "                \"Atari Jaguar\":\"Atari\", \"Atari Lynx\":\"Atari\",\"NeoGeo\":\"Neo Geo\", \"NeoGeo Pocket Color\":\"Neo Geo\",\n",
    "                \"Neo Geo\":\"Neo Geo\", \"Neo Geo Pocket Color\":\"Neo Geo\", \"Neo Geo CD\":\"Neo Geo\",\"Apple II\":\"Macintosh\",\n",
    "                \"Neo-Geo CD\":\"Neo Geo\",\"Windows Mobile\":\"Mobile\",\"HTC Vive\":\"Mobile\"\n",
    "               }"
   ]
  },
  {
   "cell_type": "code",
   "execution_count": 45,
   "metadata": {
    "collapsed": true
   },
   "outputs": [],
   "source": [
    "def getMergedPlatform(lplatform,rplatform):\n",
    "    mergedPlatString = lplatform+\"|\"+rplatform\n",
    "    uniquePlatforms = set()\n",
    "    for it in mergedPlatString.split('|'):\n",
    "        uniquePlatforms.add(platformDict.get(it,\"Other\"))\n",
    "    return '|'.join(list(uniquePlatforms))\n",
    "\n",
    "def getLargerString(lString,rString):\n",
    "    if len(lString) > len(rString):\n",
    "        return lString\n",
    "    return rString\n",
    "\n",
    "def getMergedSet(lplatform,rplatform):\n",
    "    mergedPlatString = lplatform+\"|\"+rplatform\n",
    "    return '|'.join(list(set(mergedPlatString.split('|'))))\n",
    "\n",
    "# def getCommonDate(ldate,rdate):\n",
    "    "
   ]
  },
  {
   "cell_type": "code",
   "execution_count": 47,
   "metadata": {
    "collapsed": true
   },
   "outputs": [],
   "source": [
    "def checkNullValue(left,right):\n",
    "    if str(left) != \"nan\" and str(right) != \"nan\":\n",
    "        return 0\n",
    "    if str(left) != \"nan\" and str(right) == \"nan\":\n",
    "        return 1\n",
    "    if str(left) == \"nan\" and str(right) != \"nan\":\n",
    "        return 2\n",
    "    return 3\n",
    "    \n",
    "def getMergedValue(left,right,parameter_type=None):\n",
    "    ret = checkNullValue(left,right)\n",
    "    if ret == 3:\n",
    "        return \"\"\n",
    "    if ret == 2:\n",
    "        return right\n",
    "    if ret == 1:\n",
    "        return left\n",
    "    if parameter_type == 'title':\n",
    "        return getLargerString(left,right)\n",
    "    if parameter_type == 'platform':\n",
    "        return getMergedPlatform(left,right)\n",
    "    return getMergedSet(left,right)\n",
    "    \n",
    "        "
   ]
  },
  {
   "cell_type": "code",
   "execution_count": 56,
   "metadata": {
    "collapsed": true
   },
   "outputs": [],
   "source": [
    "dfMerged = pd.DataFrame()\n",
    "dfMerged['ltable_ID'] = pd.Series(dtype=str)\n",
    "dfMerged['rtable_ID'] = pd.Series(dtype=str)\n",
    "dfMerged['Title'] = pd.Series(dtype=str)\n",
    "dfMerged['Developer'] = pd.Series(dtype=str)\n",
    "dfMerged['Publisher'] = pd.Series(dtype=str)\n",
    "dfMerged['Platform'] = pd.Series(dtype=str)\n",
    "dfMerged['Genre'] = pd.Series(dtype=str)\n",
    "dfMerged['ReleaseDate'] = pd.Series(dtype=str)\n",
    "dfMerged['lRating'] = pd.Series(dtype=float)\n",
    "dfMerged['rRating'] = pd.Series(dtype=float)\n",
    "\n",
    "for idx, row in df.iterrows():\n",
    "#     print(row)\n",
    "    title = getMergedValue(row['ltable_Title'], row['rtable_Title'],'title')\n",
    "    developer = getMergedValue(row['ltable_Developer'], row['rtable_Developer'])\n",
    "    publisher = getMergedValue(row['ltable_Publisher'], row['rtable_Publisher'])\n",
    "    platform = getMergedValue(row['ltable_Platform'], row['rtable_Platform'],'platform')\n",
    "    genre = getMergedValue(row['ltable_Genre'], row['rtable_Genre'])\n",
    "\n",
    "    relDateRet = checkNullValue(row['ltable_CleanRDate'],row['rtable_CleanRDate'])\n",
    "    releasedate = \"\"\n",
    "    if relDateRet == 0:\n",
    "        releasedate = row['ltable_CleanRDate']\n",
    "    elif relDateRet == 1:\n",
    "        releasedate = row['ltable_CleanRDate']\n",
    "    elif relDateRet == 2:\n",
    "        releasedate = row['rtable_CleanRDate']\n",
    "    dfMerged.loc[idx] = [row['ltable_ID'],row['rtable_ID'],title,developer,publisher,platform,genre,releasedate,row['ltable_Rating'],row['rtable_Rating']]\n",
    "\n",
    "#     row[ltable_ID],row[rtable_ID],row[ltable_ID]"
   ]
  },
  {
   "cell_type": "code",
   "execution_count": 59,
   "metadata": {
    "collapsed": true
   },
   "outputs": [],
   "source": [
    "dfMerged.head()\n",
    "dfMerged.to_csv(\"/Users/abhinavgarg/Projects/Data-Science/stage4/data/tableE.csv\",index=False)"
   ]
  }
 ],
 "metadata": {
  "kernelspec": {
   "display_name": "Python 3",
   "language": "python",
   "name": "python3"
  },
  "language_info": {
   "codemirror_mode": {
    "name": "ipython",
    "version": 3
   },
   "file_extension": ".py",
   "mimetype": "text/x-python",
   "name": "python",
   "nbconvert_exporter": "python",
   "pygments_lexer": "ipython3",
   "version": "3.6.1"
  }
 },
 "nbformat": 4,
 "nbformat_minor": 2
}
